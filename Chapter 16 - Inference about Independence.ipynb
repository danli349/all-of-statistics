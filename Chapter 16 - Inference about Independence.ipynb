{
 "cells": [
  {
   "cell_type": "markdown",
   "metadata": {},
   "source": [
    "## 16. Inference about Independence"
   ]
  },
  {
   "cell_type": "markdown",
   "metadata": {},
   "source": [
    "This chapter addresses two questions:\n",
    "\n",
    "1. How do we test if two random variables are independent?\n",
    "2. How do we estimate the strength of dependence between two random variables?"
   ]
  },
  {
   "cell_type": "markdown",
   "metadata": {},
   "source": [
    "Recall we write $Y \\text{ ⫫ } Z$ to mean that $Y$ and $Z$ are independent.\n",
    "\n",
    "When $Y$ and $Z$ are not independent, we say they are **dependent** or **associated** or **related**.\n",
    "\n",
    "Note that dependence does not mean causation:\n",
    "- Smoking is related to heart disease, and quitting smoking will reduce the chance of heart disease.\n",
    "- Owning a TV is related to lower starvation, but giving a starving person a TV does not make them not hungry."
   ]
  },
  {
   "cell_type": "markdown",
   "metadata": {},
   "source": [
    "### 16.1 Two Binary Variables"
   ]
  },
  {
   "cell_type": "markdown",
   "metadata": {},
   "source": [
    "Suppose that both $Y$ and $Z$ are binary.  Consider a data set $(Y_1, Z_1), \\dots, (Y_n, Z_n)$.  Represent the data as a two-by-two table:\n",
    "\n",
    "$$\n",
    "\\begin{array}{c|cc|c} \n",
    "      & Y = 0  & Y = 1 & \\\\\n",
    "\\hline\n",
    "Z = 0 & X_{00} & X_{01} & X_{0\\text{·}}\\\\\n",
    "Z = 1 & X_{10} & X_{11} & X_{1\\text{·}}\\\\\n",
    " \\hline\n",
    "      & X_{\\text{·}0} & X_{\\text{·}1} & n = X_{\\text{··}}\n",
    "\\end{array}\n",
    "$$\n",
    "\n",
    "where $X_{ij}$ represents the number of observations where $(Z_k, Y_k) = (i, j)$.  The dotted subscripts denote sums, e.g. $X_{i\\text{·}} = \\sum_j X_{ij}$.  Denote the corresponding probabilities by:\n",
    "\n",
    "$$\n",
    "\\begin{array}{c|cc|c} \n",
    "      & Y = 0  & Y = 1 & \\\\\n",
    "\\hline\n",
    "Z = 0 & p_{00} & p_{01} & p_{0\\text{·}}\\\\\n",
    "Z = 1 & p_{10} & p_{11} & p_{1\\text{·}}\\\\\n",
    " \\hline\n",
    "      & p_{\\text{·}0} & p_{\\text{·}1} & 1\n",
    "\\end{array}\n",
    "$$\n",
    "\n",
    "where $p_{ij} = \\mathbb{P}(Z = i, Y = j)$.  Let $X = (X_{00}, X_{01}, X_{10}, X_{11})$ denote the vector of counts.  Then $X \\sim \\text{Multinomial}(n, p)$ where $p = (p_{00}, p_{01}, p_{10}, p_{11})$."
   ]
  },
  {
   "cell_type": "markdown",
   "metadata": {},
   "source": [
    "The **odds ratio** is defined to be\n",
    "\n",
    "$$ \\psi = \\frac{p_{00} p_{11}}{p_{01} p_{10}}$$\n",
    "\n",
    "The **log odds ratio** is defined to be\n",
    "\n",
    "$$ \\gamma = \\log \\psi$$"
   ]
  },
  {
   "cell_type": "markdown",
   "metadata": {},
   "source": [
    "**Theorem 16.2**.  The following statements are equivalent:\n",
    "\n",
    "1. $Y \\text{ ⫫ } Z$\n",
    "2. $\\psi = 1$\n",
    "3. $\\gamma = 0$\n",
    "4. For $i, j \\in \\{ 0, 1 \\}$, $p_{ij} = p_{i\\text{·}} p_{\\text{·}j}$"
   ]
  },
  {
   "cell_type": "markdown",
   "metadata": {},
   "source": [
    "Now consider testing\n",
    "\n",
    "$$\n",
    "H_0: Y \\text{ ⫫ } Z\n",
    "\\quad \\text{versus} \\quad\n",
    "H_1: \\text{not} (Y \\text{ ⫫ } Z)\n",
    "$$\n",
    "\n",
    "First consider the likelihood ratio test.  Under $H_1$, $X \\sim \\text{Multinomial}(n, p)$ and the MLE is $\\hat{p} = X / n$.  Under $H_0$, again $X \\sim \\text{Multinomial}(n, p)$ but $p$ is subjected to the constraint $p_{ij} = p_{i.} p_{.j}$.  This leads to the following test."
   ]
  },
  {
   "cell_type": "markdown",
   "metadata": {},
   "source": [
    "**Theorem 16.3 (Likelihood Ratio Test for Independence in a 2-by-2 table)**. \n",
    "Let\n",
    "\n",
    "$$ T = 2 \\sum_{i=0}^1 \\sum_{j=0}^1 X_{ij} \\log \\left( \\frac{X_{ij} X_{\\text{··}}}{X_{i\\text{·}} X_{\\text{·}j}} \\right)$$\n",
    "\n",
    "Under $H_0$, $T \\leadsto \\chi_1^2$.  Thus, an approximate level $\\alpha$ test is obtained by rejecting $H_0$ when $T > \\chi_{1, \\alpha}^2$."
   ]
  },
  {
   "cell_type": "markdown",
   "metadata": {},
   "source": [
    "**Theorem 16.4 (Pearson's $\\chi^2$ test for Independence in a 2-by-2 table)**. Let\n",
    "\n",
    "$$ U = \\sum_{i=0}^1 \\sum_{j=0}^1 \\frac{(X_{ij} - E_{ij})^2}{E_{ij}} $$\n",
    "\n",
    "where\n",
    "\n",
    "$$ E_{ij} = \\frac{X_{i\\text{·}} X_{\\text{·}j}}{n}$$\n",
    "\n",
    "Under $H_0$, $U \\leadsto \\chi_1^2$.  Thus, an approximate level $\\alpha$ test is obtained by rejecting $H_0$ when $U > \\chi_{1, \\alpha}^2$."
   ]
  },
  {
   "cell_type": "markdown",
   "metadata": {},
   "source": [
    "Here's the intuition for the Pearson test: Under $H_0$, $p_{ij} = p_{i\\text{·}} p_{\\text{·}j}$, so the MLE of $p_{ij}$ is $\\hat{p}_{ij} = \\hat{p}_{i\\text{·}} \\hat{p}_{\\text{·}j} = \\frac{X_{i\\text{·}}}{n} \\frac{X_{\\text{·}j}}{n}$.  Thus, the expected number of observations in the $(i, j)$ cell is $E_{ij} = n \\hat{p}_{ij} = \\frac{X_{i\\text{·}} X_{\\text{·}j}}{n}$.  The statistic $U$ compares the observed and expected counts."
   ]
  },
  {
   "cell_type": "markdown",
   "metadata": {},
   "source": [
    "**Theorem 16.6**. The MLE's of $\\psi$ and $\\gamma$ are\n",
    "\n",
    "$$\n",
    "\\hat{\\psi} = \\frac{X_{00} X_{11}}{X_{01} X_{10}}\n",
    ", \\quad\n",
    "\\hat{\\gamma} = \\log \\hat{\\psi}\n",
    "$$\n",
    "\n",
    "The asymptotic standard errors (computed from the delta method) are\n",
    "\n",
    "$$\n",
    "\\begin{align}\n",
    "\\hat{\\text{se}}(\\hat{\\psi}) &= \\sqrt{\\frac{1}{X_{00}} + \\frac{1}{X_{01}} + \\frac{1}{X_{10}} + \\frac{1}{X_{11}}}\\\\\n",
    "\\hat{\\text{se}}(\\hat{\\gamma}) &= \\hat{\\psi} \\hat{\\text{se}}(\\hat{\\gamma})\n",
    "\\end{align}\n",
    "$$"
   ]
  },
  {
   "cell_type": "markdown",
   "metadata": {},
   "source": [
    "Yet another test of independence is the Wald test for $\\gamma = 0$ given by $W = (\\hat{\\gamma} - 0) / \\hat{\\text{se}}(\\hat{\\gamma})$. \n",
    "\n",
    "A $1 - \\alpha$ confidence interval for $\\gamma$ is $\\hat{\\gamma} \\pm z_{\\alpha/2} \\hat{\\text{se}}(\\hat{\\gamma})$.\n",
    "\n",
    "A $1 - \\alpha$ confidence interval for $\\psi$ can be obtained in two ways.  First, we could use $\\hat{\\psi} \\pm z_{\\alpha/2} \\hat{\\text{se}}(\\hat{\\psi})$.  Second, since $\\psi = e^{\\gamma}$ we could use  $\\exp \\{\\hat{\\gamma} \\pm z_{\\alpha/2} \\hat{\\text{se}}(\\hat{\\gamma})\\}$.  This second method is usually more accurate."
   ]
  },
  {
   "cell_type": "markdown",
   "metadata": {},
   "source": [
    "### 16.2 Interpreting the Odds Ratios"
   ]
  },
  {
   "cell_type": "markdown",
   "metadata": {},
   "source": [
    "Suppose event $A$ has probability $\\mathbb{P}(A)$.  The odds of $A$ are defined as\n",
    "\n",
    "$$\\text{odds}(A) = \\frac{\\mathbb{P}(A)}{1 - \\mathbb{P}(A)}$$\n",
    "\n",
    "It follows that\n",
    "\n",
    "$$\\mathbb{P}(A) = \\frac{\\text{odds}(A)}{1 + \\text{odds}(A)}$$\n",
    "\n",
    "Let $E$ be the event that someone is exposed to something (smoking, radiation, etc) and let $D$ be the event that they get a disease.  The odds of getting the disease given exposure are:\n",
    "\n",
    "$$\\text{odds}(D | E) = \\frac{\\mathbb{P}(D | E)}{1 - \\mathbb{P}(D | E)}$$\n",
    "\n",
    "and the odds of getting the disease given non-exposure are:\n",
    "\n",
    "$$\\text{odds}(D | E^c) = \\frac{\\mathbb{P}(D | E^c)}{1 - \\mathbb{P}(D | E^c)}$$\n",
    "\n",
    "The **odds ratio** is defined to be\n",
    "\n",
    "$$\\psi = \\frac{\\text{odds}(D | E)}{\\text{odds}(D | E^c)}$$\n",
    "\n",
    "If $\\psi = 1$ then the disease probability is the same for exposed and unexposed; this implies these events are independent.  Recall that the log-odds ratio is defined as $\\gamma = \\log \\psi$.  Independence corresponds to $\\gamma = 0$."
   ]
  },
  {
   "cell_type": "markdown",
   "metadata": {},
   "source": [
    "Consider this table of probabilities:\n",
    "\n",
    "$$\n",
    "\\begin{array}{c|cc|c} \n",
    "      & D^c    & D      & \\\\\n",
    "\\hline\n",
    "E^c   & p_{00} & p_{01} & p_{0\\text{·}}\\\\\n",
    "E     & p_{10} & p_{11} & p_{1\\text{·}}\\\\\n",
    " \\hline\n",
    "      & p_{\\text{·}0} & p_{\\text{·}1} & 1\n",
    "\\end{array}\n",
    "$$\n",
    "\n",
    "Denote the data by\n",
    "\n",
    "$$\n",
    "\\begin{array}{c|cc|c} \n",
    "      & D^c    & D      & \\\\\n",
    "\\hline\n",
    "E^c   & X_{00} & X_{01} & X_{0\\text{·}}\\\\\n",
    "E     & X_{10} & X_{11} & X_{1\\text{·}}\\\\\n",
    " \\hline\n",
    "      & X_{\\text{·}0} & X_{\\text{·}1} & X_{\\text{··}}\n",
    "\\end{array}\n",
    "$$\n",
    "\n",
    "Now\n",
    "\n",
    "$$\n",
    "\\mathbb{P}(D | E) = \\frac{p_{11}}{p_{10} + p_{11}}\n",
    "\\quad \\text{and} \\quad\n",
    "\\mathbb{P}(D | E^c) = \\frac{p_{01}}{p_{00} + p_{01}}\n",
    "$$\n",
    "\n",
    "and so\n",
    "\n",
    "$$\n",
    "\\text{odds}(D | E) = \\frac{p_{11}}{p_{10}}\n",
    "\\quad \\text{and} \\quad\n",
    "\\text{odds}(D | E^c) = \\frac{p_{01}}{p_{00}}\n",
    "$$\n",
    "\n",
    "and therefore\n",
    "\n",
    "$$ \\psi = \\frac{p_{11}p_{00}}{p_{01}p_{10}}$$"
   ]
  },
  {
   "cell_type": "markdown",
   "metadata": {},
   "source": [
    "To estimate the parameters, we have to consider how the data were collected.  There are three methods."
   ]
  },
  {
   "cell_type": "markdown",
   "metadata": {},
   "source": [
    "**Multinomial Sampling**.  We draw a sample from the population and, for each sample, record their exposure and disease status.  In this case, \n",
    "$X = (X_{00}, X_{01}, X_{10}, X_{11}) \\sim \\text{Multinomial}(n, p)$.  We then estimates the probabilities in the table by $$\\hat{p}_{ij} = X_{ij} / n$$ and\n",
    "\n",
    "$$ \\hat{\\psi} = \\frac{\\hat{p}_{11} \\hat{p}_{00}}{\\hat{p}_{01} \\hat{p}_{10}} = \\frac{X_{11} X_{00}}{X_{01} X_{10}}$$"
   ]
  },
  {
   "cell_type": "markdown",
   "metadata": {},
   "source": [
    "**Prospective Sampling (Cohort Sampling)**.  We get some exposed and unexposed people and count the number with disease within each group.  Thus,\n",
    "\n",
    "$$\n",
    "X_{01} \\sim \\text{Binomial}(X_{0\\text{·}}, \\mathbb{P}(D | E^c))\n",
    "\\quad \\text{and} \\quad\n",
    "X_{11} \\sim \\text{Binomial}(X_{1\\text{·}}, \\mathbb{P}(D | E))\n",
    "$$\n",
    "\n",
    "In this case we should write small letters $x_{0\\text{·}},  x_{1\\text{·}}$ instead of capital letters $ X_{0\\text{·}},  X_{1\\text{·}}$ since they are fixed and not random, but we'll keep using capital letters for notational simplicity.\n",
    "\n",
    "We can estimate $\\mathbb{P}(D | E))$ and $\\mathbb{P}(D | E^c)$ but we cannot estimate all probabilities in the table.  Still, we can estimate $\\psi$.  Now:\n",
    "\n",
    "$$\\hat{\\mathbb{P}}(D | E) = \\frac{X_{11}}{X_{1\\text{·}}}\n",
    "\\quad \\text{and} \\quad\n",
    "\\hat{\\mathbb{P}}(D | E^c) = \\frac{X_{01}}{X_{0\\text{·}}}\n",
    "$$\n",
    "\n",
    "Thus,\n",
    "\n",
    "$$ \\hat{\\psi} = \\frac{X_{11} X_{00}}{X_{01} X_{10}}$$\n",
    "\n",
    "as before."
   ]
  },
  {
   "cell_type": "markdown",
   "metadata": {},
   "source": [
    "**Case-Control (Retrospective Sampling)**.  Here we get some diseased and non-diseased people and we observe how many are exposed.  This is much more efficient if the disease is rare.  Hence,\n",
    "\n",
    "$$\n",
    "X_{10} \\sim \\text{Binomial}(X_{\\text{·}0}, \\mathbb{P}(E | D^c))\n",
    "\\quad \\text{and} \\quad\n",
    "X_{11} \\sim \\text{Binomial}(X_{\\text{·}1}, \\mathbb{P}(E | D))\n",
    "$$\n",
    "\n",
    "From this data we can estimate $\\mathbb{P}(E | D)$ and $\\mathbb{P}(E | D^c)$.  Surprisingly, we can still estimate $\\psi$.  To understand why, note that\n",
    "\n",
    "$$\n",
    "\\mathbb{P}(E | D) = \\frac{p_{11}}{p_{01} + p_{11}},\n",
    "\\quad 1 - \\mathbb{P}(E | D) = \\frac{p_{01}}{p_{01} + p_{11}},\n",
    "\\quad \\text{odds}(E | D) = \\frac{p_{11}}{p_{01}}\n",
    "$$\n",
    "\n",
    "By a similar argument,\n",
    "\n",
    "$$\\text{odds}(E | D^c) = \\frac{p_{10}}{p_{00}}$$\n",
    "\n",
    "Hence,\n",
    "\n",
    "$$\\frac{\\text{odds}(E | D)}{\\text{odds}(E | D^c)} = \\frac{p_{11} p_{00}}{p_{01} p_{10}} = \\psi$$\n",
    "\n",
    "Therefore,\n",
    "\n",
    "$$\\hat{\\psi} = \\frac{X_{11} X_{00}}{X_{01} X_{10}}$$"
   ]
  },
  {
   "cell_type": "markdown",
   "metadata": {},
   "source": [
    "In all three methods, the estimate of $\\psi$ turns out to be the same."
   ]
  },
  {
   "cell_type": "markdown",
   "metadata": {},
   "source": [
    "It is tempting to try to estimate $\\mathbb{P}(D | E) - \\mathbb{P}(D | E^c)$.  In a case-control design, this quantity is not estimable.  To see this, we apply Bayes' theorem to get\n",
    "\n",
    "$$\\mathbb{P}(D | E) - \\mathbb{P}(D | E^c) = \\frac{\\mathbb{P}(E | D) \\mathbb{P}(D))}{\\mathbb{P}(E)} - \\frac{\\mathbb{P}(E^c | D) \\mathbb{P}(D)}{\\mathbb{P}(E^c)}$$\n",
    "\n",
    "Because of the way we obtained the data, $\\mathbb{P}(D)$ is not estimable from the data.\n",
    "\n",
    "However, we can estimate $\\xi = \\mathbb{P}(D | E) / \\mathbb{P}(D | E^c)$, which is called the **relative risk**, under the **rare disease assumption**."
   ]
  },
  {
   "cell_type": "markdown",
   "metadata": {},
   "source": [
    "**Theorem 16.9**.  Let $\\xi = \\mathbb{P}(D | E) / \\mathbb{P}(D | E^c)$.  Then\n",
    "\n",
    "$$ \\frac{\\psi}{\\xi} \\rightarrow 1$$\n",
    "\n",
    "as $\\mathbb{P}(D) \\rightarrow 0$."
   ]
  },
  {
   "cell_type": "markdown",
   "metadata": {},
   "source": [
    "Thus, under the rare disease assumption, the relative risk is approximately the same as the odds ratio, which we can estimate.\n",
    "\n",
    "In a randomized experiment, we can interpret a strong association, that is $\\psi \\neq 1$, as a causal relationship.  In an observational (non-randomized) study, the association can be due to other unobserved **confounding** variables.  We'll discuss causation in more detail later."
   ]
  },
  {
   "cell_type": "markdown",
   "metadata": {},
   "source": [
    "### 16.3 Two Discrete Variables"
   ]
  },
  {
   "cell_type": "markdown",
   "metadata": {},
   "source": [
    "Now suppose that $Y \\in \\{ 1, \\dots, I \\}$ and $Z \\in \\{ 1, \\dots, J \\}$ are two discrete variables.  The data can be represented by an $I \\times J$ table of contents:"
   ]
  },
  {
   "cell_type": "markdown",
   "metadata": {},
   "source": [
    "$$\n",
    "\\begin{array}{c|cccccc|c} \n",
    "       & Y = 1  & Y = 2  & \\cdots & Y = j & \\cdots & Y = J   & \\\\\n",
    "\\hline\n",
    "Z = 1 & X_{11}  & X_{12} & \\cdots & X_{1j} & \\cdots & X_{1J} & X_{1\\text{·}}\\\\\n",
    "Z = 2 & X_{21}  & X_{22} & \\cdots & X_{2j} & \\cdots & X_{2J} & X_{2\\text{·}}\\\\\n",
    "\\vdots & \\vdots & \\vdots & \\vdots & \\vdots & \\vdots & \\vdots & \\vdots\\\\\n",
    "Z = i & X_{i1}  & X_{i2} & \\cdots & X_{ij} & \\cdots & X_{iJ} & X_{i\\text{·}}\\\\\n",
    "\\vdots & \\vdots & \\vdots & \\vdots & \\vdots & \\vdots & \\vdots & \\vdots\\\\\n",
    "Z = I & X_{I1}  & X_{I2} & \\cdots & X_{Ij} & \\cdots & X_{IJ} & X_{I\\text{·}}\\\\\n",
    " \\hline\n",
    "      & X_{\\text{·}1} & X_{\\text{·}1} & \\cdots & X_{\\text{·}j} & \\cdots & X_{\\text{·}J} & n\n",
    "\\end{array}\n",
    "$$\n"
   ]
  },
  {
   "cell_type": "markdown",
   "metadata": {},
   "source": [
    "Consider testing\n",
    "\n",
    "$$\n",
    "H_0: Y \\text{ ⫫ } Z\n",
    "\\quad \\text{versus} \\quad\n",
    "H_1: \\text{not } H_0\n",
    "$$"
   ]
  },
  {
   "cell_type": "markdown",
   "metadata": {},
   "source": [
    "**Theorem 16.10**.  Let\n",
    "\n",
    "$$ T = 2 \\sum_{i=1}^I \\sum_{j=1}^J X_{ij} \\log \\left( \\frac{X_{ij} X_{\\text{··}}}{X_{i\\text{·}} X_{\\text{·}j}} \\right) $$\n",
    "\n",
    "The limiting distribution of $T$ under the null hypothesis of independence is $\\chi^2_\\nu$ where $\\nu = (I - 1)(J - 1)$.\n",
    "\n",
    "Pearson's $\\chi^2$ test statistic is\n",
    "\n",
    "$$ U = \\sum_{i=1}^I \\sum_{j=1}^J \\frac{(n_{ij} - E_{ij})^2}{E_{ij}}$$\n",
    "\n",
    "Asymptotically, under $H_0$, $U$ has a $\\chi^2_\\nu$ distribution where $\\nu = (I - 1)(J - 1)$."
   ]
  },
  {
   "cell_type": "markdown",
   "metadata": {},
   "source": [
    "There are a variety of ways to quantify the strength of dependence between two discrete variables $Y$ and $Z$.  Most of them are not very intuitive.  The one we shall use is not standard but is more interpretable."
   ]
  },
  {
   "cell_type": "markdown",
   "metadata": {},
   "source": [
    "We define\n",
    "\n",
    "$$\\delta(Y, Z) = \\max_{A, B} \\Big|\\; \\mathbb{P}_{Y, Z}(Y \\in A, Z \\in B) - \\mathbb{P}_Y(Y \\in A)\\mathbb{P}_Z(Z \\in B) \\;\\Big|$$\n",
    "\n",
    "where the maximum is over all pairs of events $A$ and $B$.\n",
    "\n",
    "*Note: the original version on the book contains a typo; it is originally stated as*\n",
    "\n",
    "$$\\delta(Y, Z) = \\max_{A, B} \\Big|\\; \\mathbb{P}_{Y, Z}(Y \\in A, Z \\in B) - \\mathbb{P}_Y(Y \\in A) - \\mathbb{P}_Z(Z \\in B) \\;\\Big|$$\n",
    "\n",
    "*For more context, this is a specific case of the \"total variation distance\" $\\delta(P_1, P_2)$ between the probability metrics $P_1(Y, Z) = \\mathbb{P}_{Y, Z}(Y \\in A, Z \\in B)$ and $P_2(Y, Z) = \\mathbb{P}_Y(Y \\in A)\\mathbb{P}_Z(Z \\in B)$.*"
   ]
  },
  {
   "cell_type": "markdown",
   "metadata": {},
   "source": [
    "**Theorem 16.12**.  Properties of $\\delta(Y, Z)$:\n",
    "\n",
    "1. $0 \\leq \\delta(Y, Z) \\leq 1$\n",
    "2. $\\delta(Y, Z) = 0$ if and only if $Y \\text{ ⫫ } Z$\n",
    "3. The following identity holds:\n",
    "\n",
    "$$ \\delta(X, Y) = \\frac{1}{2} \\sum_{i=1}^I \\sum_{j=1}^J \\Big|\\; p_{ij} - p_{i\\text{·}} p_{\\text{·}j} \\;\\Big|$$\n",
    "\n",
    "4.  The MLE of $\\delta$ is\n",
    "\n",
    "$$ \\hat{\\delta}(X, Y) = \\frac{1}{2} \\sum_{i=1}^I \\sum_{j=1}^J \\Big|\\; \\hat{p}_{ij} - \\hat{p}_{i\\text{·}} \\hat{p}_{\\text{·}j} \\;\\Big|$$\n",
    "\n",
    "where\n",
    "\n",
    "$$\n",
    "\\hat{p}_{ij} = \\frac{X_{ij}}{n},\n",
    "\\quad \\hat{p}_{i\\text{·}} = \\frac{X_{i\\text{·}}}{n},\n",
    "\\quad \\hat{p}_{\\text{·}j} = \\frac{X_{\\text{·}j}}{n}\n",
    "$$"
   ]
  },
  {
   "cell_type": "markdown",
   "metadata": {},
   "source": [
    "The interpretation of $\\delta$ is this: if one person makes probability statements assuming independence and another person makes probability statements without assuming independence, their probability statements may differ by as much as $\\delta$.  Here's a suggested scale for interpreting $\\delta$:\n",
    "\n",
    "| range        | interpretation             |\n",
    "|--------------|----------------------------|\n",
    "| 0 to 0.01    | negligible association     |\n",
    "| 0.01 to 0.05 | non-negligible association |\n",
    "| 0.05 to 0.1  | substantial association    |\n",
    "| over 0.1     | very strong association    |"
   ]
  },
  {
   "cell_type": "markdown",
   "metadata": {},
   "source": [
    "A confidence interval for $\\delta$ can be obtained by bootstrapping.  The steps are:\n",
    "\n",
    "1. Draw $X^* \\sim \\text{Multinomial}(n, \\hat{p})$;\n",
    "2. Compute $\\hat{p}_ij, \\hat{p}_{i\\text{·}}, \\hat{p}_{\\text{·}j}$;\n",
    "3. Compute $\\delta^*$;\n",
    "4. Repeat.\n",
    "\n",
    "Now we use any of the methods we learned earlier for constructing bootstrap confidence intervals.  However, we should not use a Wald interval in this case.  The reason is that if $Y$ and $Z$ are independent then $\\delta = 0$ and we are on the boundary of the parameter space.  In this case, the Wald method is not valid."
   ]
  },
  {
   "cell_type": "markdown",
   "metadata": {},
   "source": [
    "### 16.4 Two Continuous Variables"
   ]
  },
  {
   "cell_type": "markdown",
   "metadata": {},
   "source": [
    "Now suppose that $Y$ and $Z$ are both continuous.  If we assume that the joint distribution of $Y$ and $Z$ is bivariate Normal, then we measure the dependence between $Y$ and $Z$ by means of the correlation coefficient $\\rho$.  Tests, estimates, and confidence intervals for $\\rho$ in the Normal case are given in the previous chapter.  If we do not assume normality, then we need a nonparametric method for asserting dependence."
   ]
  },
  {
   "cell_type": "markdown",
   "metadata": {},
   "source": [
    "Recall that the correlation is\n",
    "\n",
    "$$\\rho = \\frac{\\mathbb{E}((X_1 - \\mu_1)(X_2 - \\mu_2))}{\\sigma_1 \\sigma_2} $$\n",
    "\n",
    "A nonparametric estimator of $\\rho$ is the plug-in estimator which is:\n",
    "\n",
    "$$\\hat{\\rho} = \\frac{\\sum_{i=1}^n (X_{1i} - \\overline{X}_1)(X_{2i} - \\overline{X}_2)}{\\sqrt{\\sum_{i=1}^n (X_{1i} - \\overline{X}_1)^2 \\sum_{i=1}^n (X_{2i} - \\overline{X}_2)^2}} $$\n",
    "\n",
    "which is just the sample correlation.  A confidence interval can be constructed using the bootstrap.  A test for $\\rho = 0$ can be based on the Wald test using the bootstrap to estimate the standard error."
   ]
  },
  {
   "cell_type": "markdown",
   "metadata": {},
   "source": [
    "The plug-in approach is useful for large samples.  For small samples, we measure the correlation using the **Spearman rank correlation coefficient** $\\hat{\\rho}_S$.  We simply replace the data by their ranks, ranking each variable separately, then compute the correlation coefficient of the ranks.\n",
    "\n",
    "To test the null hypothesis that $\\rho_S = 0$, we need the distribution of $\\hat{\\rho}_S$ under the null hypothesis.  This can be obtained by simulation.  We fix the ranks of the first variable as $1, 2, \\dots, n$.  The ranks of the second variable are chosen at random from the set of $n!$ possible orderings, then we compute the correlation.  This is repeated many times, and the resulting distribution $\\mathbb{P}_0$ is the null distribution of $\\hat{\\rho}_S$. The p-value for the test is $\\mathbb{P}_0(|R| > |\\hat{\\rho}_S|)$ where $R$ is drawn from the null distribution $\\mathbb{P}_0$."
   ]
  },
  {
   "cell_type": "markdown",
   "metadata": {},
   "source": [
    "### 16.5 One Continuous Variable and One Discrete"
   ]
  },
  {
   "cell_type": "markdown",
   "metadata": {},
   "source": [
    "Suppose that $Y \\in \\{ 1, \\dots, I \\}$ is discrete and $Z$ is continuous.  Let $F_i(z) = \\mathbb{P}(Z \\leq z | Y = i)$ denote the CDF of $Z$ conditional on $Y = i$."
   ]
  },
  {
   "cell_type": "markdown",
   "metadata": {},
   "source": [
    "**Theorem 16.15**.  When $Y \\in \\{ 1, 2, \\dots, I \\}$ is discrete and $Z$ is continuous, then $Y \\text{ ⫫ } Z$ if and only if $F_1 = F_2 = \\dots = F_I$."
   ]
  },
  {
   "cell_type": "markdown",
   "metadata": {},
   "source": [
    "It follows that to test for independence, we need to test\n",
    "\n",
    "$$ \n",
    "H_0: F_1 = \\dots = F_I\n",
    "\\quad \\text{versus} \\quad\n",
    "H_1: \\text{not } H_0\n",
    "$$"
   ]
  },
  {
   "cell_type": "markdown",
   "metadata": {},
   "source": [
    "For simplicity, we consider the case where $I = 2$.  To test the null hypothesis that $F_1 = F_2$ we will use the **two sample Kolmogorov-Smirnov test**.  \n",
    "\n",
    "Let $n_k$ denote the number of observations for which $Y_i = k$.  Let\n",
    "\n",
    "$$\\hat{F}_k(z) = \\frac{1}{n_k} \\sum_{i=1}^n I(Z_i \\leq z) I(Y_i = k)$$\n",
    "\n",
    "denote the empirical distribution function of $Z$ given $Y = k$.  Define the test statistic\n",
    "\n",
    "$$ D = \\sup_x | \\hat{F}_1(x) - \\hat{F}_2(x) |$$"
   ]
  },
  {
   "cell_type": "markdown",
   "metadata": {},
   "source": [
    "**Theorem 16.16**.  Let\n",
    "\n",
    "$$ H(t) = 1 - 2 \\sum_{j=1}^\\infty (-1)^{j-1} e^{-2j^2t^2} $$\n",
    "\n",
    "Under the null hypothesis that $F_1 = F_2$,\n",
    "\n",
    "$$ \\lim_{n \\rightarrow \\infty} \\mathbb{P} \\left( \\sqrt{\\frac{n_1 n_2}{n_1 + n_2}} D \\leq t \\right) = H(t) $$"
   ]
  },
  {
   "cell_type": "markdown",
   "metadata": {},
   "source": [
    "It follows from the theorem than an approximate level $\\alpha$ test is obtained by rejecting $H_0$ when\n",
    "\n",
    "$$ \\sqrt{\\frac{n_1 n_2}{n_1 + n_2}} D > H^{-1}(1 - \\alpha) $$"
   ]
  },
  {
   "cell_type": "markdown",
   "metadata": {},
   "source": [
    "### 16.7 Exercises"
   ]
  },
  {
   "cell_type": "markdown",
   "metadata": {},
   "source": [
    "**Exercise 16.7.1**.  Prove Theorem 16.2.\n",
    "\n",
    "The following statements are equivalent:\n",
    "\n",
    "1. $Y \\text{ ⫫ } Z$\n",
    "2. $\\psi = 1$\n",
    "3. $\\gamma = 0$\n",
    "4. For $i, j \\in \\{ 0, 1 \\}$, $p_{ij} = p_{i\\text{·}} p_{\\text{·}j}$"
   ]
  },
  {
   "cell_type": "markdown",
   "metadata": {},
   "source": [
    "**Solution**.\n",
    "\n",
    "$Y$ and $Z$ are independent if and only if $\\mathbb{P}(Y = j | Z = i) = \\mathbb{P}(Y = j) \\mathbb{P}(Z = i)$ for all $i$ and $j$, so (1) and (4) are equivalent.\n",
    "\n",
    "$\\gamma = \\log \\psi$, so (2) and (3) are equivalent.\n",
    "\n",
    "Finally,\n",
    "$$\n",
    "\\begin{array}{c|cc|c} \n",
    "      & Y = 0  & Y = 1 & \\\\\n",
    "\\hline\n",
    "Z = 0 & p_{00} & p_{01} & p_{0\\text{·}}\\\\\n",
    "Z = 1 & p_{10} & p_{11} & p_{1\\text{·}}\\\\\n",
    " \\hline\n",
    "      & p_{\\text{·}0} & p_{\\text{·}1} & 1\n",
    "\\end{array}\n",
    "$$\n",
    "The **odds ratio** is defined to be\n",
    "\n",
    "$$ \\psi = \\frac{p_{00} p_{11}}{p_{01} p_{10}}$$\n",
    "\n",
    "The **log odds ratio** is defined to be\n",
    "\n",
    "$$ \\gamma = \\log \\psi$$\n",
    "\n",
    "$$\n",
    "\\begin{align}\n",
    "&\\psi = 1\\\\\n",
    "&\\Leftrightarrow \\frac{\\text{odds}(Y | Z = 1)}{\\text{odds}(Y | Z = 0)} = 1 \\\\\n",
    "&\\Leftrightarrow \\text{odds}(Y | Z = 1) = \\text{odds}(Y | Z = 0) \\\\\n",
    "&\\Leftrightarrow \\mathbb{P}(Y | Z = 1) = \\mathbb{P}(Y | Z = 0) \\\\\n",
    "&\\Leftrightarrow Y \\text{ ⫫ } Z\n",
    "\\end{align}\n",
    "$$\n",
    "\n",
    "so (1) and (2) are equivalent.\n",
    "\n",
    "Therefore, all statements are equivalent."
   ]
  },
  {
   "cell_type": "markdown",
   "metadata": {},
   "source": [
    "**Exercise 16.7.2**.  Prove Theorem 16.3.\n",
    "\n",
    "Let\n",
    "\n",
    "$$ T = 2 \\sum_{i=0}^1 \\sum_{j=0}^1 X_{ij} \\log \\left( \\frac{X_{ij} X_{\\text{··}}}{X_{i\\text{·}} X_{\\text{·}j}} \\right)$$\n",
    "\n",
    "Under $H_0$, $T \\leadsto \\chi_1^2$.  Thus, an approximate level $\\alpha$ test is obtained by rejecting $H_0$ when $T > \\chi_{1, \\alpha}^2$."
   ]
  },
  {
   "cell_type": "markdown",
   "metadata": {},
   "source": [
    "**Solution**. Let $E_{ij} = \\frac{X_{i\\text{·}} X_{\\text{·}j}}{X_\\text{··}}$.  We can rewrite the test statistic as\n",
    "\n",
    "$$ T = 2 \\sum_{i, j} X_{ij} \\log \\frac{X_{ij}}{E_{ij}} $$\n",
    "\n",
    "The interpretation of $E_{ij}$ is that it is the expected count in cell $(i, j)$ under $H_0$:\n",
    "\n",
    "$$ \n",
    "\\begin{align}\n",
    "\\mathbb{E}_{H_0}(Y = i, Z = j) &= n \\mathbb{P}_{H_0}(Y = i, Z = j) \\\\\n",
    "&= n \\mathbb{P}(Y = i) \\mathbb{P}(Z = j) \\\\\n",
    "&= n \\hat{p}_{i\\text{·}} \\hat{p}_{\\text{·}j} \\\\\n",
    "&= X_{\\text{··}} \\frac{X_{i\\text{·}}}{X_{\\text{··}}} \\frac{X_{\\text{·}j}}{X_{\\text{··}}} \\\\\n",
    "&= E_{ij}\n",
    "\\end{align}\n",
    "$$\n",
    "\n",
    "Now, the result will follow by applying the log-likelihood test between $H_0$ and $H_1$.  The test statistic is:\n",
    "\n",
    "$$ 2 \\log \\frac{\\mathcal{L}(\\tilde{p} | X)}{\\mathcal{L}(\\hat{p} | X)} \n",
    "= 2 \\log \\frac{\\prod_{i, j} \\tilde{p}_{ij}^{X_{ij}}}{\\prod_{i, j} \\hat{p}_{ij}^{X_{ij}}}$$\n",
    "\n",
    "where $\\tilde{p}$ is the MLE under $H_1$ and $\\hat{p}$ is the MLE under $H_0$.  But we have:\n",
    "\n",
    "$$\n",
    "\\tilde{p}_{ij} = \\frac{X_{ij}}{n}\n",
    "\\quad \\text{and} \\quad\n",
    "\\hat{p}_{ij} = \\frac{E_{ij}}{n}\n",
    "$$\n",
    "\n",
    "Substituting the MLEs on the log-likelihood ratio, we get\n",
    "\n",
    "$$ 2 \\log \\frac{\\mathcal{L}(\\tilde{p} | X)}{\\mathcal{L}(\\hat{p} | X)} \n",
    "= 2 \\log \\prod_{i, j} \\left( \\frac{X_{ij}}{E_{ij}} \\right)^{X_{ij}}\n",
    "= 2 \\sum_{i, j} X_{ij} \\log \\frac{X_{ij}}{E_{ij}}\n",
    "$$\n",
    "\n",
    "which is the desired result.\n",
    "\n",
    "*Reference: \"G-test.\" Wikipedia: The Free Encyclopedia. Wikimedia Foundation, Inc. 22 July 2004. Web. 17 Mar. 2020, en.wikipedia.org/w/index.php?title=G-test&oldid=914538756*"
   ]
  },
  {
   "cell_type": "markdown",
   "metadata": {},
   "source": [
    "**Exercise 16.7.3**.  Prove Theorem 16.9.\n",
    "\n",
    "Let $\\xi = \\mathbb{P}(D | E) / \\mathbb{P}(D | E^c)$.  Then\n",
    "\n",
    "$$ \\frac{\\psi}{\\xi} \\rightarrow 1$$\n",
    "\n",
    "as $\\mathbb{P}(D) \\rightarrow 0$."
   ]
  },
  {
   "cell_type": "markdown",
   "metadata": {},
   "source": [
    "**Solution**.  \n",
    "\n",
    "Consider this table of probabilities:\n",
    "\n",
    "$$\n",
    "\\begin{array}{c|cc|c} \n",
    "      & D^c    & D      & \\\\\n",
    "\\hline\n",
    "E^c   & p_{00} & p_{01} & p_{0\\text{·}}\\\\\n",
    "E     & p_{10} & p_{11} & p_{1\\text{·}}\\\\\n",
    " \\hline\n",
    "      & p_{\\text{·}0} & p_{\\text{·}1} & 1\n",
    "\\end{array}\n",
    "$$\n",
    "\n",
    "Denote the data by\n",
    "\n",
    "$$\n",
    "\\begin{array}{c|cc|c} \n",
    "      & D^c    & D      & \\\\\n",
    "\\hline\n",
    "E^c   & X_{00} & X_{01} & X_{0\\text{·}}\\\\\n",
    "E     & X_{10} & X_{11} & X_{1\\text{·}}\\\\\n",
    " \\hline\n",
    "      & X_{\\text{·}0} & X_{\\text{·}1} & X_{\\text{··}}\n",
    "\\end{array}\n",
    "$$\n",
    "\n",
    "Now\n",
    "\n",
    "$$\n",
    "\\mathbb{P}(D | E) = \\frac{p_{11}}{p_{10} + p_{11}}\n",
    "\\quad \\text{and} \\quad\n",
    "\\mathbb{P}(D | E^c) = \\frac{p_{01}}{p_{00} + p_{01}}\n",
    "$$\n",
    "\n",
    "and so\n",
    "\n",
    "$$\n",
    "\\text{odds}(D | E) = \\frac{p_{11}}{p_{10}}\n",
    "\\quad \\text{and} \\quad\n",
    "\\text{odds}(D | E^c) = \\frac{p_{01}}{p_{00}}\n",
    "$$\n",
    "\n",
    "\n",
    "and so\n",
    "\n",
    "$$\n",
    "\\xi = \\frac{\\mathbb{P}(D | E)}{\\mathbb{P}(D | E^c)}\n",
    "= \\frac{p_{11} (p_{00} + p_{01})}{p_{01} (p_{10} + p_{11})}\n",
    "$$\n",
    "\n",
    "Since\n",
    "\n",
    "$$ \\psi = \\frac{p_{11}p_{00}}{p_{01}p_{10}}$$\n",
    "\n",
    "we have:\n",
    "\n",
    "$$ \\frac{\\psi}{\\xi} = \\frac{p_{11}p_{00}}{p_{01}p_{10}} \\frac{p_{01} (p_{10} + p_{11})}{p_{11} (p_{00} + p_{01})} \n",
    "= \\frac{p_{00}}{p_{10}} \\frac{p_{1\\text{·}}}{p_{0\\text{·}}}\n",
    "$$ \n",
    "\n",
    "As $\\mathbb{P}(D) = p_{01} + p_{11} \\rightarrow 0$ and the probabilites are non-negative, $p_{01} \\rightarrow 0$, $p_{11} \\rightarrow 0$, so\n",
    "\n",
    "$$ \\frac{\\psi}{\\xi} \\rightarrow  \\frac{p_{00}}{p_{10}} \\frac{p_{10}}{p_{00}} = 1 $$ "
   ]
  },
  {
   "cell_type": "markdown",
   "metadata": {},
   "source": [
    "**Exercise 16.7.4**.  Prove equation (16.14).\n",
    "\n",
    "$$ \\delta(X, Y) = \\max_{A, B} \\Big|\\; \\mathbb{P}_{X, Y}(X \\in A, Y \\in B) - \\mathbb{P}_X(X \\in A) \\mathbb{P}_Y(Y \\in B) \\;\\Big| $$\n",
    "\n",
    "is equivalent to\n",
    "\n",
    "$$ \\delta(X, Y) = \\frac{1}{2} \\sum_{i=1}^I \\sum_{j=1}^J \\Big|\\; p_{ij} - p_{i\\text{·}} p_{\\text{·}j} \\;\\Big|$$"
   ]
  },
  {
   "cell_type": "markdown",
   "metadata": {},
   "source": [
    "**Solution**.\n",
    "\n",
    "As noted when the definition was introduced, this definition of $\\delta(X, Y)$ is a particular case of the total variation distance between metrics $P_1(X, Y) = \\mathbb{P}_{X, Y}(X \\in A, Y \\in B)$ and $P_2(X, Y) = \\mathbb{P}_X(X \\in A) \\mathbb{P}_Y(Y \\in B)$, where\n",
    "\n",
    "$$ \\delta(P, Q) = \\sup_{A \\in \\mathcal{F}} |P(A) - Q(A)| $$\n",
    "\n",
    "and $P, Q$ are two probability measures on a sigma-algebra $\\mathcal{F}$ of subsets from the sample space $\\Omega$.\n",
    "\n",
    "(Note that $P_1(X = i, Y = j) = p_{ij}$ and $P_2(X = i, Y = j) =  p_{i\\text{·}} p_{\\text{·}j}$).\n",
    "\n",
    "It is a known property of the total variation distance in countable spaces that\n",
    "\n",
    "$$ \\delta(P, Q) = \\max_{A \\in \\mathcal{F}} |P(A) - Q(A)| = \\frac{1}{2} \\Vert P - Q \\Vert_1 = \\frac{1}{2} \\sum_{\\omega \\in \\Omega} \\vert P(\\omega) - Q(\\omega) \\vert$$\n",
    "\n",
    "Let's demonstrate it, following the steps in the reference below.\n",
    "\n",
    "Let $\\mathcal{F}^+ \\subset \\mathcal{F}$ be the set of states $\\omega$ such that $P(\\omega) \\geq Q(\\omega)$, and let $\\mathcal{F}^- = \\mathcal{F} - S^+$ be the set of states $\\omega$ such that $P(\\omega) < Q(\\omega)$.  We have:\n",
    "\n",
    "$$ \\max_{A \\in \\mathcal{F}} P(A) - Q(A) = P(\\mathcal{F}^+) - Q(\\mathcal{F}^+)$$\n",
    "\n",
    "and\n",
    "\n",
    "$$ \\max_{A \\in \\mathcal{F}} Q(A) - P(A) = Q(\\mathcal{F}^-) - P(\\mathcal{F}^-)$$\n",
    "\n",
    "But since $P(\\Omega) = Q(\\Omega) = 1$, we have\n",
    "\n",
    "$$ P(\\mathcal{F}^+) + P(\\mathcal{F}^-) = Q(\\mathcal{F}^+) + Q(\\mathcal{F}^-) = 1 $$\n",
    "\n",
    "which implies that\n",
    "\n",
    "$$ P(\\mathcal{F}^+) - Q(\\mathcal{F}^+) = Q(\\mathcal{F}^-) - P(\\mathcal{F}^-)$$\n",
    "\n",
    "hence\n",
    "\n",
    "$$ \\max_{A \\in \\mathcal{F}} P(A) - Q(A) = \\vert P(\\mathcal{F}^+) - Q(\\mathcal{F}^+) \\vert = \\vert Q(\\mathcal{F}^-) - P(\\mathcal{F}^-) \\vert $$\n",
    "\n",
    "Finally, since\n",
    "\n",
    "$$ \n",
    "\\vert P(\\mathcal{F}^+) - Q(\\mathcal{F}^+) \\vert + \\vert Q(\\mathcal{F}^-) - P(\\mathcal{F}^-) \\vert = \\sum_{\\omega \\in \\Omega} | P(\\omega) - Q(\\omega) | = \\Vert P - Q \\Vert_1\n",
    "$$\n",
    "\n",
    "we have that\n",
    "\n",
    "$$ \\max_{A \\in \\mathcal{F}} |P(A) - Q(A)| = \\frac{1}{2} \\Vert P - Q \\Vert_1 $$\n",
    "\n",
    "which completes the proof.\n",
    "\n",
    "*Reference: Upfal, E., and M. Mitzenmacher. \"Probability and computing.\" (2005).  Lemma 11.1, pg. 272-273.*"
   ]
  },
  {
   "cell_type": "markdown",
   "metadata": {},
   "source": [
    "**Exercise 16.7.5**.  The New York Times (January 8, 2003, page A12) reported the following data on death sentencing and rance, from a study in Maryland:\n",
    "\n",
    "|  | Death Sentence | No Death Sentence |\n",
    "|--|----------------|-------------------|\n",
    "| Black Victim | 14 | 641 |\n",
    "| White Victim | 62 | 594 |\n",
    "\n",
    "Analyse the data using the tools from this Chapter.  Interpret the results.  Explain why, based only on this information, you can't make causal conclusions.  (The authors of the study did use much more information in their full report)."
   ]
  },
  {
   "cell_type": "markdown",
   "metadata": {},
   "source": [
    "**Solution**.\n",
    "\n",
    "The statistic for the log-likelihood test for independence is is:\n",
    "\n",
    "$$ T = 2 \\sum_{i, j} X_{ij} \\log \\frac{X_{ij} X_{\\text{··}}}{X_{i\\text{·}} X_{\\text{·}j}} $$\n",
    "\n",
    "The statistic for Pearson's $\\chi^2$ test is:\n",
    "\n",
    "$$ U = \\sum_{i, j} \\frac{(X_{ij} - E_{ij})^2}{E_{ij}}$$"
   ]
  },
  {
   "cell_type": "code",
   "execution_count": 1,
   "metadata": {},
   "outputs": [],
   "source": [
    "import numpy as np\n",
    "\n",
    "X_ij = np.array([[14, 641], [62, 594]])"
   ]
  },
  {
   "cell_type": "code",
   "execution_count": 2,
   "metadata": {},
   "outputs": [],
   "source": [
    "X_idot = X_ij.sum(axis = 1).reshape(2, 1)\n",
    "X_dotj = X_ij.sum(axis = 0).reshape(1, 2)\n",
    "n = X_ij.sum()\n",
    "E_ij = X_idot @ X_dotj / n\n",
    "\n",
    "# Log-likelihood test statistic\n",
    "T = 2 * (X_ij * np.log(X_ij / E_ij)).sum()\n",
    "\n",
    "# Pearson's \\chi^2 test statistic\n",
    "U = ((X_ij - E_ij)**2 / E_ij).sum()"
   ]
  },
  {
   "cell_type": "code",
   "execution_count": 4,
   "metadata": {},
   "outputs": [
    {
     "data": {
      "text/plain": [
       "array([[655],\n",
       "       [656]])"
      ]
     },
     "execution_count": 4,
     "metadata": {},
     "output_type": "execute_result"
    }
   ],
   "source": [
    "X_idot"
   ]
  },
  {
   "cell_type": "code",
   "execution_count": 5,
   "metadata": {},
   "outputs": [
    {
     "data": {
      "text/plain": [
       "array([[  76, 1235]])"
      ]
     },
     "execution_count": 5,
     "metadata": {},
     "output_type": "execute_result"
    }
   ],
   "source": [
    "X_dotj"
   ]
  },
  {
   "cell_type": "code",
   "execution_count": 6,
   "metadata": {},
   "outputs": [
    {
     "data": {
      "text/plain": [
       "array([[ 37.97101449, 617.02898551],\n",
       "       [ 38.02898551, 617.97101449]])"
      ]
     },
     "execution_count": 6,
     "metadata": {},
     "output_type": "execute_result"
    }
   ],
   "source": [
    "E_ij"
   ]
  },
  {
   "cell_type": "code",
   "execution_count": 3,
   "metadata": {},
   "outputs": [
    {
     "name": "stdout",
     "output_type": "stream",
     "text": [
      "T test statistic: \t\t34.534\n",
      "Pearson chi^2 statistic: \t32.104\n",
      "p-value log likelihood:\t\t 0.000\n",
      "p-value Pearson: \t\t 0.000\n"
     ]
    }
   ],
   "source": [
    "from scipy.stats import chi2\n",
    "\n",
    "p_value_log_likelihood = 1 - chi2.cdf(T, 1)\n",
    "p_value_pearson = 1 - chi2.cdf(U, 1)\n",
    "\n",
    "print('T test statistic: \\t\\t%.3f'% T)\n",
    "print('Pearson chi^2 statistic: \\t%.3f'% U)\n",
    "\n",
    "print('p-value log likelihood:\\t\\t %.3f' % p_value_log_likelihood)\n",
    "print('p-value Pearson: \\t\\t %.3f' % p_value_pearson)"
   ]
  },
  {
   "cell_type": "markdown",
   "metadata": {},
   "source": [
    "Both tests indicate that these variables are correlated.  Note that this is not sufficient information, in itself, to imply causation."
   ]
  },
  {
   "cell_type": "code",
   "execution_count": 7,
   "metadata": {},
   "outputs": [
    {
     "name": "stdout",
     "output_type": "stream",
     "text": [
      "delta(X, Y): 0.037\n"
     ]
    }
   ],
   "source": [
    "from itertools import product\n",
    "\n",
    "p = X_ij / n\n",
    "p_idot = X_idot / n\n",
    "p_dotj = X_dotj / n\n",
    "\n",
    "delta = sum([abs(p[i, j] - p_idot[i, :] * p_dotj[:, j]) for (i, j) in product(range(2), range(2))]) / 2\n",
    "\n",
    "print('delta(X, Y): %.3f' % delta)"
   ]
  },
  {
   "cell_type": "markdown",
   "metadata": {},
   "source": [
    "$\\delta(X, Y)$ is between 0.01 and 0.05, suggesting a non-negligible association."
   ]
  },
  {
   "cell_type": "code",
   "execution_count": 9,
   "metadata": {},
   "outputs": [
    {
     "name": "stdout",
     "output_type": "stream",
     "text": [
      "0 0\n",
      "0 1\n",
      "1 0\n",
      "1 1\n"
     ]
    }
   ],
   "source": [
    "for (i, j) in product(range(2), range(2)):\n",
    "    print(i,j)"
   ]
  },
  {
   "cell_type": "code",
   "execution_count": 13,
   "metadata": {},
   "outputs": [
    {
     "data": {
      "text/plain": [
       "array([[0.49961861],\n",
       "       [0.50038139]])"
      ]
     },
     "execution_count": 13,
     "metadata": {},
     "output_type": "execute_result"
    }
   ],
   "source": [
    "p_idot"
   ]
  },
  {
   "cell_type": "code",
   "execution_count": 12,
   "metadata": {},
   "outputs": [
    {
     "data": {
      "text/plain": [
       "array([0.49961861])"
      ]
     },
     "execution_count": 12,
     "metadata": {},
     "output_type": "execute_result"
    }
   ],
   "source": [
    "p_idot[0, :]"
   ]
  },
  {
   "cell_type": "code",
   "execution_count": 14,
   "metadata": {},
   "outputs": [
    {
     "data": {
      "text/plain": [
       "array([[0.05797101, 0.94202899]])"
      ]
     },
     "execution_count": 14,
     "metadata": {},
     "output_type": "execute_result"
    }
   ],
   "source": [
    "p_dotj"
   ]
  },
  {
   "cell_type": "code",
   "execution_count": 11,
   "metadata": {},
   "outputs": [
    {
     "data": {
      "text/plain": [
       "array([0.47065521])"
      ]
     },
     "execution_count": 11,
     "metadata": {},
     "output_type": "execute_result"
    }
   ],
   "source": [
    "p_idot[0, :] * p_dotj[:, 1]"
   ]
  },
  {
   "cell_type": "markdown",
   "metadata": {},
   "source": [
    "**Exercise 16.7.6**.  Analyse the data on the variables Age and Financial Status from:\n",
    "\n",
    "http://lib.stat.cmu.edu/DASL/Datafiles/montanadat.html"
   ]
  },
  {
   "cell_type": "markdown",
   "metadata": {},
   "source": [
    "**Solution**."
   ]
  },
  {
   "cell_type": "code",
   "execution_count": 16,
   "metadata": {},
   "outputs": [
    {
     "data": {
      "text/html": [
       "<div>\n",
       "<style scoped>\n",
       "    .dataframe tbody tr th:only-of-type {\n",
       "        vertical-align: middle;\n",
       "    }\n",
       "\n",
       "    .dataframe tbody tr th {\n",
       "        vertical-align: top;\n",
       "    }\n",
       "\n",
       "    .dataframe thead th {\n",
       "        text-align: right;\n",
       "    }\n",
       "</style>\n",
       "<table border=\"1\" class=\"dataframe\">\n",
       "  <thead>\n",
       "    <tr style=\"text-align: right;\">\n",
       "      <th></th>\n",
       "      <th>AGE</th>\n",
       "      <th>FIN</th>\n",
       "    </tr>\n",
       "  </thead>\n",
       "  <tbody>\n",
       "    <tr>\n",
       "      <th>0</th>\n",
       "      <td>3</td>\n",
       "      <td>2</td>\n",
       "    </tr>\n",
       "    <tr>\n",
       "      <th>1</th>\n",
       "      <td>2</td>\n",
       "      <td>3</td>\n",
       "    </tr>\n",
       "    <tr>\n",
       "      <th>2</th>\n",
       "      <td>1</td>\n",
       "      <td>2</td>\n",
       "    </tr>\n",
       "    <tr>\n",
       "      <th>3</th>\n",
       "      <td>3</td>\n",
       "      <td>1</td>\n",
       "    </tr>\n",
       "    <tr>\n",
       "      <th>4</th>\n",
       "      <td>3</td>\n",
       "      <td>2</td>\n",
       "    </tr>\n",
       "    <tr>\n",
       "      <th>...</th>\n",
       "      <td>...</td>\n",
       "      <td>...</td>\n",
       "    </tr>\n",
       "    <tr>\n",
       "      <th>203</th>\n",
       "      <td>1</td>\n",
       "      <td>3</td>\n",
       "    </tr>\n",
       "    <tr>\n",
       "      <th>205</th>\n",
       "      <td>1</td>\n",
       "      <td>3</td>\n",
       "    </tr>\n",
       "    <tr>\n",
       "      <th>206</th>\n",
       "      <td>3</td>\n",
       "      <td>2</td>\n",
       "    </tr>\n",
       "    <tr>\n",
       "      <th>207</th>\n",
       "      <td>3</td>\n",
       "      <td>1</td>\n",
       "    </tr>\n",
       "    <tr>\n",
       "      <th>208</th>\n",
       "      <td>2</td>\n",
       "      <td>2</td>\n",
       "    </tr>\n",
       "  </tbody>\n",
       "</table>\n",
       "<p>207 rows × 2 columns</p>\n",
       "</div>"
      ],
      "text/plain": [
       "     AGE  FIN\n",
       "0      3    2\n",
       "1      2    3\n",
       "2      1    2\n",
       "3      3    1\n",
       "4      3    2\n",
       "..   ...  ...\n",
       "203    1    3\n",
       "205    1    3\n",
       "206    3    2\n",
       "207    3    1\n",
       "208    2    2\n",
       "\n",
       "[207 rows x 2 columns]"
      ]
     },
     "execution_count": 16,
     "metadata": {},
     "output_type": "execute_result"
    }
   ],
   "source": [
    "import pandas as pd\n",
    "\n",
    "data = pd.read_csv('data/montana.csv')\n",
    "\n",
    "# Select wanted columns and remove missing data\n",
    "data = data[['AGE', 'FIN']].replace('*', np.nan).dropna().astype(int)\n",
    "data"
   ]
  },
  {
   "cell_type": "code",
   "execution_count": 17,
   "metadata": {},
   "outputs": [
    {
     "data": {
      "text/plain": [
       "array([[21, 16, 34],\n",
       "       [17, 23, 26],\n",
       "       [22, 37, 11]])"
      ]
     },
     "execution_count": 17,
     "metadata": {},
     "output_type": "execute_result"
    }
   ],
   "source": [
    "# Count occurrences in each cell\n",
    "X_ij = np.zeros((3, 3)).astype(int)\n",
    "\n",
    "for index, row in data.iterrows():\n",
    "     X_ij[row['AGE'] - 1, row['FIN'] - 1] += 1\n",
    "           \n",
    "X_ij"
   ]
  },
  {
   "cell_type": "code",
   "execution_count": 19,
   "metadata": {},
   "outputs": [],
   "source": [
    "X_idot = X_ij.sum(axis = 1).reshape(3, 1)\n",
    "X_dotj = X_ij.sum(axis = 0).reshape(1, 3)\n",
    "n = X_ij.sum()\n",
    "E_ij = X_idot @ X_dotj / n\n",
    "\n",
    "# Log-likelihood test statistic\n",
    "T = 2 * (X_ij * np.log(X_ij / E_ij)).sum()\n",
    "\n",
    "# Pearson's \\chi^2 test statistic\n",
    "U = ((X_ij - E_ij)**2 / E_ij).sum()"
   ]
  },
  {
   "cell_type": "code",
   "execution_count": 20,
   "metadata": {},
   "outputs": [
    {
     "name": "stdout",
     "output_type": "stream",
     "text": [
      "T test statistic: \t\t22.064\n",
      "Pearson chi^2 statistic: \t20.679\n",
      "p-value log likelihood:\t\t 0.000\n",
      "p-value Pearson: \t\t 0.000\n"
     ]
    }
   ],
   "source": [
    "from scipy.stats import chi2\n",
    "\n",
    "p_value_log_likelihood = 1 - chi2.cdf(T, 4)\n",
    "p_value_pearson = 1 - chi2.cdf(U, 4)\n",
    "\n",
    "print('T test statistic: \\t\\t%.3f'% T)\n",
    "print('Pearson chi^2 statistic: \\t%.3f'% U)\n",
    "\n",
    "print('p-value log likelihood:\\t\\t %.3f' % p_value_log_likelihood)\n",
    "print('p-value Pearson: \\t\\t %.3f' % p_value_pearson)"
   ]
  },
  {
   "cell_type": "markdown",
   "metadata": {},
   "source": [
    "Both tests indicate correlation between the two sequences."
   ]
  },
  {
   "cell_type": "code",
   "execution_count": 21,
   "metadata": {},
   "outputs": [
    {
     "name": "stdout",
     "output_type": "stream",
     "text": [
      "delta(X, Y): 0.128\n"
     ]
    }
   ],
   "source": [
    "from itertools import product\n",
    "\n",
    "p = X_ij / n\n",
    "p_idot = X_idot / n\n",
    "p_dotj = X_dotj / n\n",
    "\n",
    "delta = sum([abs(p[i, j] - p_idot[i, :] * p_dotj[:, j]) for (i, j) in product(range(3), range(3))]) / 2\n",
    "\n",
    "print('delta(X, Y): %.3f' % delta)"
   ]
  },
  {
   "cell_type": "markdown",
   "metadata": {},
   "source": [
    "$\\delta(X, Y) > 0.1$ indicates a strong correlation between these variables."
   ]
  },
  {
   "cell_type": "markdown",
   "metadata": {},
   "source": [
    "**Exercise 16.7.7**.  Estimate the correlation between temperature and latitude using the data from\n",
    "\n",
    "http://lib.stat.cmu.edu/DASL/Datafiles/USTemperatures.html\n",
    "\n",
    "Use the correlation coefficient and Spearman rank correlation.  Provide estimates, tests, and confidence intervals."
   ]
  },
  {
   "cell_type": "markdown",
   "metadata": {},
   "source": [
    "**Solution**."
   ]
  },
  {
   "cell_type": "code",
   "execution_count": 26,
   "metadata": {},
   "outputs": [
    {
     "data": {
      "text/html": [
       "<div>\n",
       "<style scoped>\n",
       "    .dataframe tbody tr th:only-of-type {\n",
       "        vertical-align: middle;\n",
       "    }\n",
       "\n",
       "    .dataframe tbody tr th {\n",
       "        vertical-align: top;\n",
       "    }\n",
       "\n",
       "    .dataframe thead th {\n",
       "        text-align: right;\n",
       "    }\n",
       "</style>\n",
       "<table border=\"1\" class=\"dataframe\">\n",
       "  <thead>\n",
       "    <tr style=\"text-align: right;\">\n",
       "      <th></th>\n",
       "      <th>city</th>\n",
       "      <th>lat</th>\n",
       "      <th>long</th>\n",
       "      <th>JanTF</th>\n",
       "      <th>JulyTF</th>\n",
       "      <th>RelHum</th>\n",
       "      <th>Rain</th>\n",
       "    </tr>\n",
       "  </thead>\n",
       "  <tbody>\n",
       "    <tr>\n",
       "      <th>0</th>\n",
       "      <td>Akron, OH</td>\n",
       "      <td>41.05</td>\n",
       "      <td>81.30</td>\n",
       "      <td>27</td>\n",
       "      <td>71</td>\n",
       "      <td>59</td>\n",
       "      <td>36</td>\n",
       "    </tr>\n",
       "    <tr>\n",
       "      <th>1</th>\n",
       "      <td>Albany-Schenectady-Troy, NY</td>\n",
       "      <td>42.40</td>\n",
       "      <td>73.50</td>\n",
       "      <td>23</td>\n",
       "      <td>72</td>\n",
       "      <td>57</td>\n",
       "      <td>35</td>\n",
       "    </tr>\n",
       "    <tr>\n",
       "      <th>2</th>\n",
       "      <td>Allentown, Bethlehem, PA-NJ</td>\n",
       "      <td>40.35</td>\n",
       "      <td>75.30</td>\n",
       "      <td>29</td>\n",
       "      <td>74</td>\n",
       "      <td>54</td>\n",
       "      <td>44</td>\n",
       "    </tr>\n",
       "    <tr>\n",
       "      <th>3</th>\n",
       "      <td>Atlanta, GA</td>\n",
       "      <td>33.45</td>\n",
       "      <td>84.23</td>\n",
       "      <td>45</td>\n",
       "      <td>79</td>\n",
       "      <td>56</td>\n",
       "      <td>47</td>\n",
       "    </tr>\n",
       "    <tr>\n",
       "      <th>4</th>\n",
       "      <td>Baltimore, MD</td>\n",
       "      <td>39.20</td>\n",
       "      <td>76.38</td>\n",
       "      <td>35</td>\n",
       "      <td>77</td>\n",
       "      <td>55</td>\n",
       "      <td>43</td>\n",
       "    </tr>\n",
       "  </tbody>\n",
       "</table>\n",
       "</div>"
      ],
      "text/plain": [
       "                          city    lat   long  JanTF  JulyTF  RelHum  Rain\n",
       "0                    Akron, OH  41.05  81.30     27      71      59    36\n",
       "1  Albany-Schenectady-Troy, NY  42.40  73.50     23      72      57    35\n",
       "2  Allentown, Bethlehem, PA-NJ  40.35  75.30     29      74      54    44\n",
       "3                  Atlanta, GA  33.45  84.23     45      79      56    47\n",
       "4                Baltimore, MD  39.20  76.38     35      77      55    43"
      ]
     },
     "execution_count": 26,
     "metadata": {},
     "output_type": "execute_result"
    }
   ],
   "source": [
    "import math\n",
    "import numpy as np\n",
    "import pandas as pd\n",
    "\n",
    "data = pd.read_csv('data/USTemperatures.txt', sep='\\t')\n",
    "filtered_data = data[['lat', 'JanTF']].dropna()\n",
    "X, Y = filtered_data['lat'], filtered_data['JanTF']\n",
    "data.head()"
   ]
  },
  {
   "cell_type": "code",
   "execution_count": 30,
   "metadata": {},
   "outputs": [],
   "source": [
    "from scipy.stats import rankdata\n",
    "from tqdm import notebook\n",
    "\n",
    "def get_pearson_correlation(xx, yy):\n",
    "    mu_1 = xx.mean()\n",
    "    mu_2 = yy.mean()\n",
    "    sigma2_1 = ((xx - mu_1)**2).mean()\n",
    "    sigma2_2 = ((yy - mu_2)**2).mean()\n",
    "    \n",
    "    return ((xx - mu_1) * (yy - mu_2)).mean() / math.sqrt(sigma2_1 * sigma2_2)\n",
    "\n",
    "def get_spearman_correlation(xx, yy):\n",
    "    return get_pearson_correlation(rankdata(xx), rankdata(yy))\n",
    "\n",
    "def bootstrap_correlation(xx, yy, corr_fun, B=10000, alpha=0.05):\n",
    "    n = len(xx)\n",
    "    assert len(yy) == n, 'Sequences must have same length'\n",
    "    \n",
    "    t_boot = np.empty(B)\n",
    "    for i in notebook.tqdm(range(B)):\n",
    "        #random.randint(low, high=None, size=None, dtype=int)\n",
    "        #Return random integers from low (inclusive) to high (exclusive)\n",
    "        indexes = np.random.randint(0, n, size=n)\n",
    "        xx_selected, yy_selected = xx.iloc[indexes], yy.iloc[indexes]\n",
    "        t_boot[i] = corr_fun(xx_selected, yy_selected)\n",
    "        \n",
    "    confidence_interval = (np.quantile(t_boot, alpha / 2), np.quantile(t_boot, 1 - alpha / 2))\n",
    "    return confidence_interval"
   ]
  },
  {
   "cell_type": "code",
   "execution_count": 31,
   "metadata": {},
   "outputs": [
    {
     "data": {
      "application/vnd.jupyter.widget-view+json": {
       "model_id": "ba248812e7874c389df2688cc277d8ba",
       "version_major": 2,
       "version_minor": 0
      },
      "text/plain": [
       "  0%|          | 0/10000 [00:00<?, ?it/s]"
      ]
     },
     "metadata": {},
     "output_type": "display_data"
    },
    {
     "data": {
      "application/vnd.jupyter.widget-view+json": {
       "model_id": "f141efe4fc854e28b3d4fe45e02d528f",
       "version_major": 2,
       "version_minor": 0
      },
      "text/plain": [
       "  0%|          | 0/10000 [00:00<?, ?it/s]"
      ]
     },
     "metadata": {},
     "output_type": "display_data"
    }
   ],
   "source": [
    "pearson_rho = get_pearson_correlation(X, Y)\n",
    "pearson_rho_confidence = bootstrap_correlation(X, Y, corr_fun = get_pearson_correlation, B = 10000, alpha=0.05)\n",
    "\n",
    "spearman_rho = get_spearman_correlation(X, Y)\n",
    "spearman_rho_confidence = bootstrap_correlation(X, Y, corr_fun = get_spearman_correlation, B = 10000, alpha=0.05)"
   ]
  },
  {
   "cell_type": "code",
   "execution_count": 32,
   "metadata": {},
   "outputs": [
    {
     "name": "stdout",
     "output_type": "stream",
     "text": [
      "Pearson confidence: \t -0.857\n",
      "95% confidence interval: -0.963, -0.688\n",
      "\n",
      "Spearman confidence: \t -0.834\n",
      "95% confidence interval: -0.953, -0.650\n"
     ]
    }
   ],
   "source": [
    "print('Pearson confidence: \\t %.3f' % pearson_rho)\n",
    "print('95%% confidence interval: %.3f, %.3f' % pearson_rho_confidence)\n",
    "print()\n",
    "print('Spearman confidence: \\t %.3f' % spearman_rho)\n",
    "print('95%% confidence interval: %.3f, %.3f' % spearman_rho_confidence)"
   ]
  },
  {
   "cell_type": "markdown",
   "metadata": {},
   "source": [
    "**Exercise 16.7.8**.  Test whether calcium intake and drop in blood pressure are associated.  Use the data in\n",
    "\n",
    "http://lib.stat.cmu.edu/DASL/Datafiles/Calcium.html"
   ]
  },
  {
   "cell_type": "markdown",
   "metadata": {},
   "source": [
    "**Solution**.\n",
    "\n",
    "We intend to use Theorem 16.16 here:\n",
    "\n",
    "Let\n",
    "\n",
    "$$ H(t) = 1 - 2 \\sum_{j=1}^\\infty (-1)^{j-1} e^{-2j^2t^2} $$\n",
    "\n",
    "Under the null hypothesis that $F_1 = F_2$,\n",
    "\n",
    "$$ \\lim_{n \\rightarrow \\infty} \\mathbb{P} \\left( \\sqrt{\\frac{n_1 n_2}{n_1 + n_2}} D \\leq t \\right) = H(t) $$\n",
    "\n",
    "where\n",
    "\n",
    "$$ D = \\sup_x | \\hat{F}_1(x) - \\hat{F}_2(x) |$$\n",
    "\n",
    "It follows from the theorem than an approximate level $\\alpha$ test is obtained by rejecting $H_0$ when\n",
    "\n",
    "$$ \\sqrt{\\frac{n_1 n_2}{n_1 + n_2}} D > H^{-1}(1 - \\alpha) $$"
   ]
  },
  {
   "cell_type": "code",
   "execution_count": 34,
   "metadata": {},
   "outputs": [
    {
     "data": {
      "text/html": [
       "<div>\n",
       "<style scoped>\n",
       "    .dataframe tbody tr th:only-of-type {\n",
       "        vertical-align: middle;\n",
       "    }\n",
       "\n",
       "    .dataframe tbody tr th {\n",
       "        vertical-align: top;\n",
       "    }\n",
       "\n",
       "    .dataframe thead th {\n",
       "        text-align: right;\n",
       "    }\n",
       "</style>\n",
       "<table border=\"1\" class=\"dataframe\">\n",
       "  <thead>\n",
       "    <tr style=\"text-align: right;\">\n",
       "      <th></th>\n",
       "      <th>Treatment</th>\n",
       "      <th>Begin</th>\n",
       "      <th>End</th>\n",
       "      <th>Decrease</th>\n",
       "    </tr>\n",
       "  </thead>\n",
       "  <tbody>\n",
       "    <tr>\n",
       "      <th>0</th>\n",
       "      <td>Calcium</td>\n",
       "      <td>107</td>\n",
       "      <td>100</td>\n",
       "      <td>7</td>\n",
       "    </tr>\n",
       "    <tr>\n",
       "      <th>1</th>\n",
       "      <td>Calcium</td>\n",
       "      <td>110</td>\n",
       "      <td>114</td>\n",
       "      <td>-4</td>\n",
       "    </tr>\n",
       "    <tr>\n",
       "      <th>2</th>\n",
       "      <td>Calcium</td>\n",
       "      <td>123</td>\n",
       "      <td>105</td>\n",
       "      <td>18</td>\n",
       "    </tr>\n",
       "    <tr>\n",
       "      <th>3</th>\n",
       "      <td>Calcium</td>\n",
       "      <td>129</td>\n",
       "      <td>112</td>\n",
       "      <td>17</td>\n",
       "    </tr>\n",
       "    <tr>\n",
       "      <th>4</th>\n",
       "      <td>Calcium</td>\n",
       "      <td>112</td>\n",
       "      <td>115</td>\n",
       "      <td>-3</td>\n",
       "    </tr>\n",
       "    <tr>\n",
       "      <th>5</th>\n",
       "      <td>Calcium</td>\n",
       "      <td>111</td>\n",
       "      <td>116</td>\n",
       "      <td>-5</td>\n",
       "    </tr>\n",
       "    <tr>\n",
       "      <th>6</th>\n",
       "      <td>Calcium</td>\n",
       "      <td>107</td>\n",
       "      <td>106</td>\n",
       "      <td>1</td>\n",
       "    </tr>\n",
       "    <tr>\n",
       "      <th>7</th>\n",
       "      <td>Calcium</td>\n",
       "      <td>112</td>\n",
       "      <td>102</td>\n",
       "      <td>10</td>\n",
       "    </tr>\n",
       "    <tr>\n",
       "      <th>8</th>\n",
       "      <td>Calcium</td>\n",
       "      <td>136</td>\n",
       "      <td>125</td>\n",
       "      <td>11</td>\n",
       "    </tr>\n",
       "    <tr>\n",
       "      <th>9</th>\n",
       "      <td>Calcium</td>\n",
       "      <td>102</td>\n",
       "      <td>104</td>\n",
       "      <td>-2</td>\n",
       "    </tr>\n",
       "    <tr>\n",
       "      <th>10</th>\n",
       "      <td>Placebo</td>\n",
       "      <td>123</td>\n",
       "      <td>124</td>\n",
       "      <td>-1</td>\n",
       "    </tr>\n",
       "    <tr>\n",
       "      <th>11</th>\n",
       "      <td>Placebo</td>\n",
       "      <td>109</td>\n",
       "      <td>97</td>\n",
       "      <td>12</td>\n",
       "    </tr>\n",
       "    <tr>\n",
       "      <th>12</th>\n",
       "      <td>Placebo</td>\n",
       "      <td>112</td>\n",
       "      <td>113</td>\n",
       "      <td>-1</td>\n",
       "    </tr>\n",
       "    <tr>\n",
       "      <th>13</th>\n",
       "      <td>Placebo</td>\n",
       "      <td>102</td>\n",
       "      <td>105</td>\n",
       "      <td>-3</td>\n",
       "    </tr>\n",
       "    <tr>\n",
       "      <th>14</th>\n",
       "      <td>Placebo</td>\n",
       "      <td>98</td>\n",
       "      <td>95</td>\n",
       "      <td>3</td>\n",
       "    </tr>\n",
       "    <tr>\n",
       "      <th>15</th>\n",
       "      <td>Placebo</td>\n",
       "      <td>114</td>\n",
       "      <td>119</td>\n",
       "      <td>-5</td>\n",
       "    </tr>\n",
       "    <tr>\n",
       "      <th>16</th>\n",
       "      <td>Placebo</td>\n",
       "      <td>119</td>\n",
       "      <td>114</td>\n",
       "      <td>5</td>\n",
       "    </tr>\n",
       "    <tr>\n",
       "      <th>17</th>\n",
       "      <td>Placebo</td>\n",
       "      <td>112</td>\n",
       "      <td>114</td>\n",
       "      <td>2</td>\n",
       "    </tr>\n",
       "    <tr>\n",
       "      <th>18</th>\n",
       "      <td>Placebo</td>\n",
       "      <td>110</td>\n",
       "      <td>121</td>\n",
       "      <td>-11</td>\n",
       "    </tr>\n",
       "    <tr>\n",
       "      <th>19</th>\n",
       "      <td>Placebo</td>\n",
       "      <td>117</td>\n",
       "      <td>118</td>\n",
       "      <td>-1</td>\n",
       "    </tr>\n",
       "    <tr>\n",
       "      <th>20</th>\n",
       "      <td>Placebo</td>\n",
       "      <td>130</td>\n",
       "      <td>133</td>\n",
       "      <td>-3</td>\n",
       "    </tr>\n",
       "  </tbody>\n",
       "</table>\n",
       "</div>"
      ],
      "text/plain": [
       "   Treatment  Begin  End  Decrease\n",
       "0    Calcium    107  100         7\n",
       "1    Calcium    110  114        -4\n",
       "2    Calcium    123  105        18\n",
       "3    Calcium    129  112        17\n",
       "4    Calcium    112  115        -3\n",
       "5    Calcium    111  116        -5\n",
       "6    Calcium    107  106         1\n",
       "7    Calcium    112  102        10\n",
       "8    Calcium    136  125        11\n",
       "9    Calcium    102  104        -2\n",
       "10   Placebo    123  124        -1\n",
       "11   Placebo    109   97        12\n",
       "12   Placebo    112  113        -1\n",
       "13   Placebo    102  105        -3\n",
       "14   Placebo     98   95         3\n",
       "15   Placebo    114  119        -5\n",
       "16   Placebo    119  114         5\n",
       "17   Placebo    112  114         2\n",
       "18   Placebo    110  121       -11\n",
       "19   Placebo    117  118        -1\n",
       "20   Placebo    130  133        -3"
      ]
     },
     "execution_count": 34,
     "metadata": {},
     "output_type": "execute_result"
    }
   ],
   "source": [
    "import pandas as pd\n",
    "import matplotlib.pyplot as plt\n",
    "\n",
    "data = pd.read_csv('data/calcium.txt', sep='\\t')\n",
    "X, Y = data['Treatment'], data['Decrease']\n",
    "data"
   ]
  },
  {
   "cell_type": "code",
   "execution_count": 35,
   "metadata": {},
   "outputs": [
    {
     "data": {
      "image/png": "[encoded data removed]",
      "text/plain": [
       "<Figure size 864x576 with 1 Axes>"
      ]
     },
     "metadata": {
      "needs_background": "light"
     },
     "output_type": "display_data"
    }
   ],
   "source": [
    "plt.figure(figsize=(12, 8))\n",
    "plt.hist(data[data['Treatment'] == 'Placebo']['Decrease'], \n",
    "         density=True, bins=50, color='red', label='Placebo')\n",
    "plt.hist(data[data['Treatment'] == 'Calcium']['Decrease'], \n",
    "         density=True, bins=50, color='blue', label='Calcium')\n",
    "plt.legend(loc='upper right')\n",
    "plt.show()"
   ]
  },
  {
   "cell_type": "markdown",
   "metadata": {},
   "source": [
    "First, let's calculate D -- creating the empirical CDFs $\\hat{F}_1$ and $\\hat{F}_2$, and then testing the value of $D$ for each possible $x$ in the empirical distributions:"
   ]
  },
  {
   "cell_type": "code",
   "execution_count": 36,
   "metadata": {},
   "outputs": [
    {
     "data": {
      "image/png": "[encoded data removed]",
      "text/plain": [
       "<Figure size 864x576 with 2 Axes>"
      ]
     },
     "metadata": {
      "needs_background": "light"
     },
     "output_type": "display_data"
    }
   ],
   "source": [
    "f1 = data[data['Treatment'] == 'Placebo']['Decrease'].to_numpy()\n",
    "f2 = data[data['Treatment'] == 'Calcium']['Decrease'].to_numpy()\n",
    "\n",
    "def f1_hat(x):\n",
    "    return sum(f1 <= x) / len(f1)\n",
    "\n",
    "def f2_hat(x):\n",
    "    return sum(f2 <= x) / len(f2)\n",
    "\n",
    "xx = np.linspace(min(data['Decrease']) - 1, max(data['Decrease']) + 1, 100)\n",
    "\n",
    "fig, (ax1, ax2) = plt.subplots(2, sharex=True, figsize=(12, 8))\n",
    "ax1.plot(xx, [f1_hat(x) for x in xx], color='red', label='Placebo empirical distribution')\n",
    "ax1.plot(xx, [f2_hat(x) for x in xx], color='blue', label='Calcium empirical distribution')\n",
    "ax1.legend(loc='upper left')\n",
    "\n",
    "ax2.plot(xx, [abs(f1_hat(x) - f2_hat(x)) for x in xx], color='purple', label='|Placebo - Calcium|')\n",
    "ax2.legend(loc='upper left')\n",
    "\n",
    "plt.show()"
   ]
  },
  {
   "cell_type": "code",
   "execution_count": 37,
   "metadata": {},
   "outputs": [
    {
     "name": "stdout",
     "output_type": "stream",
     "text": [
      "D: 0.409\n",
      "Test statistic: 0.936\n"
     ]
    }
   ],
   "source": [
    "D = max([abs(f1_hat(x) - f2_hat(x)) for x in data['Decrease']])\n",
    "\n",
    "n1 = len(f1)\n",
    "n2 = len(f2)\n",
    "test_statistic = np.sqrt(n1 * n2 / (n1 + n2)) * D\n",
    "\n",
    "print('D: %.3f' % D)\n",
    "print('Test statistic: %.3f' % test_statistic)"
   ]
  },
  {
   "cell_type": "markdown",
   "metadata": {},
   "source": [
    "Given that\n",
    "\n",
    "$$ \n",
    "\\begin{align}\n",
    "H(t) &= 1 - 2 \\sum_{j=1}^\\infty (-1)^{j-1} e^{-2j^2t^2}\n",
    "\\end{align}\n",
    "$$\n",
    "\n",
    "let's create an approximation for $H^{-1}(1 - \\alpha)$ -- so that we may find the p-value for $\\alpha$ such that $ \\sqrt{\\frac{n_1 n_2}{n_1 + n_2}} D > H^{-1}(1 - \\alpha) $."
   ]
  },
  {
   "cell_type": "code",
   "execution_count": 38,
   "metadata": {},
   "outputs": [],
   "source": [
    "def H(t, xtol=1e-8):\n",
    "    assert t != 0, \"t must be non-zero\"\n",
    "    t2 = t * t\n",
    "    j_max = int(np.ceil(np.sqrt(- np.log(xtol / 2) / (2 * t2) )))\n",
    "    jj = np.arange(1, j_max+1)\n",
    "\n",
    "    return 1 + 2 * sum((-1)**(jj) * np.exp(-2 * (jj**2) * t2))"
   ]
  },
  {
   "cell_type": "code",
   "execution_count": 39,
   "metadata": {},
   "outputs": [
    {
     "data": {
      "image/png": "[encoded data removed]",
      "text/plain": [
       "<Figure size 432x288 with 1 Axes>"
      ]
     },
     "metadata": {
      "needs_background": "light"
     },
     "output_type": "display_data"
    }
   ],
   "source": [
    "# Let's plot some values for H(t)\n",
    "\n",
    "tt = np.logspace(-3, 0.25, 100)\n",
    "ht = [H(t) for t in tt]\n",
    "\n",
    "plt.figure(figsize=(6, 4))\n",
    "plt.plot(tt, ht)\n",
    "plt.title('H(t)')\n",
    "plt.show()"
   ]
  },
  {
   "cell_type": "code",
   "execution_count": 40,
   "metadata": {},
   "outputs": [],
   "source": [
    "from scipy.optimize import minimize\n",
    "\n",
    "def H_inv(q):\n",
    "    def loss_function(x):\n",
    "        return (H(x) - q)**2\n",
    "    \n",
    "    x0 = 1.0\n",
    "    return minimize(loss_function, x0, method='nelder-mead').x"
   ]
  },
  {
   "cell_type": "code",
   "execution_count": 43,
   "metadata": {},
   "outputs": [
    {
     "data": {
      "image/png": "[encoded data removed]",
      "text/plain": [
       "<Figure size 432x288 with 1 Axes>"
      ]
     },
     "metadata": {
      "needs_background": "light"
     },
     "output_type": "display_data"
    }
   ],
   "source": [
    "# Let's plot some values for H_inv(q)\n",
    "\n",
    "qq = np.linspace(1e-5, 1 - 1e-5, 200)\n",
    "xx = [H_inv(q) for q in qq]\n",
    "\n",
    "plt.figure(figsize=(6, 4))\n",
    "plt.plot(qq, xx)\n",
    "plt.title(r'$H^{-1}(q)$')\n",
    "plt.show()"
   ]
  },
  {
   "cell_type": "code",
   "execution_count": 44,
   "metadata": {},
   "outputs": [
    {
     "name": "stdout",
     "output_type": "stream",
     "text": [
      "Test statistic: \t\t0.936\n",
      "H^{-1}(test_statistic): \t1.313\n"
     ]
    }
   ],
   "source": [
    "h_inv_test_statistic = H_inv(test_statistic)\n",
    "\n",
    "print('Test statistic: \\t\\t%.3f' % test_statistic)\n",
    "print('H^{-1}(test_statistic): \\t%.3f' % h_inv_test_statistic)"
   ]
  },
  {
   "cell_type": "markdown",
   "metadata": {},
   "source": [
    "Given that the inverse of the test statistic is greater than 1, we have that the test from Theorem 16.16 rejects the null hypothesis for any $\\alpha > 0$ -- so it claims the distributions are distinct at any approximate $\\alpha$ level -- so, by Theorem 16.15, they are associated."
   ]
  }
 ],
 "metadata": {
  "kernelspec": {
   "display_name": "Python 3",
   "language": "python",
   "name": "python3"
  },
  "language_info": {
   "codemirror_mode": {
    "name": "ipython",
    "version": 3
   },
   "file_extension": ".py",
   "mimetype": "text/x-python",
   "name": "python",
   "nbconvert_exporter": "python",
   "pygments_lexer": "ipython3",
   "version": "3.8.5"
  }
 },
 "nbformat": 4,
 "nbformat_minor": 4
}
