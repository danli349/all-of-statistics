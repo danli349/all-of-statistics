{
 "cells": [
  {
   "cell_type": "markdown",
   "metadata": {},
   "source": [
    "# 9. The Bootstrap"
   ]
  },
  {
   "cell_type": "markdown",
   "metadata": {},
   "source": [
    "Let $X_1, \\dots, X_n \\sim F$ be random variables distributed according to $F$, and\n",
    "\n",
    "$$ T_n = g(X_1, \\dots, X_n)$$\n",
    "\n",
    "be a **statistic**, that is, any function of the data.  Suppose we want to know $\\mathbb{V}_F(T_n)$, the variance of $T_n$.\n",
    "\n",
    "For example, if $T_n = n^{-1}\\sum_{i=1}^nX_i$ then $\\mathbb{V}_F(T_n) = \\sigma^2/n$ where $\\sigma^2 = \\int (x - \\mu)^2dF(x)$ and $\\mu = \\int x dF(x)$."
   ]
  },
  {
   "cell_type": "markdown",
   "metadata": {},
   "source": [
    "### 9.1 Simulation"
   ]
  },
  {
   "cell_type": "markdown",
   "metadata": {},
   "source": [
    "Suppose we draw iid samples $Y_1, \\dots, Y_B \\sim G$.  By the law of large numbers,\n",
    "\n",
    "$$ \\overline{Y}_n = \\frac{1}{B} \\sum_{j=1}^B Y_j \\; \\xrightarrow{\\text{P}} \\int y dG(y) = \\mathbb{E}(Y)$$\n",
    "\n",
    "as $B \\rightarrow \\infty$.  So if we draw a large sample from $G$, we can use the sample mean to approximate the mean of the distribution.\n",
    "\n",
    "More generally, if $h$ is any function with finite mean then, as $B \\rightarrow \\infty$,\n",
    "\n",
    "$$\\frac{1}{B} \\sum_{j=1}^B h(Y_j) \\; \\xrightarrow{\\text{P}} \\int h(y) dG(y) = \\mathbb{E}(h(Y))$$\n",
    "\n",
    "In particular, as $B \\rightarrow \\infty$,\n",
    "\n",
    "$$\\frac{1}{B} \\sum_{j=1}^B (Y_j - \\overline{Y})^2 \n",
    "= \\frac{1}{B} \\sum_{j=1}^B Y_j^2 - \\left(\\frac{1}{B} \\sum_{j=1}^B Y_j \\right)^2\n",
    "\\xrightarrow{\\text{P}} \\int y^2 dG(y) - \\left( \\int y dG(y) \\right)^2 = \\mathbb{V}(Y)\n",
    "$$\n",
    "\n",
    "So we can use the sample variance of the simulated values to approximate $\\mathbb{V}(Y)$."
   ]
  },
  {
   "cell_type": "markdown",
   "metadata": {},
   "source": [
    "### 9.2 Bootstrap Variance Estimation"
   ]
  },
  {
   "cell_type": "markdown",
   "metadata": {},
   "source": [
    "To simulate from the distribution of a statistic $T_n$ when the data is assumed to have distribution $\\hat{F}_n$, we simulate $X_1^*, \\dots, X_n^*$ from $\\hat{F}_n$ and then compute the statistic over these values, $T_n^* = g(X_1^*, \\dots, X_n^*)$.\n",
    "\n",
    "$$\n",
    "\\begin{align}\n",
    "\\text{Real world} \\quad      & F         & \\Longrightarrow\\quad & X_1, \\dots, X_n        & \\Longrightarrow & \\quad T_n = g(X_1, \\dots, X_n) \\\\\n",
    "\\text{Bootstrap world} \\quad & \\hat{F}_n & \\Longrightarrow\\quad  & X_1^*, \\dots, X_n^* & \\Longrightarrow & \\quad T_n^* = g(X_1^*, \\dots, X_n^*)\n",
    "\\end{align}\n",
    "$$\n",
    "\n",
    "**Drawing an observation from $\\hat{F}_n$ is equivalent to drawing one point at random from the original data set.**"
   ]
  },
  {
   "cell_type": "markdown",
   "metadata": {},
   "source": [
    "#### Bootstrap Variance Estimation\n",
    "\n",
    "1. Draw $X_1^*, \\dots, X_n^* \\sim \\hat{F}_n$.\n",
    "2. Compute $T_n^* = g(X_1^*, \\dots, X_n^*)$.\n",
    "3. Repeat steps 1 and 2, $B$ times, to get $T_{n, 1}^*, \\dots, T_{n, B}^*$.\n",
    "4. Let\n",
    "\n",
    "$$ v_{\\text{boot}} = \\frac{1}{B} \\sum_{b=1}^B \\left( T_{n, b}^* - \\frac{1}{B} \\sum_{r=1}^B T_{n, r}^* \\right)^2 $$"
   ]
  },
  {
   "cell_type": "markdown",
   "metadata": {},
   "source": [
    "### 9.3 Bootstrap Confidence Intervals"
   ]
  },
  {
   "cell_type": "markdown",
   "metadata": {},
   "source": [
    "**Normal Interval**.\n",
    "\n",
    "$$ T_n \\pm z_{\\alpha/2} \\hat{\\text{se}}_\\text{boot} $$\n",
    "\n",
    "where $\\hat{\\text{se}}_\\text{boot}$ is the bootstrap estimate of the standard error.  This is not accurate unless the distribution of $T_n$ is close to Normal."
   ]
  },
  {
   "cell_type": "markdown",
   "metadata": {},
   "source": [
    "**Pivotal Intervals**.\n",
    "\n",
    "Let $\\theta = T(F)$, $\\hat{\\theta}_n = T(\\hat{F}_n)$ and define the **pivot** $R_n = \\hat{\\theta}_n  - \\theta$.  Let $\\hat{\\theta}_{n, 1}^*, \\dots, \\hat{\\theta}_{n, B}^*$ define bootstrap replications of $\\hat{\\theta}_n$.  Let $H(r)$ denote the CDF of the pivot:\n",
    "\n",
    "$$ H(r) = \\mathbb{P}_F(R_n \\leq r)$$\n",
    "\n",
    "Define the interval $C_n^* = (a, b)$ where\n",
    "\n",
    "$$\n",
    "a = \\hat{\\theta}_n - H^{-1}\\left( 1 - \\frac{\\alpha}{2} \\right) \n",
    "\\quad\\text{and}\\quad\n",
    "b = \\hat{\\theta}_n - H^{-1}\\left( \\frac{\\alpha}{2} \\right) \n",
    "$$\n",
    "\n",
    "Then,\n",
    "\n",
    "$$\n",
    "\\begin{align}\n",
    "\\mathbb{P}(a \\leq \\theta \\leq b) &= \\mathbb{P}(a - \\hat{\\theta}_n \\leq \\theta - \\hat{\\theta}_n \\leq b - \\hat{\\theta}_n) \\\\\n",
    "&= \\mathbb{P}(\\hat{\\theta}_n - b \\leq \\hat{\\theta}_n - \\theta \\leq \\hat{\\theta}_n - a) \\\\\n",
    "&= \\mathbb{P}(\\hat{\\theta}_n - b \\leq R_n \\leq \\hat{\\theta}_n - a) \\\\\n",
    "&= H(\\hat{\\theta}_n - a) - H(\\hat{\\theta}_n - b) \\\\\n",
    "&= H\\left(H^{-1}\\left( 1 - \\frac{\\alpha}{2} \\right) \\right) - H\\left(H^{-1}\\left( \\frac{\\alpha}{2} \\right)\\right) \\\\\n",
    "&= 1 - \\frac{\\alpha}{2}  - \\frac{\\alpha}{2} = 1 - \\alpha\n",
    "\\end{align}\n",
    "$$\n",
    "\n",
    "Hence $C_n^*$ is an exact $1 - \\alpha$ confidence interval for $\\theta$.  \n",
    "\n",
    "Unfortunately, $a$ and $b$ depend on the unknown distribution $H$, but we can form a bootstrap estimate for it:\n",
    "\n",
    "$$\\hat{H}(r) = \\frac{1}{B} \\sum_{b=1}^B I(R_{n, b}^* \\leq r)$$\n",
    "\n",
    "where $R_{n, b}^* = \\hat{\\theta}_{n, b}^* - \\hat{\\theta}_n$.\n",
    "\n",
    "Let $r_\\beta^*$ denote the $\\beta$ sample quantile of $(R_{n, 1}^*, \\dots, R_{n, B}^*)$, and let $\\theta_\\beta^*$ denote the $\\beta$ sample quantile of $(\\theta_{n, 1}^*, \\dots, \\theta_{n, B}^*)$.  Note that $r_\\beta^* = \\theta_\\beta^* - \\hat{\\theta}_n$.  It follows an approximate $1 - \\alpha$ confidence interval $C_n = (\\hat{a}, \\hat{b})$ where\n",
    "\n",
    "$$\n",
    "\\hat{a} = \\hat{\\theta}_n - \\hat{H}^{-1}\\left(1 - \\frac{\\alpha}{2}\\right) \n",
    "= \\hat{\\theta}_n - r_{1 - \\alpha/2}^* \n",
    "= 2\\hat{\\theta}_n - \\theta_{1 - \\alpha/2}^*\\\\\n",
    "\\hat{b} = \\hat{\\theta}_n - \\hat{H}^{-1}\\left(\\frac{\\alpha}{2}\\right) \n",
    "= \\hat{\\theta}_n - r_{\\alpha/2}^* \n",
    "= 2\\hat{\\theta}_n - \\theta_{\\alpha/2}^*\n",
    "$$"
   ]
  },
  {
   "cell_type": "markdown",
   "metadata": {},
   "source": [
    "The **$1 - \\alpha$ bootstrap pivotal confidence** is\n",
    "\n",
    "$$ C_n = \\left(2 \\hat{\\theta}_n - \\hat{\\theta}_{1 - \\alpha/2}^*, \\; 2 \\hat{\\theta}_n - \\hat{\\theta}_{\\alpha/2}^* \\right) $$"
   ]
  },
  {
   "cell_type": "markdown",
   "metadata": {},
   "source": [
    "**Theorem 9.3**.  Under weak conditions on $T(F)$, \n",
    "\n",
    "$$ \\lim _{n \\rightarrow \\infty} \\mathbb{P}_F\\left(T(F) \\in C_n\\right) \\rightarrow 1 - \\alpha$$"
   ]
  },
  {
   "cell_type": "markdown",
   "metadata": {},
   "source": [
    "**Percentile Intervals**.\n",
    "\n",
    "The **bootstrap percentile interval** is defined by\n",
    "\n",
    "$$ C_n = \\left( \\theta_{\\alpha/2}^*, \\; \\theta_{1 - \\alpha/2}^*\\right) $$"
   ]
  },
  {
   "cell_type": "markdown",
   "metadata": {},
   "source": [
    "### 9.5 Technical Appendix"
   ]
  },
  {
   "cell_type": "markdown",
   "metadata": {},
   "source": [
    "#### The Jacknife\n",
    "\n",
    "This method is less computationally expensive than bootstraping, but it is less general -- it does *not* produce consistent estimates of the standard errors of the sample quantiles.\n",
    "\n",
    "Let $T_n = T(X_1, \\dots, X_n)$ be a statistic and let $T_{(-i)}$ denote the statistic with the $i$-th observation removed.  Let $\\overline{T}_n = n^{-1} \\sum_{i=1}^n T_{(-1)}$.  The jacknife estimate of $\\mathbb{V}(T_n)$ is\n",
    "\n",
    "$$ v_\\text{jack} = \\frac{n - 1}{n} \\sum_{i=1}^n \\left(T_{(-i)} - \\overline{T}_n \\right)^2 $$\n",
    "\n",
    "and the jacknife estimate of the standard error is $\\hat{\\text{se}}_\\text{jack} = \\sqrt{v_\\text{jack}}$.\n",
    "\n",
    "Under suitable conditions on $T$ it can be shown that $v_\\text{jack} / \\mathbb{V}(T_n) \\xrightarrow{\\text{P}} 1$."
   ]
  },
  {
   "cell_type": "markdown",
   "metadata": {},
   "source": [
    "#### Justification for the Percentile Interval\n",
    "\n",
    "Suppose there exists a monotone transformation $U = m(T)$ such that $U \\sim N(\\phi, c^2)$ where $\\phi = m(\\theta)$.  \n",
    "\n",
    "Let $U_t^* = m(\\theta_{n, b}^*)$.  Let $u_\\beta^*$ be the sample quantile of the $U_b^*$'s.  Since a monotone transformation preserves quantiles, we have that $u_{\\alpha/2}^* = m(\\theta_{\\alpha/2}^*)$.  \n",
    "\n",
    "Also, since $U \\sim N(\\phi, c^2)$ the $\\alpha/2$ quantile of $U$ is $\\phi - z_{\\alpha/2}c$.  Hence $u_{\\alpha/2}^* = \\phi - z_{\\alpha/2}c$.  Similarly, $u_{1 - \\alpha/2}^* = \\phi + z_{\\alpha/2}c$.  \n",
    "\n",
    "Therefore,\n",
    "\n",
    "$$\n",
    "\\begin{align}\n",
    "\\mathbb{P}(\\theta_{\\alpha/2}^* \\leq \\theta \\leq \\theta_{1 - \\alpha/2}^*) &=\n",
    "\\mathbb{P}(m(\\theta_{\\alpha/2}^*) \\leq m(\\theta) \\leq m(\\theta_{1 - \\alpha/2}^*)) \\\\\n",
    "&= \\mathbb{P}(u_{\\alpha/2}^* \\leq \\phi \\leq u_{1 - \\alpha/2}^*) \\\\\n",
    "&= \\mathbb{P}(U - cz_{\\alpha/2} \\leq \\phi \\leq U + cz_{1 - \\alpha/2}) \\\\\n",
    "&= \\mathbb{P}\\left(-z_{\\alpha/2} \\leq \\frac{Y - \\phi}{c} \\leq z_{1 - \\alpha/2} \\right) \\\\\n",
    "&= 1 - \\alpha\n",
    "\\end{align}\n",
    "$$"
   ]
  },
  {
   "cell_type": "markdown",
   "metadata": {},
   "source": [
    "### 9.6 Exercises"
   ]
  },
  {
   "cell_type": "markdown",
   "metadata": {},
   "source": [
    "**Exercise 9.6.1**.  Consider the data in example 9.6.  \n",
    "\n",
    "- Find the plug-in estimate of the correlation coefficient.  \n",
    "- Estimate the standard error using the bootstrap.  \n",
    "- Find a 95% confidence interval using all three methods."
   ]
  },
  {
   "cell_type": "code",
   "execution_count": 1,
   "metadata": {},
   "outputs": [],
   "source": [
    "# Data from example 9.6:\n",
    "\n",
    "LSAT = [576, 635, 558, 578, 666, 580, 555, 661, 651, 605, 653, 575, 545, 572, 594]\n",
    "GPA = [3.39, 3.30, 2.81, 3.03, 3.44, 3.07, 3.00, 3.43, 3.36, 3.13, 3.12, 2.74, 2.76, 2.88, 3.96]"
   ]
  },
  {
   "cell_type": "code",
   "execution_count": 3,
   "metadata": {},
   "outputs": [
    {
     "data": {
      "text/plain": [
       "<matplotlib.axes._subplots.AxesSubplot at 0x7feeb9031520>"
      ]
     },
     "execution_count": 3,
     "metadata": {},
     "output_type": "execute_result"
    },
    {
     "data": {
      "image/png": "[encoded data removed]",
      "text/plain": [
       "<Figure size 432x288 with 1 Axes>"
      ]
     },
     "metadata": {
      "needs_background": "light"
     },
     "output_type": "display_data"
    }
   ],
   "source": [
    "import math\n",
    "import numpy as np\n",
    "import pandas as pd\n",
    "from tqdm import notebook\n",
    "%matplotlib inline\n",
    "\n",
    "df = pd.DataFrame({'LSAT': LSAT, 'GPA': GPA})\n",
    "df.plot.scatter(x='LSAT', y='GPA')"
   ]
  },
  {
   "cell_type": "code",
   "execution_count": 4,
   "metadata": {},
   "outputs": [
    {
     "name": "stdout",
     "output_type": "stream",
     "text": [
      "Estimated correlation coefficient: 0.5459\n"
     ]
    }
   ],
   "source": [
    "# Plug-in estimates for mean and correlation\n",
    "\n",
    "X = df['LSAT'].to_numpy()\n",
    "Y = df['GPA'].to_numpy()\n",
    "\n",
    "def corr(X, Y):\n",
    "    mu_x = X.mean()\n",
    "    mu_y = Y.mean()\n",
    "\n",
    "    return sum((X - mu_x) * (Y - mu_y)) / math.sqrt(sum((X - mu_x)**2) * sum((Y - mu_y)**2))\n",
    "  \n",
    "\n",
    "theta_hat = corr(X, Y)\n",
    "    \n",
    "print('Estimated correlation coefficient: %.4f' % corr(X, Y))"
   ]
  },
  {
   "cell_type": "code",
   "execution_count": 6,
   "metadata": {},
   "outputs": [
    {
     "data": {
      "application/vnd.jupyter.widget-view+json": {
       "model_id": "ef8d724760d540d493aaccf74f254c66",
       "version_major": 2,
       "version_minor": 0
      },
      "text/plain": [
       "  0%|          | 0/1000000 [00:00<?, ?it/s]"
      ]
     },
     "metadata": {},
     "output_type": "display_data"
    },
    {
     "name": "stdout",
     "output_type": "stream",
     "text": [
      "Estimated SE of correlation coefficient: 0.2676\n"
     ]
    }
   ],
   "source": [
    "# Bootstrap for SE of correlation coefficient\n",
    "\n",
    "nx = len(X)\n",
    "ny = len(Y)\n",
    "\n",
    "B = 1000000\n",
    "t_boot = np.empty(B)\n",
    "for i in notebook.tqdm(range(B)):\n",
    "    xx = np.random.choice(X, nx, replace=True)\n",
    "    yy = np.random.choice(Y, ny, replace=True)\n",
    "    t_boot[i] = corr(xx, yy)\n",
    "    \n",
    "se = t_boot.std()\n",
    "\n",
    "print('Estimated SE of correlation coefficient: %.4f' % se)"
   ]
  },
  {
   "cell_type": "code",
   "execution_count": 9,
   "metadata": {},
   "outputs": [
    {
     "name": "stdout",
     "output_type": "stream",
     "text": [
      "95% confidence interval (Normal): \t 0.022, 1.070\n",
      "95% confidence interval (percentile): \t -0.502, 0.523\n",
      "95% confidence interval (pivotal): \t 0.569, 1.594\n"
     ]
    }
   ],
   "source": [
    "# Confidence intervals obtained from bootstrap\n",
    "\n",
    "from scipy.stats import norm\n",
    "\n",
    "z = norm.ppf(.975)\n",
    "\n",
    "normal_conf = (theta_hat - z * se, theta_hat + z * se)\n",
    "percentile_conf = (np.quantile(t_boot, .025), np.quantile(t_boot, .975))\n",
    "pivotal_conf = (2*theta_hat - np.quantile(t_boot, 0.975), 2*theta_hat - np.quantile(t_boot, .025))\n",
    "\n",
    "print('95%% confidence interval (Normal): \\t %.3f, %.3f' % normal_conf)\n",
    "print('95%% confidence interval (percentile): \\t %.3f, %.3f' % percentile_conf)\n",
    "print('95%% confidence interval (pivotal): \\t %.3f, %.3f' % pivotal_conf)"
   ]
  },
  {
   "cell_type": "markdown",
   "metadata": {},
   "source": [
    "**Exercise 9.6.2**.  (Computer Experiment).  Conduct a simulation to compare the four bootstrap confidence interval methods.\n",
    "\n",
    "Let $n = 50$ and let $T(F) = \\int (x - \\mu)^3 dF(x) / \\sigma^3$ be the skewness.  Draw $Y_1, \\dots, Y_n \\sim N(0, 1)$ and set $X_i = e^{Y_i}$, $i = 1, \\dots, n$.  Construct the four types of bootstrap 95% intervals for $T(F)$ from the data $X_1, \\dots, X_n$.  Repeat this whole thing many times and estimate the true coverage of the four intervals."
   ]
  },
  {
   "cell_type": "code",
   "execution_count": 10,
   "metadata": {},
   "outputs": [],
   "source": [
    "import numpy as np\n",
    "from tqdm import notebook\n",
    "from scipy.stats import norm\n",
    "\n",
    "def create_data(n=50):\n",
    "    y = norm.rvs(size=n)\n",
    "    return np.exp(y)\n",
    "\n",
    "def skewness(x):\n",
    "    n = len(x)\n",
    "    mu = sum(x) / n\n",
    "    var = sum((x - mu)**2) / n\n",
    "    return sum((x - mu)**3 / (n * var**(3/2)))\n",
    "\n",
    "def bootstrap_values(x, B=10000, show_progress=True):\n",
    "    n = len(x)\n",
    "    t_boot = np.empty(B)\n",
    "    iterable = notebook.tqdm(range(B)) if show_progress else range(B)\n",
    "    for i in iterable:\n",
    "        xx = np.random.choice(x, n, replace=True)\n",
    "        t_boot[i] = skewness(xx)\n",
    "\n",
    "    return t_boot\n",
    "\n",
    "def bootstrap_intervals(theta_hat, t_boot, alpha=0.05):\n",
    "    se = t_boot.std()\n",
    "    \n",
    "    z = norm.ppf(1 - alpha/2)\n",
    "    q_half_alpha = np.quantile(t_boot, alpha/2)\n",
    "    q_c_half_alpha = np.quantile(t_boot, 1 - alpha/2)\n",
    "\n",
    "    normal_conf = (theta_hat - z * se, theta_hat + z * se)\n",
    "    percentile_conf = (q_half_alpha, q_c_half_alpha)\n",
    "    pivotal_conf = (2*theta_hat - q_c_half_alpha, 2*theta_hat - q_half_alpha)\n",
    "    \n",
    "    return normal_conf, percentile_conf, pivotal_conf"
   ]
  },
  {
   "cell_type": "code",
   "execution_count": 11,
   "metadata": {},
   "outputs": [],
   "source": [
    "# Creating the data\n",
    "x = create_data(n=50)"
   ]
  },
  {
   "cell_type": "code",
   "execution_count": 12,
   "metadata": {},
   "outputs": [
    {
     "data": {
      "application/vnd.jupyter.widget-view+json": {
       "model_id": "75eb5462aa0746639f424589f0154ff5",
       "version_major": 2,
       "version_minor": 0
      },
      "text/plain": [
       "  0%|          | 0/100000 [00:00<?, ?it/s]"
      ]
     },
     "metadata": {},
     "output_type": "display_data"
    },
    {
     "name": "stdout",
     "output_type": "stream",
     "text": [
      "95% confidence interval (Normal): \t 1.828, 7.650\n",
      "95% confidence interval (percentile): \t 0.932, 5.490\n",
      "95% confidence interval (pivotal): \t 3.988, 8.546\n"
     ]
    }
   ],
   "source": [
    "# Nonparametric Bootstrap\n",
    "theta_hat = skewness(x)\n",
    "t_boot = bootstrap_values(x, B=100000)\n",
    "\n",
    "normal_conf, percentile_conf, pivotal_conf = bootstrap_intervals(theta_hat, t_boot, alpha=0.05)\n",
    "\n",
    "print('95%% confidence interval (Normal): \\t %.3f, %.3f' % normal_conf)\n",
    "print('95%% confidence interval (percentile): \\t %.3f, %.3f' % percentile_conf)\n",
    "print('95%% confidence interval (pivotal): \\t %.3f, %.3f' % pivotal_conf)"
   ]
  },
  {
   "cell_type": "markdown",
   "metadata": {},
   "source": [
    "**Note**: parametric bootstrap is only covered in chapter 10.  The below assumes that \"four types of bootstrap\" in the exercise refers to the 3 types of nonparametric bootstrap covered in chapter 9, plus parametric bootstrap from chapter 10.\n",
    "\n",
    "For the parametric bootstrap, assume $X = e^Y$ where $Y \\sim N(\\mu, \\sigma^2)$.  \n",
    "The moment-generating function for a normal random variable Y is:\n",
    "$$\\begin{align}\n",
    "M_X(t)=E(e^{tY})&=\\frac{1}{\\sqrt{2\\pi}\\sigma}\\int_{-\\infty}^{+\\infty}e^{ty} e^{-\\frac{1}{2}(\\frac{y-\\mu}{\\sigma})^2}dy\\\\\n",
    "&=\\frac{1}{\\sqrt{2\\pi}\\sigma}\\int_{-\\infty}^{+\\infty}exp(-\\frac{y^2-2y\\mu+\\mu^2-2\\sigma^2ty}{2\\sigma^2})dy\\\\\n",
    "&=\\frac{1}{\\sqrt{2\\pi}\\sigma}\\int_{-\\infty}^{+\\infty}exp(-\\frac{(y-(\\mu+t\\sigma^2))^2-2t\\mu\\sigma^2-t^2\\sigma^4}{2\\sigma^2})dy\\\\\n",
    "&=\\frac{1}{\\sqrt{2\\pi}\\sigma}exp(t\\mu+t^2\\sigma^2/2)\\int_{-\\infty}^{+\\infty}exp(-\\frac{1}{2}\\frac{(y-(\\mu+t\\sigma^2))^2}{\\sigma^2})dy\\\\\n",
    "&=exp(t\\mu+t^2\\sigma^2/2)\\frac{1}{\\sqrt{2\\pi}\\sigma}\\int_{-\\infty}^{+\\infty}exp\\Biggl[-\\frac{1}{2}\\Bigl[\\frac{y-(\\mu+t\\sigma^2)}{\\sigma}\\Bigr]^2\\Biggr]dy\\\\\n",
    "&=e^{t\\mu+t^2\\sigma^2/2}\n",
    "\\end{align}$$\n",
    "Then\n",
    "\n",
    "$$\\begin{align}\n",
    "\\mathbb{E}(X) &= \\mathbb{E}(e^Y) \\\\\n",
    "&= \\int_{-\\infty}^\\infty e^y \\frac{1}{\\sigma \\sqrt{2 \\pi}} e^{-\\frac{1}{2} \\left(\\frac{y - \\mu}{\\sigma} \\right)^2} dy \\\\\n",
    "&= \\frac{1}{\\sigma \\sqrt{2 \\pi}} \\int e^{y - \\frac{1}{2}\\left(\\frac{y - \\mu}{\\sigma}\\right)^2} dy \\\\\n",
    "&=\\frac{1}{\\sqrt{2\\pi}\\sigma}\\int_{-\\infty}^{+\\infty}exp\\left(-\\frac{y^2-2y\\mu+\\mu^2-2\\sigma^2y}{2\\sigma^2}\\right)dy \\\\\n",
    "&=\\frac{1}{\\sqrt{2\\pi}\\sigma}\\int_{-\\infty}^{+\\infty}exp\\left(-\\frac{(y-(\\mu+\\sigma^2))^2-2\\mu\\sigma^2-\\sigma^4}{2\\sigma^2}\\right)dy \\\\\n",
    "&=\\frac{1}{\\sqrt{2\\pi}\\sigma}exp(\\mu+\\sigma^2/2)\\int_{-\\infty}^{+\\infty}exp\\left(-\\frac{1}{2}\\frac{(y-(\\mu+\\sigma^2))^2}{\\sigma^2}\\right)dy \\\\\n",
    "&=exp(\\mu+\\sigma^2/2)\\frac{1}{\\sqrt{2\\pi}\\sigma}\\int_{-\\infty}^{+\\infty}exp\\Biggl[-\\frac{1}{2}\\Bigl[\\frac{y-(\\mu+\\sigma^2)}{\\sigma}\\Bigr]^2\\Biggr]dy \\\\\n",
    "&= e^{\\mu + \\sigma^2/2} \\\\\n",
    "\\end{align}$$\n",
    "\n",
    "$$\\mathbb{E}(X^2) = \\mathbb{E}(e^{2Y}) = e^{2\\mu + (2\\sigma)^2/2} = e^{2\\mu + 2\\sigma^2}$$\n",
    "\n",
    "Solving the two equations for the moments we get parameter estimates:\n",
    "\n",
    "$$\n",
    "\\begin{align}\n",
    "\\hat{\\mu}_Y & = \\left[4 \\log \\mathbb{E}(X) - \\log \\mathbb{E}(X^2)\\right]/2 \\\\\n",
    "\\hat{\\sigma}_Y & = \\sqrt{\\log \\mathbb{E}(X^2) - 2 \\log \\mathbb{E}(X)}\n",
    "\\end{align}\n",
    "$$\n",
    "\n",
    "From these parameter estimates, we can generate bootstrap samples:  sample values for $Y_i ~ N(\\hat{\\mu}_Y, \\hat{\\sigma}_Y^2)$, calculate $X_i = Y_i$, and calculate the statistic $T(X_i)$ on each sample generated this way."
   ]
  },
  {
   "cell_type": "code",
   "execution_count": 13,
   "metadata": {},
   "outputs": [],
   "source": [
    "# Parametric bootstrap\n",
    "# Assume X = e^Y, Y ~ N(\\mu, \\sigma^2)\n",
    "\n",
    "def estimate_parameters(x):\n",
    "    log_e_x = np.log(x.mean())\n",
    "    log_e_x2 = np.log((x**2).mean())\n",
    "    \n",
    "    mu_Y_hat = (4 * log_e_x - log_e_x2)/2\n",
    "    sigma_Y_hat = np.sqrt(log_e_x2 - 2 * log_e_x)\n",
    "    \n",
    "    return mu_Y_hat, sigma_Y_hat\n",
    "\n",
    "def bootstrap_skewness_parametric(mu, sigma, n, B = 10000, show_progress=True):\n",
    "    t_boot = np.empty(B)\n",
    "    iterable = notebook.tqdm(range(B)) if show_progress else range(B)\n",
    "    for i in iterable:\n",
    "        xx = np.exp(norm.rvs(size=n, loc=n, scale=sigma))\n",
    "        t_boot[i] = skewness(xx)\n",
    "        \n",
    "    return t_boot\n",
    "\n",
    "def bootstrap_parametric_intervals(mu, t_boot, alpha=0.05):\n",
    "    se = t_boot.std()\n",
    "    z = norm.ppf(1 - alpha/2)\n",
    "    \n",
    "    return (theta_hat - z * se, theta_hat + z * se)"
   ]
  },
  {
   "cell_type": "code",
   "execution_count": 14,
   "metadata": {},
   "outputs": [
    {
     "data": {
      "application/vnd.jupyter.widget-view+json": {
       "model_id": "f02781c24d0b492fb93b4590f2132f5a",
       "version_major": 2,
       "version_minor": 0
      },
      "text/plain": [
       "  0%|          | 0/100000 [00:00<?, ?it/s]"
      ]
     },
     "metadata": {},
     "output_type": "display_data"
    },
    {
     "name": "stdout",
     "output_type": "stream",
     "text": [
      "95% confidence interval (Parametric Normal): \t 2.513, 6.965\n"
     ]
    }
   ],
   "source": [
    "mu_X_hat = x.mean()\n",
    "mu_Y_hat, sigma_Y_hat = estimate_parameters(x)\n",
    "t_boot = bootstrap_skewness_parametric(mu_Y_hat, sigma_Y_hat, 50, B=100000)\n",
    "\n",
    "parametric_normal_conf = bootstrap_parametric_intervals(mu_X_hat, t_boot, alpha=0.05)\n",
    "print('95%% confidence interval (Parametric Normal): \\t %.3f, %.3f' % parametric_normal_conf)"
   ]
  },
  {
   "cell_type": "code",
   "execution_count": 15,
   "metadata": {},
   "outputs": [
    {
     "data": {
      "application/vnd.jupyter.widget-view+json": {
       "model_id": "70b877e122c143edacb563e55a67b0d8",
       "version_major": 2,
       "version_minor": 0
      },
      "text/plain": [
       "  0%|          | 0/10 [00:00<?, ?it/s]"
      ]
     },
     "metadata": {},
     "output_type": "display_data"
    }
   ],
   "source": [
    "# Repeat nonparametric bootstrap many times\n",
    "n_experiments = 10\n",
    "\n",
    "normal_conf = np.empty((n_experiments, 2))\n",
    "percentile_conf = np.empty((n_experiments, 2))\n",
    "pivotal_conf = np.empty((n_experiments, 2))\n",
    "\n",
    "for i in notebook.tqdm(range(n_experiments)):\n",
    "    theta_hat = skewness(x)\n",
    "    t_boot_experiment = bootstrap_values(x, B=100000, show_progress=False)\n",
    "    normal_conf[i], percentile_conf[i], pivotal_conf[i] = bootstrap_intervals(theta_hat, t_boot_experiment, alpha=0.05)"
   ]
  },
  {
   "cell_type": "code",
   "execution_count": 16,
   "metadata": {},
   "outputs": [
    {
     "name": "stdout",
     "output_type": "stream",
     "text": [
      "Normal confidence lower bound: \t\t mean 1.821, SE 0.005\n",
      "Normal confidence upper bound: \t\t mean 7.657, SE 0.005\n",
      "Percentile confidence lower bound: \t mean 0.928, SE 0.004\n",
      "Percentile confidence upper bound: \t mean 5.494, SE 0.004\n",
      "Pivotal confidence lower bound: \t mean 3.984, SE 0.004\n",
      "Pivotal confidence upper bound: \t mean 8.550, SE 0.004\n"
     ]
    }
   ],
   "source": [
    "print('Normal confidence lower bound: \\t\\t mean %.3f, SE %.3f' % \n",
    "      (normal_conf[:, 0].mean(), normal_conf[:, 0].std()))\n",
    "print('Normal confidence upper bound: \\t\\t mean %.3f, SE %.3f' % \n",
    "      (normal_conf[:, 1].mean(), normal_conf[:, 1].std()))\n",
    "\n",
    "print('Percentile confidence lower bound: \\t mean %.3f, SE %.3f' % \n",
    "      (percentile_conf[:, 0].mean(), percentile_conf[:, 0].std()))\n",
    "print('Percentile confidence upper bound: \\t mean %.3f, SE %.3f' % \n",
    "      (percentile_conf[:, 1].mean(), percentile_conf[:, 1].std()))\n",
    "\n",
    "print('Pivotal confidence lower bound: \\t mean %.3f, SE %.3f' % \n",
    "      (pivotal_conf[:, 0].mean(), pivotal_conf[:, 0].std()))\n",
    "print('Pivotal confidence upper bound: \\t mean %.3f, SE %.3f' % \n",
    "      (pivotal_conf[:, 1].mean(), pivotal_conf[:, 1].std()))"
   ]
  },
  {
   "cell_type": "code",
   "execution_count": 17,
   "metadata": {},
   "outputs": [
    {
     "data": {
      "application/vnd.jupyter.widget-view+json": {
       "model_id": "7a625d85332f45b197e2b8b492bcb66f",
       "version_major": 2,
       "version_minor": 0
      },
      "text/plain": [
       "  0%|          | 0/10 [00:00<?, ?it/s]"
      ]
     },
     "metadata": {},
     "output_type": "display_data"
    }
   ],
   "source": [
    "# Repeat parametric bootstrap many times\n",
    "\n",
    "n_experiments = 10\n",
    "parametric_normal_conf = np.empty((n_experiments, 2))\n",
    "\n",
    "for i in notebook.tqdm(range(n_experiments)):\n",
    "    mu_X_hat = x.mean()\n",
    "    mu_Y_hat, sigma_Y_hat = estimate_parameters(x)\n",
    "    t_boot = bootstrap_skewness_parametric(mu_Y_hat, sigma_Y_hat, 50, B=100000, show_progress=False)\n",
    "    parametric_normal_conf[i] = bootstrap_parametric_intervals(mu_X_hat, t_boot, alpha=0.05)"
   ]
  },
  {
   "cell_type": "code",
   "execution_count": 18,
   "metadata": {},
   "outputs": [
    {
     "name": "stdout",
     "output_type": "stream",
     "text": [
      "Parametric Normal confidence lower bound: \t mean 2.512, SE 0.006\n",
      "Parametric Normal confidence upper bound: \t mean 6.966, SE 0.006\n"
     ]
    }
   ],
   "source": [
    "print('Parametric Normal confidence lower bound: \\t mean %.3f, SE %.3f' % \n",
    "      (parametric_normal_conf[:, 0].mean(), parametric_normal_conf[:, 0].std()))\n",
    "print('Parametric Normal confidence upper bound: \\t mean %.3f, SE %.3f' % \n",
    "      (parametric_normal_conf[:, 1].mean(), parametric_normal_conf[:, 1].std()))"
   ]
  },
  {
   "cell_type": "markdown",
   "metadata": {},
   "source": [
    "**Exercise 9.6.3**.  Let  $X_1, \\dots, X_n \\sim t_3$ where $n = 25$.  Let $\\theta = T(F) = (q_{.75} - q_{.25})/1.34$ where $q_p$ denotes the $p$-th quantile.  Do a simulation to compare the coverage and length of the following confidence intervals for $\\theta$:\n",
    "\n",
    "- Normal interval with standard error from the bootstrap\n",
    "- Bootstrap percentile interval\n",
    "\n",
    "Remark: the jacknife does not give a consistent estimator of the variance of a quantile."
   ]
  },
  {
   "cell_type": "markdown",
   "metadata": {},
   "source": [
    "**Solution**.  We will assume that $t_3$ represents a t-distribution with shape parameter 3."
   ]
  },
  {
   "cell_type": "code",
   "execution_count": 19,
   "metadata": {},
   "outputs": [],
   "source": [
    "import numpy as np\n",
    "from scipy.stats import t\n",
    "from tqdm import notebook\n",
    "\n",
    "n = 25\n",
    "X = t.rvs(3, size=25)"
   ]
  },
  {
   "cell_type": "code",
   "execution_count": 20,
   "metadata": {},
   "outputs": [],
   "source": [
    "def T(x):\n",
    "    return (np.quantile(x, 0.75) - np.quantile(x, 0.25)) / 1.34"
   ]
  },
  {
   "cell_type": "code",
   "execution_count": 21,
   "metadata": {},
   "outputs": [],
   "source": [
    "theta_hat = T(X)"
   ]
  },
  {
   "cell_type": "code",
   "execution_count": 22,
   "metadata": {},
   "outputs": [
    {
     "data": {
      "application/vnd.jupyter.widget-view+json": {
       "model_id": "e7ca3b454bac4ae7bc6202aa79e19238",
       "version_major": 2,
       "version_minor": 0
      },
      "text/plain": [
       "  0%|          | 0/1000000 [00:00<?, ?it/s]"
      ]
     },
     "metadata": {},
     "output_type": "display_data"
    },
    {
     "name": "stdout",
     "output_type": "stream",
     "text": [
      "95% confidence interval (Normal): \t -0.072, 1.511\n",
      "95% confidence interval (percentile): \t 0.422, 1.767\n"
     ]
    }
   ],
   "source": [
    "# Run bootstrap\n",
    "\n",
    "B = 1000000\n",
    "t_boot = np.empty(B)\n",
    "for i in notebook.tqdm(range(B)):\n",
    "    xx = np.random.choice(X, n, replace=True)\n",
    "    t_boot[i] = T(xx)\n",
    "    \n",
    "se_boot = t_boot.std()\n",
    "\n",
    "alpha = 0.05\n",
    "z = norm.ppf(1 - alpha/2)\n",
    "q_half_alpha = np.quantile(t_boot, alpha/2)\n",
    "q_c_half_alpha = np.quantile(t_boot, 1 - alpha/2)\n",
    "\n",
    "normal_conf = (theta_hat - z * se_boot, theta_hat + z * se_boot)\n",
    "percentile_conf = (q_half_alpha, q_c_half_alpha)\n",
    "\n",
    "print('95%% confidence interval (Normal): \\t %.3f, %.3f' % normal_conf)\n",
    "print('95%% confidence interval (percentile): \\t %.3f, %.3f' % percentile_conf)"
   ]
  },
  {
   "cell_type": "markdown",
   "metadata": {},
   "source": [
    "**Exercise 9.6.4**.  Let $X_1, \\dots, X_n$ be distinct observations (no ties).  Show that there are\n",
    "\n",
    "$$ \\binom{2n - 1}{n}$$\n",
    "\n",
    "distinct bootstrap samples.\n",
    "\n",
    "Hint: Imagine putting $n$ balls into $n$ buckets."
   ]
  },
  {
   "cell_type": "markdown",
   "metadata": {},
   "source": [
    "**Solution**.\n",
    "\n",
    "Each bootstrap sample (random draws with replacement) will select $a_i$ copies of $X_i$, where $0 \\leq a_i \\leq n$ and $\\sum_{i=1}^n a_i = n$, for integer $a_i$.  Each bootstrap sample is uniquely represented by this sequence of variables, and each sequence of variables uniquely determines a bootstrap sample -- so the number of distinct bootstrap samples is equal to the number of solutions to this equation, that is, the number of partitions of $n$ into $n$ buckets.\n",
    "\n",
    "Lets write $a_i$ explicitly in base 1, representing it as $a_i$ consecutive copies of the digit 1:\n",
    "\n",
    "$$\n",
    "\\begin{align}\n",
    "0_{10} & = \\text{empty string}_1 \\\\\n",
    "1_{10} & = 1_1 \\\\\n",
    "2_{10} & = 11_1 \\\\\n",
    "3_{10} & = 111_1 \\\\\n",
    "4_{10} & = 1111_1 \\\\\n",
    "\\vdots\n",
    "\\end{align}\n",
    "$$\n",
    "\n",
    "So a solution for\n",
    "\n",
    "$$a_1 + a_2 + \\dots + a_n = n$$\n",
    "\n",
    "is uniquely represented by a sequence of $2n - 1$ symbols, being $n$ digits $1$ and $n - 1$ plus signs.  For example, if $a_1 = 3$, $a_2 = 0$, $a_3 = 1$, then we write\n",
    "\n",
    "$$ 111 + + 1 + \\dots = n $$\n",
    "\n",
    "The number of such solutions is then obtained by choosing $n$ of the $2n - 1$ symbols to be digit $1$ -- that is, $\\binom{2n - 1}{n}$."
   ]
  },
  {
   "cell_type": "markdown",
   "metadata": {},
   "source": [
    "**Exercise 9.6.5**.  Let $X_1, \\dots, X_n$ be distinct observations (no ties).  Let $X_1^*, \\dots, X_n^*$ denote a bootstrap sample and let $\\overline{X}_n^* = n^{-1}\\sum_{i=1}^nX_i^*$.  Find:\n",
    "\n",
    "- $\\mathbb{E}(\\overline{X}_n^* | X_1, \\dots, X_n)$\n",
    "- $\\mathbb{V}(\\overline{X}_n^* | X_1, \\dots, X_n)$\n",
    "- $\\mathbb{E}(\\overline{X}_n^*)$\n",
    "- $\\mathbb{V}(\\overline{X}_n^*)$"
   ]
  },
  {
   "cell_type": "markdown",
   "metadata": {},
   "source": [
    "**Solution**.\n",
    "\n",
    "**(a)** $$\n",
    "\\begin{align}\n",
    "\\mathbb{E}(\\overline{X}_n^* | X_1, \\dots, X_n) &= \\mathbb{E}\\left(n^{-1}\\sum_{i=1}^nX_i\\right) = n^{-1}\\sum_{i=1}^n \\mathbb{E}(X_i) = \\mathbb{E}(X)\n",
    "\\end{align}\n",
    "$$\n",
    "\n",
    "**(b)** $$\n",
    "\\begin{align}\n",
    "\\mathbb{V}(\\overline{X}_n^* | X_1, \\dots, X_n) & =\n",
    "\\mathbb{E}((\\overline{X}_n^*)^2 | X_1, \\dots, X_n) - \\mathbb{E}(\\overline{X}_n^* | X_1, \\dots, X_n)^2 \\\\\n",
    "&= \\mathbb{E}\\left(\\left(n^{-1}\\sum_{i=1}^nX_i\\right)^2\\right) - \\mathbb{E}\\left(n^{-1}\\sum_{i=1}^nX_i\\right)^2 \\\\\n",
    "&= n^{-2} \\mathbb{E}\\left(\\sum_{i=1}^nX_i^2 + \\sum_{i=1}^n \\sum_{j=1, j \\neq i}^n X_i X_j\\right) - \\mathbb{E}(X)^2 \\\\\n",
    "&= n^{-2} \\sum_{i=1}^n \\mathbb{E}(X_i^2) + n^{-2} \\sum_{i=1}^n \\sum_{j=1, j \\neq i}^n \\mathbb{E}(X_i X_j) - \\mathbb{E}(X)^2  \\\\\n",
    "&= n^{-1} (\\mathbb{V}(X) + \\mathbb{E}(X)^2) + n^{-2} \\sum_{i=1}^n \\sum_{j=1, j \\neq i}^n \\mathbb{E}(X_i) \\mathbb{E}(X_j) - \\mathbb{E}(X)^2 \\\\\n",
    "&= n^{-1} (\\mathbb{V}(X) + \\mathbb{E}(X)^2) + n^{-1} (n - 1) \\mathbb{E}(X)^2 - \\mathbb{E}(X)^2 \\\\\n",
    "&= \\frac{1}{n}\\mathbb{V}(X)\n",
    "\\end{align}\n",
    "$$\n",
    "\n",
    "**(c)** $$\n",
    "\\begin{align}\n",
    "\\mathbb{E}(\\overline{X}_n^*) &= \\mathbb{E}\\left(n^{-1} \\sum_{i=1}^nX_i^*\\right) = n^{-1} \\sum_{i=1}^n \\mathbb{E}(X_i^*) = \\mathbb{E}(X)\n",
    "\\end{align}\n",
    "$$\n",
    "\n",
    "**(d)** $$\n",
    "\\begin{align}\n",
    "\\mathbb{V}(\\overline{X}_n^*) &= \\mathbb{E}((\\overline{X}_n^*)^2) - \\mathbb{E}(\\overline{X}_n^*)^2 \\\\\n",
    "&= \\mathbb{E}\\left(\\left(n^{-1} \\sum_{i=1}^nX_i^*\\right)^2\\right) - \\mathbb{E}(X)^2 \\\\\n",
    "&= n^{-2} \\sum_{i=1}^n\\sum_{j=1}^n \\mathbb{E}(X_i^* X_j^*) - \\mathbb{E}(X)^2\n",
    "\\end{align}\n",
    "$$\n",
    "\n",
    "Now, the same value $X_k$ may have been sampled twice in $\\mathbb{E}(X_i^* X_j^*)$.  This always happens when $i = j$, and this happens with probability $1 / n$ when $i \\neq j$. Thus,\n",
    "\n",
    "$$\n",
    "\\begin{align}\n",
    "\\mathbb{V}(\\overline{X}_n^*) \n",
    "&= n^{-2} \\left(\\sum_{i=1}^n \\mathbb{E}(X_i^2) + \\sum_{i=1}^n \\sum_{j=1, j \\neq i}^n \\left( \\frac{1}{n} \\mathbb{E}(X_i^2) + \\left(1 - \\frac{1}{n}\\right)\\mathbb{E}(X_i)\\mathbb{E}(X_j)\\right) \\right) - \\mathbb{E}(X)^2 \\\\\n",
    "&= n^{-1} \\mathbb{E}(X^2) + n^{-2} (n-1) \\mathbb{E}(X^2) + n^{-2}(n-1)^2 E(X)^2 - \\mathbb{E}(X)^2 \\\\\n",
    "&= n^{-2} (2n - 1) \\left( \\mathbb{E}(X^2) - \\mathbb{E}(X)^2 \\right) \\\\\n",
    "&= \\frac{2n - 1}{n^2} \\mathbb{V}(X)\n",
    "\\end{align}\n",
    "$$"
   ]
  },
  {
   "cell_type": "markdown",
   "metadata": {},
   "source": [
    "**Exercise 9.6.6**.  (Computer Experiment).  Let $X_1, \\dots, X_n \\sim N(\\mu, 1)$.  Let $\\theta = e^\\mu$and let $\\hat{\\theta} = e^{\\overline{X}}$ be the mle.  Create a dataset (using $\\mu = 5$) consisting of $n = 100$ observations.\n",
    "\n",
    "**(a)** Use the bootstrap to get the $\\text{se}$ and 95% confidence interval for $\\theta$.\n",
    "\n",
    "**(b)** Plot a histogram of the bootstrap replications for the parametric and non-parametric bootstraps.  These are estimates of the distribution of $\\hat{\\theta}$.  Compare this to the true sampling distribution of $\\hat{\\theta}$."
   ]
  },
  {
   "cell_type": "code",
   "execution_count": 23,
   "metadata": {},
   "outputs": [],
   "source": [
    "import numpy as np\n",
    "import pandas as pd\n",
    "from scipy.stats import norm\n",
    "from tqdm import notebook\n",
    "%matplotlib inline\n",
    "\n",
    "X = norm.rvs(loc=5, scale=1, size=100)"
   ]
  },
  {
   "cell_type": "code",
   "execution_count": 24,
   "metadata": {},
   "outputs": [
    {
     "data": {
      "application/vnd.jupyter.widget-view+json": {
       "model_id": "e30003a235014c61b7072c1c7c5d06e0",
       "version_major": 2,
       "version_minor": 0
      },
      "text/plain": [
       "  0%|          | 0/1000000 [00:00<?, ?it/s]"
      ]
     },
     "metadata": {},
     "output_type": "display_data"
    },
    {
     "name": "stdout",
     "output_type": "stream",
     "text": [
      "95% confidence interval (Normal): \t 128.387, 194.808\n"
     ]
    }
   ],
   "source": [
    "# Get estimated value\n",
    "\n",
    "theta_hat = np.exp(X.mean())\n",
    "\n",
    "# Run nonparametric bootstrap\n",
    "\n",
    "B = 1000000\n",
    "t_boot_nonparam = np.empty(B)\n",
    "n = len(X)\n",
    "for i in notebook.tqdm(range(B)):\n",
    "    xx = np.random.choice(X, n, replace=True)\n",
    "    t_boot_nonparam[i] = np.exp(xx.mean())\n",
    "    \n",
    "se_boot = t_boot_nonparam.std()\n",
    "\n",
    "alpha = 0.05\n",
    "z = norm.ppf(1 - alpha/2)\n",
    "normal_conf = (theta_hat - z * se_boot, theta_hat + z * se_boot)\n",
    "\n",
    "print('95%% confidence interval (Normal): \\t %.3f, %.3f' % normal_conf)"
   ]
  },
  {
   "cell_type": "code",
   "execution_count": 25,
   "metadata": {},
   "outputs": [
    {
     "data": {
      "application/vnd.jupyter.widget-view+json": {
       "model_id": "4df02b67bfb64c8caf5f6f8db83b2a89",
       "version_major": 2,
       "version_minor": 0
      },
      "text/plain": [
       "  0%|          | 0/1000000 [00:00<?, ?it/s]"
      ]
     },
     "metadata": {},
     "output_type": "display_data"
    },
    {
     "name": "stdout",
     "output_type": "stream",
     "text": [
      "95% confidence interval (Parametric Normal): \t 129.688, 193.507\n"
     ]
    }
   ],
   "source": [
    "# Run parametric bootstrap\n",
    "\n",
    "mu_hat = X.mean()\n",
    "theta_hat = np.exp(mu_hat)\n",
    "\n",
    "B = 1000000\n",
    "t_boot_param = np.empty(B)\n",
    "n = len(X)\n",
    "for i in notebook.tqdm(range(B)):\n",
    "    xx = norm.rvs(size=n, loc=mu_hat, scale=1)\n",
    "    t_boot_param[i] = np.exp(xx.mean())\n",
    "    \n",
    "se_boot_param = t_boot_param.std()\n",
    "\n",
    "alpha = 0.05\n",
    "z = norm.ppf(1 - alpha/2)\n",
    "normal_conf_param = (theta_hat - z * se_boot_param, theta_hat + z * se_boot_param)\n",
    "\n",
    "print('95%% confidence interval (Parametric Normal): \\t %.3f, %.3f' % normal_conf_param)"
   ]
  },
  {
   "cell_type": "markdown",
   "metadata": {},
   "source": [
    "For the true sampling distribution,\n",
    "\n",
    "$$ \\overline{X} = \\frac{1}{n} \\sum_{i=1}^n X_i \\sim \\frac{1}{n} N(n \\mu, n) = N(\\mu, n^{-2})$$\n",
    "\n",
    "so the distribution of $\\hat{\\theta}$ is the distribution of $e^\\overline{X}$.  Its CDF is:\n",
    "\n",
    "$$\n",
    "\\mathbb{P}\\left(\\hat{\\theta} \\leq t\\right) = \n",
    "\\mathbb{P}\\left(e^\\overline{X} \\leq t\\right) = \n",
    "\\mathbb{P}\\left(\\overline{X} \\leq \\log t\\right) = F_{\\overline{X}}\\left(\\log t\\right)\n",
    "$$"
   ]
  },
  {
   "cell_type": "code",
   "execution_count": 26,
   "metadata": {},
   "outputs": [],
   "source": [
    "import numpy as np\n",
    "from scipy.stats import norm\n",
    "from matplotlib import pyplot\n",
    "\n",
    "bins = np.linspace(50, 250, 500)"
   ]
  },
  {
   "cell_type": "code",
   "execution_count": 27,
   "metadata": {},
   "outputs": [],
   "source": [
    "# Generate the CDF for theta, calculate it for each bin, and include the differences between bins\n",
    "\n",
    "def theta_cdf(x):\n",
    "    return norm.cdf(np.log(x), loc=5, scale=1/50)\n",
    "\n",
    "theta_cdf_bins = list(map(theta_cdf, bins))\n",
    "theta_cdf_bins_delta = np.empty(len(bins))\n",
    "theta_cdf_bins_delta[0] = 0\n",
    "theta_cdf_bins_delta[1:] = np.diff(theta_cdf_bins)"
   ]
  },
  {
   "cell_type": "code",
   "execution_count": 28,
   "metadata": {},
   "outputs": [
    {
     "data": {
      "image/png": "[encoded data removed]",
      "text/plain": [
       "<Figure size 864x576 with 1 Axes>"
      ]
     },
     "metadata": {
      "needs_background": "light"
     },
     "output_type": "display_data"
    }
   ],
   "source": [
    "pyplot.figure(figsize=(12, 8))\n",
    "pyplot.hist(t_boot_nonparam, bins, label='Nonparametric bootstrap', color='blue', histtype='step', density=True)\n",
    "pyplot.hist(t_boot_param, bins, label='Parametric bootstrap', color='red', histtype='step', density=True)\n",
    "pyplot.step(bins, theta_cdf_bins_delta, color='green', label='True sampling distribution')\n",
    "pyplot.axvline(x=np.exp(5), color='black', label='θ (true parameter)')\n",
    "pyplot.legend(loc='upper left')\n",
    "pyplot.show()"
   ]
  },
  {
   "cell_type": "markdown",
   "metadata": {},
   "source": [
    "**Exercise 9.6.7**. Let $X_1, \\dots, X_n \\sim \\text{Uniform}(0, \\theta)$.  The mle is $\\hat{\\theta} = X_\\text{max} = \\max \\{ X_1, \\dots, X_n \\}$.  Generate a dataset of size 50 with $\\theta = 1$.\n",
    "\n",
    "**(a)**  Find the distribution of $\\hat{\\theta}$.  Compare the true distribution of $\\hat{\\theta}$ to the histograms from the parametric and nonparametric bootstraps.\n",
    "\n",
    "**(b)**  This is a case where the nonparametric bootstrap does very poorly.  In fact, we can prove that this is the case.  Show that, for parametric bootstrap $\\mathbb{P}(\\hat{\\theta}^* = \\hat{\\theta}) = 0$ but for the nonparametric $\\mathbb{P}(\\hat{\\theta}^* = \\hat{\\theta}) \\approx 0.632$.\n",
    "\n",
    "Hint: show that $\\mathbb{P}(\\hat{\\theta}^* = \\hat{\\theta}) = 1 - (1 - (1/n))^n$ then take the limit as $n$ gets large."
   ]
  },
  {
   "cell_type": "code",
   "execution_count": 29,
   "metadata": {},
   "outputs": [],
   "source": [
    "import numpy as np\n",
    "\n",
    "X = np.random.uniform(low=0, high=1, size=50)"
   ]
  },
  {
   "cell_type": "code",
   "execution_count": 30,
   "metadata": {},
   "outputs": [
    {
     "data": {
      "application/vnd.jupyter.widget-view+json": {
       "model_id": "68d322abcc4e4758b9814763db80a568",
       "version_major": 2,
       "version_minor": 0
      },
      "text/plain": [
       "  0%|          | 0/1000000 [00:00<?, ?it/s]"
      ]
     },
     "metadata": {},
     "output_type": "display_data"
    },
    {
     "name": "stdout",
     "output_type": "stream",
     "text": [
      "95% confidence interval (Normal): \t 0.979, 1.019\n"
     ]
    }
   ],
   "source": [
    "# Nonparametric bootstrap\n",
    "\n",
    "theta_hat = X.max()\n",
    "\n",
    "B = 1000000\n",
    "t_boot_nonparam = np.empty(B)\n",
    "n = len(X)\n",
    "for i in notebook.tqdm(range(B)):\n",
    "    xx = np.random.choice(X, n, replace=True)\n",
    "    t_boot_nonparam[i] = xx.max()\n",
    "    \n",
    "se_boot = t_boot_nonparam.std()\n",
    "\n",
    "alpha = 0.05\n",
    "z = norm.ppf(1 - alpha/2)\n",
    "normal_conf = (theta_hat - z * se_boot, theta_hat + z * se_boot)\n",
    "\n",
    "print('95%% confidence interval (Normal): \\t %.3f, %.3f' % normal_conf)"
   ]
  },
  {
   "cell_type": "code",
   "execution_count": 31,
   "metadata": {},
   "outputs": [
    {
     "data": {
      "application/vnd.jupyter.widget-view+json": {
       "model_id": "43198981941744e18955d34405994fce",
       "version_major": 2,
       "version_minor": 0
      },
      "text/plain": [
       "  0%|          | 0/1000000 [00:00<?, ?it/s]"
      ]
     },
     "metadata": {},
     "output_type": "display_data"
    },
    {
     "name": "stdout",
     "output_type": "stream",
     "text": [
      "95% confidence interval (Parametric Normal): \t 0.961, 1.037\n"
     ]
    }
   ],
   "source": [
    "# Run parametric bootstrap\n",
    "\n",
    "theta_hat = X.max()\n",
    "\n",
    "B = 1000000\n",
    "t_boot_param = np.empty(B)\n",
    "n = len(X)\n",
    "for i in notebook.tqdm(range(B)):\n",
    "    xx = np.random.uniform(low=0, high=theta_hat, size=50)\n",
    "    t_boot_param[i] = xx.max()\n",
    "    \n",
    "se_boot_param = t_boot_param.std()\n",
    "\n",
    "alpha = 0.05\n",
    "z = norm.ppf(1 - alpha/2)\n",
    "normal_conf_param = (theta_hat - z * se_boot_param, theta_hat + z * se_boot_param)\n",
    "\n",
    "print('95%% confidence interval (Parametric Normal): \\t %.3f, %.3f' % normal_conf_param)"
   ]
  },
  {
   "cell_type": "markdown",
   "metadata": {},
   "source": [
    "For the true sampling distribution,\n",
    "\n",
    "$$\\hat{\\theta} = \\max \\{ X_1, \\dots X_n \\}$$\n",
    "\n",
    "Its CDF is\n",
    "\n",
    "$$\\mathbb{P}(\\hat{\\theta} \\leq x) = \\prod_{i=1}^n \\mathbb{P}(X_i \\leq x) = F_{\\text{Uniform}(0, \\theta)}(x)^n$$\n",
    "\n",
    "where\n",
    "\n",
    "$$F_{\\text{Uniform}(0, \\theta)}(x) = \\begin{cases}\n",
    "0 & \\text{if } x \\leq 0 \\\\\n",
    "\\frac{x}{\\theta} & \\text{if } 0 < x \\leq \\theta \\\\\n",
    "1 & \\text{if } \\theta < x\n",
    "\\end{cases}\n",
    "$$"
   ]
  },
  {
   "cell_type": "code",
   "execution_count": 32,
   "metadata": {},
   "outputs": [],
   "source": [
    "bins = np.linspace(0.75, 1.05, 200)"
   ]
  },
  {
   "cell_type": "code",
   "execution_count": 33,
   "metadata": {},
   "outputs": [],
   "source": [
    "# Generate the CDF for theta, calculate it for each bin, and include the differences between bins\n",
    "\n",
    "def theta_cdf(x):\n",
    "    if x <= 0:\n",
    "        return 0\n",
    "    if x >= 1:\n",
    "        return 1\n",
    "    return x**50\n",
    "\n",
    "theta_cdf_bins = list(map(theta_cdf, bins))\n",
    "theta_cdf_bins_delta = np.empty(len(bins))\n",
    "theta_cdf_bins_delta[0] = 0\n",
    "theta_cdf_bins_delta[1:] = np.diff(theta_cdf_bins)"
   ]
  },
  {
   "cell_type": "code",
   "execution_count": 34,
   "metadata": {},
   "outputs": [
    {
     "data": {
      "image/png": "[encoded data removed]",
      "text/plain": [
       "<Figure size 864x576 with 1 Axes>"
      ]
     },
     "metadata": {
      "needs_background": "light"
     },
     "output_type": "display_data"
    }
   ],
   "source": [
    "pyplot.figure(figsize=(12, 8))\n",
    "pyplot.hist(t_boot_nonparam, bins, label='Nonparametric bootstrap', color='blue', histtype='step', density=True)\n",
    "pyplot.hist(t_boot_param, bins, label='Parametric bootstrap', color='red', histtype='step', density=True)\n",
    "pyplot.axvline(x=1, color='black', label='θ (true parameter)')\n",
    "pyplot.legend(loc='upper left')\n",
    "pyplot.show()"
   ]
  },
  {
   "cell_type": "code",
   "execution_count": 35,
   "metadata": {},
   "outputs": [
    {
     "data": {
      "image/png": "[encoded data removed]",
      "text/plain": [
       "<Figure size 864x576 with 1 Axes>"
      ]
     },
     "metadata": {
      "needs_background": "light"
     },
     "output_type": "display_data"
    }
   ],
   "source": [
    "pyplot.figure(figsize=(12, 8))\n",
    "pyplot.step(bins, theta_cdf_bins_delta, color='green', label='True sampling distribution')\n",
    "pyplot.axvline(x=1, color='black', label='θ (true parameter)')\n",
    "pyplot.legend(loc='upper left')\n",
    "pyplot.ylim(0, 0.1)\n",
    "pyplot.show()"
   ]
  },
  {
   "cell_type": "markdown",
   "metadata": {},
   "source": [
    "**(b)**\n",
    "\n",
    "For the parametric bootstrap process, the estimated parameter $\\hat{\\theta}^*$ is used on each $k$-th bootstrap sampling $\\{ X_{k1}, X_{k2}, \\dots, X_{kn} \\}$.  But each variable $X_{kj}$ is sampled from  $\\text{Uniform}(0, \\hat{\\theta}^*)$, which is a continuous distribution -- so the probability of obtaining exactly a sample at the boundaries is 0, and $\\mathbb{P}(X_{kj} < \\hat{\\theta}^*) = 1$.  Since the bootstrap functional of each draw, $T(F_n) = \\max(F_n)$ is the largest drawn value in each sample, its values will also always be under $\\hat{\\theta}$, thus the estimated parameter via parametric bootstraping will aywals be under $[\\hat{\\theta}$, and $\\mathbb{P}(\\hat{\\theta}* = \\hat{\\theta}) = 0$].\n",
    "\n",
    "For the nonparametric bootstrap process, the estimated parameter $\\hat{\\theta}^*$ is the maximum value with a point mass in the empirical distribution function $\\hat{F}$.  Each bootstrap resample may or may not include that value when drawing from this sample -- if $\\max\\{X_1, \\dots, X_n\\} \\in \\{X_{k1}, \\dots, X_{kn} \\}$ then the estimated functional for that bootstrap sample will be the estimated parameter $\\hat{\\theta}^*$, otherwise it will necessarily be smaller.\n",
    "\n",
    "Thus, the probability that  $\\mathbb{P}(\\hat{\\theta}* = \\hat{\\theta})$ is the probability that the largest element on the original data is included in a resampling with replacement.  That turns out to be one minus the probability that it never gets included, so,  $\\mathbb{P}(\\hat{\\theta}* = \\hat{\\theta}) = 1 - (1 - (1/n))^n$.  But $\\lim_{n \\rightarrow \\infty } (1 + x/n)^n = e^x$, so the given probability goes to $1 - e^{-1} \\approx 0.632$. "
   ]
  },
  {
   "cell_type": "markdown",
   "metadata": {},
   "source": [
    "**Exercise 9.6.8**.  Let $T_n = \\overline{X}_n^2$, $\\mu = \\mathbb{E}(X_1)$, $\\alpha_k = \\int |x - \\mu|^k dF(x)$ and $\\hat{\\alpha}_k = n^{-1} \\sum_{i=1}^n |X_i - \\overline{X}_n|^k$.  Show that\n",
    "\n",
    "$$v_\\text{boot} = \\frac{4 \\overline{X}_n^2 \\hat{\\alpha}_2}{n} + \\frac{4 \\overline{X}_n \\hat{\\alpha}_3}{n^2} + \\frac{\\hat{\\alpha}_4}{n^3}$$"
   ]
  },
  {
   "cell_type": "markdown",
   "metadata": {},
   "source": [
    "**Solution**.\n",
    "\n",
    "First, we rewrite the sample mean in terms of an expression containing the central moments.  Let $S_n = n^{-1} \\sum_{i=1}^n (X_i - \\overline{X}_n) = 0$.  Then:\n",
    "\n",
    "$$ \\overline{X}_n = S_n + \\overline{X}_n = \\frac{1}{n} \\sum_{i=1}^n (X_i - \\overline{X}_n) + \\overline{X}_n $$\n",
    "\n",
    "The bootstrap variance, $\\mathbb{V}\\left(\\overline{X}_n^2\\right)$, can be expressed as\n",
    "\n",
    "$$ \\mathbb{V}\\left(\\overline{X}_n^2\\right) = \\mathbb{E}\\left(\\overline{X}_n^4\\right) - \\mathbb{E}\\left(\\overline{X}_n^2\\right)^2 $$\n",
    "\n",
    "Note that $\\overline{X}_n$ is the mean of the distribution, and can be treated as constant when taking expectations.\n",
    "\n",
    "We now have:\n",
    "\n",
    "$$\n",
    "\\begin{align}\n",
    "\\mathbb{E}\\left(\\overline{X}_n^4\\right) &= \\mathbb{E}\\left( (S_n + \\overline{X}_n)^4 \\right) \\\\\n",
    "&= \\mathbb{E}\\left( S_n^4 + 4 S_n^3 \\overline{X}_n + 6 S_n^2 \\overline{X}_n^2 + 4 S_n \\overline{X}_n^3 + \\overline{X}_n^4 \\right) \\\\\n",
    "&= \\mathbb{E}(S_n^4) + 4 \\overline{X}_n \\mathbb{E}(S_n^3) + 6 \\overline{X}_n^2 \\mathbb{E}(S_n^2) + 4 \\overline{X}_n^3 \\mathbb{E}(S_n) + \\overline{X}_n^4\n",
    "\\end{align}\n",
    "$$\n",
    "\n",
    "Then, computing the moments of $S_n$,\n",
    "\n",
    "$$\n",
    "\\begin{align}\n",
    "\\mathbb{E}(S_n) &= 0 \\\\\n",
    "\\mathbb{E}(S_n^2) &= \\mathbb{E}\\left( n^{-2} \\left( \\sum_i X_i - \\overline{X}_n \\right)^2 \\right) = \\frac{\\hat{\\alpha}_2}{n} \\\\\n",
    "\\mathbb{E}(S_n^3) &= \\mathbb{E}\\left( n^{-3} \\left( \\sum_i X_i - \\overline{X}_n \\right)^3 \\right) = \\frac{\\hat{\\alpha}_3}{n^2} \\\\\n",
    "\\mathbb{E}(S_n^4) &= \\mathbb{E}\\left( n^{-4} \\left( \\sum_i X_i - \\overline{X}_n \\right)^4 + n^{-2}n^{-4} \\sum_i \\sum_{j \\neq i} (X_i - \\overline{X}_n)^2 (X_j - \\overline{X}_n)^2 \\right) = \\frac{\\hat{\\alpha}_4 + \\hat{\\alpha}_2^2}{n^3}\n",
    "\\end{align}\n",
    "$$\n",
    "\n",
    "and finally\n",
    "\n",
    "$$\n",
    "\\mathbb{E}\\left(\\overline{X}_n^2\\right)^2 = \\mathbb{E}\\left(\\overline{X}_n^2 + S_n\\right)^2 = \\overline{X}_n^4 + 2 \\overline{X}_n^2 \\frac{\\hat{\\alpha}_2}{n} + \\frac{\\hat{\\alpha}_2^2}{n^2}\n",
    "$$\n",
    "\n",
    "Putting everything together,\n",
    "\n",
    "$$\n",
    "\\begin{align}\n",
    "v_\\text{boot} &= \\mathbb{E}\\left( (S_n + \\overline{X}_n)^4 \\right) - \\mathbb{E}\\left(\\overline{X}_n^2 + S_n\\right)^2 \\\\\n",
    "&= \\mathbb{E}(S_n^4) + 4 \\overline{X}_n \\mathbb{E}(S_n^3) + 6 \\overline{X}_n^2 \\mathbb{E}(S_n^2) + 4 \\overline{X}_n^3 \\mathbb{E}(S_n) + \\overline{X}_n^4 - \\left( \\overline{X}_n^4 + 2 \\overline{X}_n^2 \\frac{\\hat{\\alpha}_2}{n} + \\frac{\\hat{\\alpha}_2^2}{n^2}\\right) \\\\\n",
    "&= \\frac{\\hat{\\alpha}_4 + \\hat{\\alpha}_2^2}{n^3} + 4 \\overline{X}_n \\frac{\\hat{\\alpha}_3}{n^2} + 6 \\overline{X}_n^2 \\frac{\\hat{\\alpha}_2}{n} + 0 + \\overline{X}_n^4 - \\overline{X}_n^4 - 2 \\overline{X}_n^2 \\frac{\\hat{\\alpha}_2}{n} - \\frac{\\hat{\\alpha}_2^2}{n^2} \\\\\n",
    "&= \\frac{4 \\overline{X}_n^2 \\hat{\\alpha}_2}{n} + \\frac{4 \\overline{X}_n \\hat{\\alpha}_3}{n^2} + \\frac{\\hat{\\alpha}_4}{n^3}\n",
    "\\end{align}\n",
    "$$\n",
    "\n",
    "*Reference and discussion: https://stats.stackexchange.com/q/26082*"
   ]
  }
 ],
 "metadata": {
  "kernelspec": {
   "display_name": "Python 3",
   "language": "python",
   "name": "python3"
  },
  "language_info": {
   "codemirror_mode": {
    "name": "ipython",
    "version": 3
   },
   "file_extension": ".py",
   "mimetype": "text/x-python",
   "name": "python",
   "nbconvert_exporter": "python",
   "pygments_lexer": "ipython3",
   "version": "3.8.5"
  }
 },
 "nbformat": 4,
 "nbformat_minor": 4
}
