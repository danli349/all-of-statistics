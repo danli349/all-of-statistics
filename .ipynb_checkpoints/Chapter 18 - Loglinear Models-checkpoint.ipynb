{
 "cells": [
  {
   "cell_type": "markdown",
   "metadata": {},
   "source": [
    "## 18. Loglinear Models"
   ]
  },
  {
   "cell_type": "markdown",
   "metadata": {},
   "source": [
    "### 18.1 The Loglinear Model"
   ]
  },
  {
   "cell_type": "markdown",
   "metadata": {},
   "source": [
    "Let $X = (X_1, \\dots, X_m)$ be a random vector with probability\n",
    "\n",
    "$$ f(x) = \\mathbb{P}(X = x) = \\mathbb{P}(X_1 = x_1, \\dots, X_m = x_m) $$\n",
    "\n",
    "Let $r_j$ be the number of values that $X_j$ takes; without loss of generality, assume $X_j \\in \\{ 0, 1, \\dots, r_j - 1 \\}$.  Suppose we have $n$ such vectors.\n",
    "\n",
    "We can think of the data as a sample from a Multinomial with $N = r_1 \\times r_2 \\times \\dots \\times r_m$ categories.  The data can be represented as counts in a $r_1 \\times r_2 \\times \\dots \\times r_m$ table.  Let $p = \\{ p_1, \\dots, p_N \\}$ denote the multinomial parameter.\n",
    "\n",
    "Let $S = \\{ 1, \\dots, m \\}$.  Given a vector $x = (x_1, \\dots, x_m)$ and a subset $A \\subset S$, let $x_A = (x_j : j \\in A)$.  For example, if $A = \\{1, 3\\}$ then $x_A = (x_1, x_3)$."
   ]
  },
  {
   "cell_type": "markdown",
   "metadata": {},
   "source": [
    "**Theorem 18.1**.  The joint probability function $f(x)$ of a single random vector $X = (X_1, \\dots, X_m)$ can be written as \n",
    "\n",
    "$$ \\log f(x) = \\sum_{A \\subset S} \\psi_A(x) $$\n",
    "\n",
    "where the sum is over all subsets $A$ of $S = \\{1, \\dots, m \\}$ and the $\\psi$'s satisfy the following conditions:\n",
    "\n",
    "1. $\\psi_\\varnothing(x)$ is a constant;\n",
    "2. For every $A \\subset S$, $\\psi_A(x)$ is only a function of $x_A$ and not the rest of the $x_j$'s.\n",
    "3. If $i \\in A$ and $x_i = 0$, then $\\psi_A(x) = 0$."
   ]
  },
  {
   "cell_type": "markdown",
   "metadata": {},
   "source": [
    "The formula in this theorem is known as the **log-linear expansion** of $f$.  Note that this is the probability function for a single draw.  Each $\\psi_A(x)$ will depend on some unknown parameters $\\beta_A$.  Let $\\beta = (\\beta_A : A \\subset S)$ be the set of all these parameters.  We will write $f(x) = f(x; \\beta)$ when we want to estimate the dependence on the unknown parameters $\\beta$.\n",
    "\n",
    "In terms of the multinomial, the parameter space is\n",
    "\n",
    "$$ \\mathcal{P} = \\left\\{ p = (p_1, \\dots, p_N) : p_j \\geq 0, \\sum_{j=1}^N p_j = 1 \\right\\} $$\n",
    "\n",
    "This is an $N - 1$ dimensional space.  In the log-linear representation, the parameter space is\n",
    "\n",
    "$$ \\Theta = \\Bigg\\{ \\beta = (\\beta_1, \\dots, \\beta_N) : \\beta = \\beta(p), p \\in \\mathcal{P} \\Bigg\\} $$\n",
    "\n",
    "where $\\beta(p)$ is the set of $\\beta$ values associated with $p$.  The set $\\Theta$ is a $N - 1$ dimensional surface in $\\mathbb{R}^N$.  We can always go back and forth between the two parametrizations by writing $\\beta = \\beta(p)$ and $p = p(\\beta)$."
   ]
  },
  {
   "cell_type": "markdown",
   "metadata": {},
   "source": [
    "**Theorem 18.14**.  Let $(X_a, X_b, X_c)$ be a partition of vectors $(X_1, \\dots, X_m)$.  Then $X_b \\text{ ⫫ } X_c \\; | \\; X_a$ if and only if all the $\\psi$-terms in the log-linear expansion that have at least one coordinate in $b$ and one coordinate in $c$ are 0."
   ]
  },
  {
   "cell_type": "markdown",
   "metadata": {},
   "source": [
    "To prove this Theorem, we will use the following Lemma whose proof follows from the definition of conditional independence."
   ]
  },
  {
   "cell_type": "markdown",
   "metadata": {},
   "source": [
    "**Lemma 18.5**.  A partition $(X_a, X_b, X_c)$ satisfies $X_b \\text{ ⫫ } X_c \\; | \\; X_a$ if and only if $f(x_a, x_b, x_c) = g(x_a, x_b) h(x_a, x_c)$ for some functions $g$ and $h$."
   ]
  },
  {
   "cell_type": "markdown",
   "metadata": {},
   "source": [
    "**Proof of Theorem 18.14**.  Suppose that $\\psi_t$ is 0 whenever $t$ has coordinates in $b$ and $c$.  Hence, $\\psi_t$ is 0 if $t$ is not a subset of $a \\cup b$ or $t$ is not a subset of $a \\cup c$.  Therefore,\n",
    "\n",
    "$$ \\log f(x) = \\sum_{t \\subset a \\cup b} \\psi_t(x) + \\sum_{t \\subset a \\cup c} \\psi_t(x) - \\sum_{t \\subset a} \\psi_t(x) $$\n",
    "\n",
    "Exponentiating, we see that the joint density is of the form $g(x_a, x_b) h(x_a, x_c)$.  By Lemma 18.5, $X_b \\text{ ⫫ } X_c \\; | \\; X_a$.  The converse follows by reversing the argument."
   ]
  },
  {
   "cell_type": "markdown",
   "metadata": {},
   "source": [
    "### 18.2 Graphical Log-Linear Models"
   ]
  },
  {
   "cell_type": "markdown",
   "metadata": {},
   "source": [
    "Let $\\log f(x) = \\sum_{A \\subset S} \\psi_A(x)$ be a log-linear model.  Then $f$ is **graphical** if all $\\psi$-terms are non-zero except for any pair of coordinates not in the edge set for some graph $\\mathcal{G}$.  In other words, $\\psi_A(x) = 0$ if and only if $\\{i, j\\} \\subset A$ and $(i, j)$ is not an edge."
   ]
  },
  {
   "cell_type": "markdown",
   "metadata": {},
   "source": [
    "Here is a way to think about this definition: if you can add a term to the model and the graph does not change, then the model is not graphical."
   ]
  },
  {
   "cell_type": "markdown",
   "metadata": {},
   "source": [
    "### 18.3 Hierarchical Log-Linear Models"
   ]
  },
  {
   "cell_type": "markdown",
   "metadata": {},
   "source": [
    "There is a set of log-linear models that is larger than the set of graphical models and that are used quite a bit.  These are hierarchical log-linear models."
   ]
  },
  {
   "cell_type": "markdown",
   "metadata": {},
   "source": [
    "A log-linear model is **hierarchical** if $\\psi_a = 0$ and $a \\subset t$ implies that $\\psi_t = 0$."
   ]
  },
  {
   "cell_type": "markdown",
   "metadata": {},
   "source": [
    "**Lemma 18.9**.  A graphical model is hierarchical but the reverse need not be true."
   ]
  },
  {
   "cell_type": "markdown",
   "metadata": {},
   "source": [
    "### 18.4 Model Generators"
   ]
  },
  {
   "cell_type": "markdown",
   "metadata": {},
   "source": [
    "Hierarchical models can be written succintly using **generators**.  This is most easily explained by example.  Suppose that $X = (X_1, X_2, X_3)$.  Then, $M = 1.2 + 1.3$ stands for:\n",
    "\n",
    "$$ \\log f = \\psi_\\varnothing + \\psi_1 + \\psi_2 + \\psi_3 + \\psi_{12} + \\psi_{13}$$\n",
    "\n",
    "The formula $M = 1.2 + 1.3$ says: \"include $\\psi_{12}$ and $\\psi_{13}$\".  We have to also include the lower terms or it won't be hierarchical.  The generator $M = 1.2.3$ is the **saturated** model\n",
    "\n",
    "$$ \\log f = \\psi_\\varnothing + \\psi_1 + \\psi_2 + \\psi_3 + \\psi_{12} + \\psi_{13} + \\psi_{23} + \\psi_{123}$$\n",
    "\n",
    "The saturated models corresponds to fitting and unconstrained multinomial.  Consider $M = 1 + 2 + 3$ which means\n",
    "\n",
    "$$ \\log f = \\psi_\\varnothing + \\psi_1 + \\psi_2 + \\psi_3 $$\n",
    "\n",
    "This is the mutual independence model.  Finally, consider $M = 1.2$ which has log-linear expansion\n",
    "\n",
    "$$ \\log f = \\psi_\\varnothing + \\psi_1 + \\psi_2 + \\psi_{12} $$\n",
    "\n",
    "This models makes $X_3 | X_2 = x_2, X_1 = x_1$ a uniform distribution."
   ]
  },
  {
   "cell_type": "markdown",
   "metadata": {},
   "source": [
    "### 18.5 Lattices"
   ]
  },
  {
   "cell_type": "markdown",
   "metadata": {},
   "source": [
    "Hierarchical models can be organized into something called a **lattice**.  This is the set of all hierarchical models partially ordered by inclusion.  The set of all hierarchical models for two variables can be illustrated as in the figure below."
   ]
  },
  {
   "cell_type": "code",
   "execution_count": 6,
   "metadata": {},
   "outputs": [
    {
     "data": {
      "image/svg+xml": [
       "<?xml version=\"1.0\" encoding=\"UTF-8\" standalone=\"no\"?>\n",
       "<!DOCTYPE svg PUBLIC \"-//W3C//DTD SVG 1.1//EN\"\n",
       " \"http://www.w3.org/Graphics/SVG/1.1/DTD/svg11.dtd\">\n",
       "<!-- Generated by graphviz version 2.43.0 (0)\n",
       " -->\n",
       "<!-- Title: %3 Pages: 1 -->\n",
       "<svg width=\"134pt\" height=\"260pt\"\n",
       " viewBox=\"0.00 0.00 134.00 260.00\" xmlns=\"http://www.w3.org/2000/svg\" xmlns:xlink=\"http://www.w3.org/1999/xlink\">\n",
       "<g id=\"graph0\" class=\"graph\" transform=\"scale(1 1) rotate(0) translate(4 256)\">\n",
       "<title>%3</title>\n",
       "<polygon fill=\"white\" stroke=\"transparent\" points=\"-4,4 -4,-256 130,-256 130,4 -4,4\"/>\n",
       "<!-- 1.2 -->\n",
       "<g id=\"node1\" class=\"node\">\n",
       "<title>1.2</title>\n",
       "<ellipse fill=\"none\" stroke=\"black\" cx=\"63\" cy=\"-234\" rx=\"27\" ry=\"18\"/>\n",
       "<text text-anchor=\"middle\" x=\"63\" y=\"-230.3\" font-family=\"Times,serif\" font-size=\"14.00\">1.2</text>\n",
       "</g>\n",
       "<!-- 1 + 2 -->\n",
       "<g id=\"node2\" class=\"node\">\n",
       "<title>1 + 2</title>\n",
       "<ellipse fill=\"none\" stroke=\"black\" cx=\"63\" cy=\"-162\" rx=\"36.29\" ry=\"18\"/>\n",
       "<text text-anchor=\"middle\" x=\"63\" y=\"-158.3\" font-family=\"Times,serif\" font-size=\"14.00\">1 + 2</text>\n",
       "</g>\n",
       "<!-- 1.2&#45;&gt;1 + 2 -->\n",
       "<g id=\"edge1\" class=\"edge\">\n",
       "<title>1.2&#45;&gt;1 + 2</title>\n",
       "<path fill=\"none\" stroke=\"black\" d=\"M63,-215.7C63,-207.98 63,-198.71 63,-190.11\"/>\n",
       "<polygon fill=\"black\" stroke=\"black\" points=\"66.5,-190.1 63,-180.1 59.5,-190.1 66.5,-190.1\"/>\n",
       "</g>\n",
       "<!-- 1 -->\n",
       "<g id=\"node3\" class=\"node\">\n",
       "<title>1</title>\n",
       "<ellipse fill=\"none\" stroke=\"black\" cx=\"27\" cy=\"-90\" rx=\"27\" ry=\"18\"/>\n",
       "<text text-anchor=\"middle\" x=\"27\" y=\"-86.3\" font-family=\"Times,serif\" font-size=\"14.00\">1</text>\n",
       "</g>\n",
       "<!-- 1 + 2&#45;&gt;1 -->\n",
       "<g id=\"edge2\" class=\"edge\">\n",
       "<title>1 + 2&#45;&gt;1</title>\n",
       "<path fill=\"none\" stroke=\"black\" d=\"M54.47,-144.41C50.16,-136.04 44.85,-125.71 40.05,-116.37\"/>\n",
       "<polygon fill=\"black\" stroke=\"black\" points=\"43.16,-114.76 35.47,-107.47 36.93,-117.96 43.16,-114.76\"/>\n",
       "</g>\n",
       "<!-- 2 -->\n",
       "<g id=\"node4\" class=\"node\">\n",
       "<title>2</title>\n",
       "<ellipse fill=\"none\" stroke=\"black\" cx=\"99\" cy=\"-90\" rx=\"27\" ry=\"18\"/>\n",
       "<text text-anchor=\"middle\" x=\"99\" y=\"-86.3\" font-family=\"Times,serif\" font-size=\"14.00\">2</text>\n",
       "</g>\n",
       "<!-- 1 + 2&#45;&gt;2 -->\n",
       "<g id=\"edge3\" class=\"edge\">\n",
       "<title>1 + 2&#45;&gt;2</title>\n",
       "<path fill=\"none\" stroke=\"black\" d=\"M71.53,-144.41C75.84,-136.04 81.15,-125.71 85.95,-116.37\"/>\n",
       "<polygon fill=\"black\" stroke=\"black\" points=\"89.07,-117.96 90.53,-107.47 82.84,-114.76 89.07,-117.96\"/>\n",
       "</g>\n",
       "<!-- 0 -->\n",
       "<g id=\"node5\" class=\"node\">\n",
       "<title>0</title>\n",
       "<ellipse fill=\"none\" stroke=\"black\" cx=\"63\" cy=\"-18\" rx=\"27\" ry=\"18\"/>\n",
       "<text text-anchor=\"middle\" x=\"63\" y=\"-14.3\" font-family=\"Times,serif\" font-size=\"14.00\">0</text>\n",
       "</g>\n",
       "<!-- 1&#45;&gt;0 -->\n",
       "<g id=\"edge4\" class=\"edge\">\n",
       "<title>1&#45;&gt;0</title>\n",
       "<path fill=\"none\" stroke=\"black\" d=\"M35.35,-72.76C39.71,-64.28 45.15,-53.71 50.04,-44.2\"/>\n",
       "<polygon fill=\"black\" stroke=\"black\" points=\"53.23,-45.64 54.7,-35.15 47.01,-42.44 53.23,-45.64\"/>\n",
       "</g>\n",
       "<!-- 2&#45;&gt;0 -->\n",
       "<g id=\"edge5\" class=\"edge\">\n",
       "<title>2&#45;&gt;0</title>\n",
       "<path fill=\"none\" stroke=\"black\" d=\"M90.65,-72.76C86.29,-64.28 80.85,-53.71 75.96,-44.2\"/>\n",
       "<polygon fill=\"black\" stroke=\"black\" points=\"78.99,-42.44 71.3,-35.15 72.77,-45.64 78.99,-42.44\"/>\n",
       "</g>\n",
       "</g>\n",
       "</svg>\n"
      ],
      "text/plain": [
       "<graphviz.dot.Digraph at 0x7fbdd8098310>"
      ]
     },
     "execution_count": 6,
     "metadata": {},
     "output_type": "execute_result"
    }
   ],
   "source": [
    "from graphviz import Digraph\n",
    "\n",
    "d = Digraph()\n",
    "\n",
    "d.edge('1.2', '1 + 2')\n",
    "d.edge('1 + 2', '1')\n",
    "d.edge('1 + 2', '2')\n",
    "d.edge('1', '0')\n",
    "d.edge('2', '0')\n",
    "\n",
    "d"
   ]
  },
  {
   "cell_type": "markdown",
   "metadata": {},
   "source": [
    "$M = 1.2$ is the saturated model, $M = 1 + 2$ is the independence model, $M = 1$ is the independence model plus $X_2 | X_1$ is uniform, $M = 2$ is the independence model plus $X_1 | X_2$ is uniform, $M = 0$ is the uniform distribution."
   ]
  },
  {
   "cell_type": "markdown",
   "metadata": {},
   "source": [
    "The lattice of trivariate models is shown in the figure below:"
   ]
  },
  {
   "cell_type": "code",
   "execution_count": 7,
   "metadata": {},
   "outputs": [
    {
     "data": {
      "image/svg+xml": [
       "<?xml version=\"1.0\" encoding=\"UTF-8\" standalone=\"no\"?>\n",
       "<!DOCTYPE svg PUBLIC \"-//W3C//DTD SVG 1.1//EN\"\n",
       " \"http://www.w3.org/Graphics/SVG/1.1/DTD/svg11.dtd\">\n",
       "<!-- Generated by graphviz version 2.43.0 (0)\n",
       " -->\n",
       "<!-- Title: %3 Pages: 1 -->\n",
       "<svg width=\"368pt\" height=\"548pt\"\n",
       " viewBox=\"0.00 0.00 367.89 548.00\" xmlns=\"http://www.w3.org/2000/svg\" xmlns:xlink=\"http://www.w3.org/1999/xlink\">\n",
       "<g id=\"graph0\" class=\"graph\" transform=\"scale(1 1) rotate(0) translate(4 544)\">\n",
       "<title>%3</title>\n",
       "<polygon fill=\"white\" stroke=\"transparent\" points=\"-4,4 -4,-544 363.89,-544 363.89,4 -4,4\"/>\n",
       "<!-- 1.2.3 -->\n",
       "<g id=\"node1\" class=\"node\">\n",
       "<title>1.2.3</title>\n",
       "<ellipse fill=\"none\" stroke=\"black\" cx=\"179.95\" cy=\"-522\" rx=\"34.39\" ry=\"18\"/>\n",
       "<text text-anchor=\"middle\" x=\"179.95\" y=\"-518.3\" font-family=\"Times,serif\" font-size=\"14.00\">1.2.3</text>\n",
       "</g>\n",
       "<!-- 1.2 + 1.3 + 2.3 -->\n",
       "<g id=\"node2\" class=\"node\">\n",
       "<title>1.2 + 1.3 + 2.3</title>\n",
       "<ellipse fill=\"none\" stroke=\"black\" cx=\"179.95\" cy=\"-450\" rx=\"81.79\" ry=\"18\"/>\n",
       "<text text-anchor=\"middle\" x=\"179.95\" y=\"-446.3\" font-family=\"Times,serif\" font-size=\"14.00\">1.2 + 1.3 + 2.3</text>\n",
       "</g>\n",
       "<!-- 1.2.3&#45;&gt;1.2 + 1.3 + 2.3 -->\n",
       "<g id=\"edge1\" class=\"edge\">\n",
       "<title>1.2.3&#45;&gt;1.2 + 1.3 + 2.3</title>\n",
       "<path fill=\"none\" stroke=\"black\" d=\"M179.95,-503.7C179.95,-495.98 179.95,-486.71 179.95,-478.11\"/>\n",
       "<polygon fill=\"black\" stroke=\"black\" points=\"183.45,-478.1 179.95,-468.1 176.45,-478.1 183.45,-478.1\"/>\n",
       "</g>\n",
       "<!-- 1.2 + 1.3 -->\n",
       "<g id=\"node3\" class=\"node\">\n",
       "<title>1.2 + 1.3</title>\n",
       "<ellipse fill=\"none\" stroke=\"black\" cx=\"53.95\" cy=\"-378\" rx=\"53.89\" ry=\"18\"/>\n",
       "<text text-anchor=\"middle\" x=\"53.95\" y=\"-374.3\" font-family=\"Times,serif\" font-size=\"14.00\">1.2 + 1.3</text>\n",
       "</g>\n",
       "<!-- 1.2 + 1.3 + 2.3&#45;&gt;1.2 + 1.3 -->\n",
       "<g id=\"edge2\" class=\"edge\">\n",
       "<title>1.2 + 1.3 + 2.3&#45;&gt;1.2 + 1.3</title>\n",
       "<path fill=\"none\" stroke=\"black\" d=\"M151.35,-433.12C133.05,-422.95 109.16,-409.67 89.62,-398.82\"/>\n",
       "<polygon fill=\"black\" stroke=\"black\" points=\"91.14,-395.66 80.7,-393.86 87.74,-401.78 91.14,-395.66\"/>\n",
       "</g>\n",
       "<!-- 1.2 + 2.3 -->\n",
       "<g id=\"node4\" class=\"node\">\n",
       "<title>1.2 + 2.3</title>\n",
       "<ellipse fill=\"none\" stroke=\"black\" cx=\"179.95\" cy=\"-378\" rx=\"53.89\" ry=\"18\"/>\n",
       "<text text-anchor=\"middle\" x=\"179.95\" y=\"-374.3\" font-family=\"Times,serif\" font-size=\"14.00\">1.2 + 2.3</text>\n",
       "</g>\n",
       "<!-- 1.2 + 1.3 + 2.3&#45;&gt;1.2 + 2.3 -->\n",
       "<g id=\"edge3\" class=\"edge\">\n",
       "<title>1.2 + 1.3 + 2.3&#45;&gt;1.2 + 2.3</title>\n",
       "<path fill=\"none\" stroke=\"black\" d=\"M179.95,-431.7C179.95,-423.98 179.95,-414.71 179.95,-406.11\"/>\n",
       "<polygon fill=\"black\" stroke=\"black\" points=\"183.45,-406.1 179.95,-396.1 176.45,-406.1 183.45,-406.1\"/>\n",
       "</g>\n",
       "<!-- 1.3 + 2.3 -->\n",
       "<g id=\"node5\" class=\"node\">\n",
       "<title>1.3 + 2.3</title>\n",
       "<ellipse fill=\"none\" stroke=\"black\" cx=\"305.95\" cy=\"-378\" rx=\"53.89\" ry=\"18\"/>\n",
       "<text text-anchor=\"middle\" x=\"305.95\" y=\"-374.3\" font-family=\"Times,serif\" font-size=\"14.00\">1.3 + 2.3</text>\n",
       "</g>\n",
       "<!-- 1.2 + 1.3 + 2.3&#45;&gt;1.3 + 2.3 -->\n",
       "<g id=\"edge4\" class=\"edge\">\n",
       "<title>1.2 + 1.3 + 2.3&#45;&gt;1.3 + 2.3</title>\n",
       "<path fill=\"none\" stroke=\"black\" d=\"M208.54,-433.12C226.84,-422.95 250.73,-409.67 270.27,-398.82\"/>\n",
       "<polygon fill=\"black\" stroke=\"black\" points=\"272.15,-401.78 279.19,-393.86 268.75,-395.66 272.15,-401.78\"/>\n",
       "</g>\n",
       "<!-- 1.2 + 3 -->\n",
       "<g id=\"node6\" class=\"node\">\n",
       "<title>1.2 + 3</title>\n",
       "<ellipse fill=\"none\" stroke=\"black\" cx=\"71.95\" cy=\"-306\" rx=\"44.69\" ry=\"18\"/>\n",
       "<text text-anchor=\"middle\" x=\"71.95\" y=\"-302.3\" font-family=\"Times,serif\" font-size=\"14.00\">1.2 + 3</text>\n",
       "</g>\n",
       "<!-- 1.2 + 1.3&#45;&gt;1.2 + 3 -->\n",
       "<g id=\"edge5\" class=\"edge\">\n",
       "<title>1.2 + 1.3&#45;&gt;1.2 + 3</title>\n",
       "<path fill=\"none\" stroke=\"black\" d=\"M58.3,-360.05C60.31,-352.26 62.73,-342.82 64.98,-334.08\"/>\n",
       "<polygon fill=\"black\" stroke=\"black\" points=\"68.4,-334.83 67.5,-324.28 61.62,-333.09 68.4,-334.83\"/>\n",
       "</g>\n",
       "<!-- 1.3 + 2 -->\n",
       "<g id=\"node7\" class=\"node\">\n",
       "<title>1.3 + 2</title>\n",
       "<ellipse fill=\"none\" stroke=\"black\" cx=\"188.95\" cy=\"-306\" rx=\"44.69\" ry=\"18\"/>\n",
       "<text text-anchor=\"middle\" x=\"188.95\" y=\"-302.3\" font-family=\"Times,serif\" font-size=\"14.00\">1.3 + 2</text>\n",
       "</g>\n",
       "<!-- 1.2 + 1.3&#45;&gt;1.3 + 2 -->\n",
       "<g id=\"edge7\" class=\"edge\">\n",
       "<title>1.2 + 1.3&#45;&gt;1.3 + 2</title>\n",
       "<path fill=\"none\" stroke=\"black\" d=\"M81.92,-362.5C102.6,-351.77 130.92,-337.09 153.23,-325.52\"/>\n",
       "<polygon fill=\"black\" stroke=\"black\" points=\"155.12,-328.48 162.39,-320.77 151.9,-322.27 155.12,-328.48\"/>\n",
       "</g>\n",
       "<!-- 1.2 + 2.3&#45;&gt;1.2 + 3 -->\n",
       "<g id=\"edge6\" class=\"edge\">\n",
       "<title>1.2 + 2.3&#45;&gt;1.2 + 3</title>\n",
       "<path fill=\"none\" stroke=\"black\" d=\"M156.24,-361.64C140.59,-351.49 119.92,-338.1 102.96,-327.11\"/>\n",
       "<polygon fill=\"black\" stroke=\"black\" points=\"104.78,-324.11 94.48,-321.61 100.97,-329.98 104.78,-324.11\"/>\n",
       "</g>\n",
       "<!-- 2.3 + 1 -->\n",
       "<g id=\"node8\" class=\"node\">\n",
       "<title>2.3 + 1</title>\n",
       "<ellipse fill=\"none\" stroke=\"black\" cx=\"300.95\" cy=\"-306\" rx=\"44.69\" ry=\"18\"/>\n",
       "<text text-anchor=\"middle\" x=\"300.95\" y=\"-302.3\" font-family=\"Times,serif\" font-size=\"14.00\">2.3 + 1</text>\n",
       "</g>\n",
       "<!-- 1.2 + 2.3&#45;&gt;2.3 + 1 -->\n",
       "<g id=\"edge9\" class=\"edge\">\n",
       "<title>1.2 + 2.3&#45;&gt;2.3 + 1</title>\n",
       "<path fill=\"none\" stroke=\"black\" d=\"M205.61,-362.15C223.69,-351.69 248.08,-337.58 267.66,-326.26\"/>\n",
       "<polygon fill=\"black\" stroke=\"black\" points=\"269.66,-329.14 276.56,-321.11 266.15,-323.09 269.66,-329.14\"/>\n",
       "</g>\n",
       "<!-- 1.3 + 2.3&#45;&gt;1.3 + 2 -->\n",
       "<g id=\"edge8\" class=\"edge\">\n",
       "<title>1.3 + 2.3&#45;&gt;1.3 + 2</title>\n",
       "<path fill=\"none\" stroke=\"black\" d=\"M280.85,-361.98C263.53,-351.63 240.36,-337.76 221.61,-326.54\"/>\n",
       "<polygon fill=\"black\" stroke=\"black\" points=\"223.18,-323.41 212.8,-321.27 219.59,-329.41 223.18,-323.41\"/>\n",
       "</g>\n",
       "<!-- 1.3 + 2.3&#45;&gt;2.3 + 1 -->\n",
       "<g id=\"edge10\" class=\"edge\">\n",
       "<title>1.3 + 2.3&#45;&gt;2.3 + 1</title>\n",
       "<path fill=\"none\" stroke=\"black\" d=\"M304.71,-359.7C304.16,-351.98 303.5,-342.71 302.88,-334.11\"/>\n",
       "<polygon fill=\"black\" stroke=\"black\" points=\"306.37,-333.83 302.17,-324.1 299.39,-334.33 306.37,-333.83\"/>\n",
       "</g>\n",
       "<!-- 1 + 2 + 3 -->\n",
       "<g id=\"node9\" class=\"node\">\n",
       "<title>1 + 2 + 3</title>\n",
       "<ellipse fill=\"none\" stroke=\"black\" cx=\"143.95\" cy=\"-234\" rx=\"55.79\" ry=\"18\"/>\n",
       "<text text-anchor=\"middle\" x=\"143.95\" y=\"-230.3\" font-family=\"Times,serif\" font-size=\"14.00\">1 + 2 + 3</text>\n",
       "</g>\n",
       "<!-- 1.2 + 3&#45;&gt;1 + 2 + 3 -->\n",
       "<g id=\"edge11\" class=\"edge\">\n",
       "<title>1.2 + 3&#45;&gt;1 + 2 + 3</title>\n",
       "<path fill=\"none\" stroke=\"black\" d=\"M88.28,-289.12C97.63,-280.03 109.53,-268.46 119.93,-258.35\"/>\n",
       "<polygon fill=\"black\" stroke=\"black\" points=\"122.44,-260.79 127.17,-251.31 117.56,-255.77 122.44,-260.79\"/>\n",
       "</g>\n",
       "<!-- 1.2 -->\n",
       "<g id=\"node10\" class=\"node\">\n",
       "<title>1.2</title>\n",
       "<ellipse fill=\"none\" stroke=\"black\" cx=\"42.95\" cy=\"-234\" rx=\"27\" ry=\"18\"/>\n",
       "<text text-anchor=\"middle\" x=\"42.95\" y=\"-230.3\" font-family=\"Times,serif\" font-size=\"14.00\">1.2</text>\n",
       "</g>\n",
       "<!-- 1.2 + 3&#45;&gt;1.2 -->\n",
       "<g id=\"edge14\" class=\"edge\">\n",
       "<title>1.2 + 3&#45;&gt;1.2</title>\n",
       "<path fill=\"none\" stroke=\"black\" d=\"M64.93,-288.05C61.58,-279.97 57.5,-270.12 53.76,-261.11\"/>\n",
       "<polygon fill=\"black\" stroke=\"black\" points=\"56.96,-259.69 49.9,-251.79 50.49,-262.37 56.96,-259.69\"/>\n",
       "</g>\n",
       "<!-- 1.3 + 2&#45;&gt;1 + 2 + 3 -->\n",
       "<g id=\"edge12\" class=\"edge\">\n",
       "<title>1.3 + 2&#45;&gt;1 + 2 + 3</title>\n",
       "<path fill=\"none\" stroke=\"black\" d=\"M178.28,-288.41C172.92,-280.08 166.31,-269.8 160.33,-260.49\"/>\n",
       "<polygon fill=\"black\" stroke=\"black\" points=\"163.2,-258.48 154.85,-251.96 157.31,-262.26 163.2,-258.48\"/>\n",
       "</g>\n",
       "<!-- 1.3 -->\n",
       "<g id=\"node11\" class=\"node\">\n",
       "<title>1.3</title>\n",
       "<ellipse fill=\"none\" stroke=\"black\" cx=\"244.95\" cy=\"-234\" rx=\"27\" ry=\"18\"/>\n",
       "<text text-anchor=\"middle\" x=\"244.95\" y=\"-230.3\" font-family=\"Times,serif\" font-size=\"14.00\">1.3</text>\n",
       "</g>\n",
       "<!-- 1.3 + 2&#45;&gt;1.3 -->\n",
       "<g id=\"edge15\" class=\"edge\">\n",
       "<title>1.3 + 2&#45;&gt;1.3</title>\n",
       "<path fill=\"none\" stroke=\"black\" d=\"M201.93,-288.76C209.2,-279.68 218.39,-268.19 226.4,-258.18\"/>\n",
       "<polygon fill=\"black\" stroke=\"black\" points=\"229.28,-260.18 232.79,-250.19 223.81,-255.81 229.28,-260.18\"/>\n",
       "</g>\n",
       "<!-- 2.3 + 1&#45;&gt;1 + 2 + 3 -->\n",
       "<g id=\"edge13\" class=\"edge\">\n",
       "<title>2.3 + 1&#45;&gt;1 + 2 + 3</title>\n",
       "<path fill=\"none\" stroke=\"black\" d=\"M272.15,-292.16C247.6,-281.22 212.04,-265.36 184.59,-253.12\"/>\n",
       "<polygon fill=\"black\" stroke=\"black\" points=\"185.81,-249.83 175.25,-248.96 182.96,-256.23 185.81,-249.83\"/>\n",
       "</g>\n",
       "<!-- 2.3 -->\n",
       "<g id=\"node12\" class=\"node\">\n",
       "<title>2.3</title>\n",
       "<ellipse fill=\"none\" stroke=\"black\" cx=\"316.95\" cy=\"-234\" rx=\"27\" ry=\"18\"/>\n",
       "<text text-anchor=\"middle\" x=\"316.95\" y=\"-230.3\" font-family=\"Times,serif\" font-size=\"14.00\">2.3</text>\n",
       "</g>\n",
       "<!-- 2.3 + 1&#45;&gt;2.3 -->\n",
       "<g id=\"edge16\" class=\"edge\">\n",
       "<title>2.3 + 1&#45;&gt;2.3</title>\n",
       "<path fill=\"none\" stroke=\"black\" d=\"M304.82,-288.05C306.6,-280.26 308.76,-270.82 310.76,-262.08\"/>\n",
       "<polygon fill=\"black\" stroke=\"black\" points=\"314.18,-262.8 313,-252.28 307.36,-261.24 314.18,-262.8\"/>\n",
       "</g>\n",
       "<!-- 1 + 2 -->\n",
       "<g id=\"node13\" class=\"node\">\n",
       "<title>1 + 2</title>\n",
       "<ellipse fill=\"none\" stroke=\"black\" cx=\"93.95\" cy=\"-162\" rx=\"36.29\" ry=\"18\"/>\n",
       "<text text-anchor=\"middle\" x=\"93.95\" y=\"-158.3\" font-family=\"Times,serif\" font-size=\"14.00\">1 + 2</text>\n",
       "</g>\n",
       "<!-- 1 + 2 + 3&#45;&gt;1 + 2 -->\n",
       "<g id=\"edge20\" class=\"edge\">\n",
       "<title>1 + 2 + 3&#45;&gt;1 + 2</title>\n",
       "<path fill=\"none\" stroke=\"black\" d=\"M131.84,-216.05C125.73,-207.5 118.21,-196.97 111.49,-187.56\"/>\n",
       "<polygon fill=\"black\" stroke=\"black\" points=\"114.25,-185.41 105.59,-179.31 108.56,-189.48 114.25,-185.41\"/>\n",
       "</g>\n",
       "<!-- 1 + 3 -->\n",
       "<g id=\"node14\" class=\"node\">\n",
       "<title>1 + 3</title>\n",
       "<ellipse fill=\"none\" stroke=\"black\" cx=\"184.95\" cy=\"-162\" rx=\"36.29\" ry=\"18\"/>\n",
       "<text text-anchor=\"middle\" x=\"184.95\" y=\"-158.3\" font-family=\"Times,serif\" font-size=\"14.00\">1 + 3</text>\n",
       "</g>\n",
       "<!-- 1 + 2 + 3&#45;&gt;1 + 3 -->\n",
       "<g id=\"edge21\" class=\"edge\">\n",
       "<title>1 + 2 + 3&#45;&gt;1 + 3</title>\n",
       "<path fill=\"none\" stroke=\"black\" d=\"M153.87,-216.05C158.7,-207.8 164.62,-197.7 169.99,-188.54\"/>\n",
       "<polygon fill=\"black\" stroke=\"black\" points=\"173.08,-190.19 175.11,-179.79 167.04,-186.65 173.08,-190.19\"/>\n",
       "</g>\n",
       "<!-- 2 + 3 -->\n",
       "<g id=\"node15\" class=\"node\">\n",
       "<title>2 + 3</title>\n",
       "<ellipse fill=\"none\" stroke=\"black\" cx=\"275.95\" cy=\"-162\" rx=\"36.29\" ry=\"18\"/>\n",
       "<text text-anchor=\"middle\" x=\"275.95\" y=\"-158.3\" font-family=\"Times,serif\" font-size=\"14.00\">2 + 3</text>\n",
       "</g>\n",
       "<!-- 1 + 2 + 3&#45;&gt;2 + 3 -->\n",
       "<g id=\"edge22\" class=\"edge\">\n",
       "<title>1 + 2 + 3&#45;&gt;2 + 3</title>\n",
       "<path fill=\"none\" stroke=\"black\" d=\"M171.62,-218.33C192.39,-207.31 220.91,-192.19 242.88,-180.53\"/>\n",
       "<polygon fill=\"black\" stroke=\"black\" points=\"244.66,-183.55 251.86,-175.77 241.38,-177.37 244.66,-183.55\"/>\n",
       "</g>\n",
       "<!-- 1.2&#45;&gt;1 + 2 -->\n",
       "<g id=\"edge17\" class=\"edge\">\n",
       "<title>1.2&#45;&gt;1 + 2</title>\n",
       "<path fill=\"none\" stroke=\"black\" d=\"M54.26,-217.46C60.62,-208.74 68.7,-197.65 75.9,-187.76\"/>\n",
       "<polygon fill=\"black\" stroke=\"black\" points=\"78.89,-189.61 81.95,-179.47 73.23,-185.49 78.89,-189.61\"/>\n",
       "</g>\n",
       "<!-- 1.3&#45;&gt;1 + 3 -->\n",
       "<g id=\"edge18\" class=\"edge\">\n",
       "<title>1.3&#45;&gt;1 + 3</title>\n",
       "<path fill=\"none\" stroke=\"black\" d=\"M231.93,-217.81C224.2,-208.8 214.24,-197.18 205.48,-186.95\"/>\n",
       "<polygon fill=\"black\" stroke=\"black\" points=\"207.94,-184.45 198.77,-179.13 202.62,-189 207.94,-184.45\"/>\n",
       "</g>\n",
       "<!-- 2.3&#45;&gt;2 + 3 -->\n",
       "<g id=\"edge19\" class=\"edge\">\n",
       "<title>2.3&#45;&gt;2 + 3</title>\n",
       "<path fill=\"none\" stroke=\"black\" d=\"M307.44,-216.76C302.49,-208.32 296.33,-197.8 290.77,-188.31\"/>\n",
       "<polygon fill=\"black\" stroke=\"black\" points=\"293.76,-186.49 285.69,-179.63 287.72,-190.03 293.76,-186.49\"/>\n",
       "</g>\n",
       "<!-- 1 -->\n",
       "<g id=\"node16\" class=\"node\">\n",
       "<title>1</title>\n",
       "<ellipse fill=\"none\" stroke=\"black\" cx=\"112.95\" cy=\"-90\" rx=\"27\" ry=\"18\"/>\n",
       "<text text-anchor=\"middle\" x=\"112.95\" y=\"-86.3\" font-family=\"Times,serif\" font-size=\"14.00\">1</text>\n",
       "</g>\n",
       "<!-- 1 + 2&#45;&gt;1 -->\n",
       "<g id=\"edge23\" class=\"edge\">\n",
       "<title>1 + 2&#45;&gt;1</title>\n",
       "<path fill=\"none\" stroke=\"black\" d=\"M98.54,-144.05C100.69,-136.14 103.3,-126.54 105.7,-117.69\"/>\n",
       "<polygon fill=\"black\" stroke=\"black\" points=\"109.15,-118.36 108.39,-107.79 102.39,-116.52 109.15,-118.36\"/>\n",
       "</g>\n",
       "<!-- 2 -->\n",
       "<g id=\"node17\" class=\"node\">\n",
       "<title>2</title>\n",
       "<ellipse fill=\"none\" stroke=\"black\" cx=\"184.95\" cy=\"-90\" rx=\"27\" ry=\"18\"/>\n",
       "<text text-anchor=\"middle\" x=\"184.95\" y=\"-86.3\" font-family=\"Times,serif\" font-size=\"14.00\">2</text>\n",
       "</g>\n",
       "<!-- 1 + 2&#45;&gt;2 -->\n",
       "<g id=\"edge24\" class=\"edge\">\n",
       "<title>1 + 2&#45;&gt;2</title>\n",
       "<path fill=\"none\" stroke=\"black\" d=\"M112.8,-146.5C126.38,-136.05 144.84,-121.85 159.69,-110.42\"/>\n",
       "<polygon fill=\"black\" stroke=\"black\" points=\"162.16,-112.94 167.96,-104.07 157.9,-107.39 162.16,-112.94\"/>\n",
       "</g>\n",
       "<!-- 1 + 3&#45;&gt;1 -->\n",
       "<g id=\"edge25\" class=\"edge\">\n",
       "<title>1 + 3&#45;&gt;1</title>\n",
       "<path fill=\"none\" stroke=\"black\" d=\"M168.97,-145.46C159,-135.78 146.04,-123.17 135.09,-112.53\"/>\n",
       "<polygon fill=\"black\" stroke=\"black\" points=\"137.51,-110 127.9,-105.54 132.63,-115.02 137.51,-110\"/>\n",
       "</g>\n",
       "<!-- 3 -->\n",
       "<g id=\"node18\" class=\"node\">\n",
       "<title>3</title>\n",
       "<ellipse fill=\"none\" stroke=\"black\" cx=\"256.95\" cy=\"-90\" rx=\"27\" ry=\"18\"/>\n",
       "<text text-anchor=\"middle\" x=\"256.95\" y=\"-86.3\" font-family=\"Times,serif\" font-size=\"14.00\">3</text>\n",
       "</g>\n",
       "<!-- 1 + 3&#45;&gt;3 -->\n",
       "<g id=\"edge26\" class=\"edge\">\n",
       "<title>1 + 3&#45;&gt;3</title>\n",
       "<path fill=\"none\" stroke=\"black\" d=\"M200.92,-145.46C210.89,-135.78 223.85,-123.17 234.8,-112.53\"/>\n",
       "<polygon fill=\"black\" stroke=\"black\" points=\"237.26,-115.02 241.99,-105.54 232.38,-110 237.26,-115.02\"/>\n",
       "</g>\n",
       "<!-- 2 + 3&#45;&gt;2 -->\n",
       "<g id=\"edge27\" class=\"edge\">\n",
       "<title>2 + 3&#45;&gt;2</title>\n",
       "<path fill=\"none\" stroke=\"black\" d=\"M257.09,-146.5C243.51,-136.05 225.05,-121.85 210.2,-110.42\"/>\n",
       "<polygon fill=\"black\" stroke=\"black\" points=\"212,-107.39 201.93,-104.07 207.73,-112.94 212,-107.39\"/>\n",
       "</g>\n",
       "<!-- 2 + 3&#45;&gt;3 -->\n",
       "<g id=\"edge28\" class=\"edge\">\n",
       "<title>2 + 3&#45;&gt;3</title>\n",
       "<path fill=\"none\" stroke=\"black\" d=\"M271.35,-144.05C269.2,-136.14 266.59,-126.54 264.19,-117.69\"/>\n",
       "<polygon fill=\"black\" stroke=\"black\" points=\"267.5,-116.52 261.5,-107.79 260.74,-118.36 267.5,-116.52\"/>\n",
       "</g>\n",
       "<!-- 0 -->\n",
       "<g id=\"node19\" class=\"node\">\n",
       "<title>0</title>\n",
       "<ellipse fill=\"none\" stroke=\"black\" cx=\"184.95\" cy=\"-18\" rx=\"27\" ry=\"18\"/>\n",
       "<text text-anchor=\"middle\" x=\"184.95\" y=\"-14.3\" font-family=\"Times,serif\" font-size=\"14.00\">0</text>\n",
       "</g>\n",
       "<!-- 1&#45;&gt;0 -->\n",
       "<g id=\"edge29\" class=\"edge\">\n",
       "<title>1&#45;&gt;0</title>\n",
       "<path fill=\"none\" stroke=\"black\" d=\"M127.52,-74.83C137.7,-64.94 151.47,-51.55 162.98,-40.36\"/>\n",
       "<polygon fill=\"black\" stroke=\"black\" points=\"165.42,-42.87 170.15,-33.38 160.54,-37.85 165.42,-42.87\"/>\n",
       "</g>\n",
       "<!-- 2&#45;&gt;0 -->\n",
       "<g id=\"edge30\" class=\"edge\">\n",
       "<title>2&#45;&gt;0</title>\n",
       "<path fill=\"none\" stroke=\"black\" d=\"M184.95,-71.7C184.95,-63.98 184.95,-54.71 184.95,-46.11\"/>\n",
       "<polygon fill=\"black\" stroke=\"black\" points=\"188.45,-46.1 184.95,-36.1 181.45,-46.1 188.45,-46.1\"/>\n",
       "</g>\n",
       "<!-- 3&#45;&gt;0 -->\n",
       "<g id=\"edge31\" class=\"edge\">\n",
       "<title>3&#45;&gt;0</title>\n",
       "<path fill=\"none\" stroke=\"black\" d=\"M242.37,-74.83C232.2,-64.94 218.42,-51.55 206.91,-40.36\"/>\n",
       "<polygon fill=\"black\" stroke=\"black\" points=\"209.35,-37.85 199.74,-33.38 204.47,-42.87 209.35,-37.85\"/>\n",
       "</g>\n",
       "</g>\n",
       "</svg>\n"
      ],
      "text/plain": [
       "<graphviz.dot.Digraph at 0x7fbdaca99430>"
      ]
     },
     "execution_count": 7,
     "metadata": {},
     "output_type": "execute_result"
    }
   ],
   "source": [
    "from graphviz import Digraph\n",
    "\n",
    "d = Digraph()\n",
    "\n",
    "d.edge('1.2.3', '1.2 + 1.3 + 2.3')\n",
    "\n",
    "d.edge('1.2 + 1.3 + 2.3', '1.2 + 1.3')\n",
    "d.edge('1.2 + 1.3 + 2.3', '1.2 + 2.3')\n",
    "d.edge('1.2 + 1.3 + 2.3', '1.3 + 2.3')\n",
    "\n",
    "d.edge('1.2 + 1.3', '1.2 + 3')\n",
    "d.edge('1.2 + 2.3', '1.2 + 3')\n",
    "\n",
    "d.edge('1.2 + 1.3', '1.3 + 2')\n",
    "d.edge('1.3 + 2.3', '1.3 + 2')\n",
    "\n",
    "d.edge('1.2 + 2.3', '2.3 + 1')\n",
    "d.edge('1.3 + 2.3', '2.3 + 1')\n",
    "\n",
    "d.edge('1.2 + 3', '1 + 2 + 3')\n",
    "d.edge('1.3 + 2', '1 + 2 + 3')\n",
    "d.edge('2.3 + 1', '1 + 2 + 3')\n",
    "\n",
    "d.edge('1.2 + 3', '1.2')\n",
    "d.edge('1.3 + 2', '1.3')\n",
    "d.edge('2.3 + 1', '2.3')\n",
    "\n",
    "d.edge('1.2', '1 + 2')\n",
    "d.edge('1.3', '1 + 3')\n",
    "d.edge('2.3', '2 + 3')\n",
    "\n",
    "d.edge('1 + 2 + 3', '1 + 2')\n",
    "d.edge('1 + 2 + 3', '1 + 3')\n",
    "d.edge('1 + 2 + 3', '2 + 3')\n",
    "\n",
    "d.edge('1 + 2', '1')\n",
    "d.edge('1 + 2', '2')\n",
    "d.edge('1 + 3', '1')\n",
    "d.edge('1 + 3', '3')\n",
    "d.edge('2 + 3', '2')\n",
    "d.edge('2 + 3', '3')\n",
    "\n",
    "d.edge('1', '0')\n",
    "d.edge('2', '0')\n",
    "d.edge('3', '0')\n",
    "\n",
    "d"
   ]
  },
  {
   "cell_type": "markdown",
   "metadata": {},
   "source": [
    "### 18.6 Fitting Log-Linear Models to Data"
   ]
  },
  {
   "cell_type": "markdown",
   "metadata": {},
   "source": [
    "Let $\\beta$ denote all the parameters in a log-linear model $M$.  The log-likelihood for $\\beta$ is:\n",
    "\n",
    "$$ \\ell(\\beta) = \\sum_j x_j \\log p_j(\\beta) $$\n",
    "\n",
    "where the sum is over the cells and $p(\\beta)$ denotes the cell probabilities corresponding to $\\beta$.  The MLE $\\hat{\\beta}$ generally has to be found numerically.  The model with all possible $\\psi$-terms is called the  **saturated models**.  We can also fit any **sub-model** which corresponds to setting some subset of $\\psi$ terms to 0."
   ]
  },
  {
   "cell_type": "markdown",
   "metadata": {},
   "source": [
    "For any submodel $M$, define the **deviance** $\\text{dev}(M)$ by\n",
    "\n",
    "$$ \\text{dev}(M) = 2 (\\hat{\\ell}_\\text{sat} - \\hat{\\ell}_M) $$\n",
    "\n",
    "where $\\ell_\\text{sat}$ is the log-likelihood of the saturated model evaluated at the MLE and $\\hat{\\ell}_M$ is the log-likelihood of the model $M$ evaluated at its MLE."
   ]
  },
  {
   "cell_type": "markdown",
   "metadata": {},
   "source": [
    "**Theorem 18.14**.  The deviance is the likelihood test statistic for\n",
    "\n",
    "$$\n",
    "H_0 : \\text{the model is } M\n",
    "\\quad \\text{versus} \\quad\n",
    "H_1 : \\text{the model is not } M\n",
    "$$\n",
    "\n",
    "Under $H_0$, $\\text{dev}(M) \\leadsto \\chi^2_\\nu$ with $\\nu$ degrees of freedom equal to the difference in the number of parameters between the saturated model and $M$."
   ]
  },
  {
   "cell_type": "markdown",
   "metadata": {},
   "source": [
    "One way to find a good model is to use the deviance to test every sub-model.  Every model that is not rejected by this test is then considered a plausible model.  However, this is not a good strategy for two reasons.  First, we will end up doing many tests, which means there is ample opportunity for making Type I and Type II errors.  Second, we will end up using models where we failed to reject $H_0$.  But we might fail to reject $H_0$ due to low power.  The result is that we end up with a bad model just due to low power."
   ]
  },
  {
   "cell_type": "markdown",
   "metadata": {},
   "source": [
    "There are many model searching strategies.  A common approach is to use some form of *penalized likelihood*.  One version of penalized is the AIC that we used in regression.  For any model $M$ define\n",
    "\n",
    "$$ \\text{AIC}(M) = -2 \\left( \\hat{\\ell}(M) - |M|\\right) $$\n",
    "\n",
    "where $|M|$ is the number of parameters."
   ]
  },
  {
   "cell_type": "markdown",
   "metadata": {},
   "source": [
    "Consider a set of models $\\{ M_1, M_2, \\dots \\}$.  Let $\\hat{f}_j(x)$ denote the estimated probability function obtained by using the maximum likelihood estimator of model $M_j$.  Thus, $\\hat{f}_j(x) = \\hat{f}(x; \\hat{\\beta}_j)$ where $\\hat{\\beta}_j$ is the MLE of the set of parameters $\\beta_j$ for model $M_j$.  We will use the loss function $D(f, \\hat{f})$ where\n",
    "\n",
    "$$ D(f, g) = \\sum_x f(x) \\log \\frac{f(x)}{g(x)} $$\n",
    "\n",
    "is the Kullback-Leibler divergence between two probability density functions.  The corresponding risk function is $R(f, \\hat{f}) = \\mathbb{E}(D(f, \\hat{f}))$.\n",
    "\n",
    "Notice that $D(f, \\hat{f})  = c - A(f, \\hat{f})$ where $c = \\sum_x f(x) \\log f(x)$ does not depend on $\\hat{f}$ and \n",
    "\n",
    "$$ A(f, \\hat{f}) = \\sum_x f(x) \\log \\hat{f}(x) $$\n",
    "\n",
    "Thus minimizing the risk is equivalent to minimizing $a(f, \\hat{f}) = \\mathbb{E}(A(f, \\hat{f}))$."
   ]
  },
  {
   "cell_type": "markdown",
   "metadata": {},
   "source": [
    "It is tempting to estimate $a(f, \\hat{f})$ by $\\sum_x \\log \\hat{f}(x)$ but, just as the training error in regression is highly biased estimate of prediction risk, it is also the case that $\\sum_x \\log \\hat{f}(x)$ is a highly biased estimate of $a(f, \\hat{f})$.  In fact, the bias is approximately equal to $|M_j|$.  Thus:"
   ]
  },
  {
   "cell_type": "markdown",
   "metadata": {},
   "source": [
    "**Theorem 18.15**.  $\\text{AIC}(M_j)$ is an approximately unbiased estimate of $a(f, \\hat{f})$."
   ]
  },
  {
   "cell_type": "markdown",
   "metadata": {},
   "source": [
    "After finding a \"best model\" this way we can draw the corresponding graph.  We can also check the overall fit of the selected model using the deviance as described above."
   ]
  },
  {
   "cell_type": "markdown",
   "metadata": {},
   "source": [
    "### 18.8 Exercises"
   ]
  },
  {
   "cell_type": "markdown",
   "metadata": {},
   "source": [
    "**Exercise 18.8.1**.  Solve for the $p_{ij}$'s in terms of the $\\beta$'s in Example 18.3:\n",
    "\n",
    "*Example*: Let $X = (X_1, X_2)$ where $X_1 \\in \\{0, 1\\}$ and $X_2 \\in \\{ 0, 1, 2 \\}$.  The joint distribution of $n$ such random vectors is a multinomial with 6 categories.  The multinomial parameters can be written as a 2-by-3 table as follows:\n",
    "\n",
    "$$\n",
    "\\begin{array}{ccccc}\n",
    "\\hline\n",
    "\\text{multinomial} & x_2 & 0 & 1 & 2 \\\\\n",
    "\\hline\n",
    "x_1 & 0 & p_{00} & p_{01} & p_{02} \\\\\n",
    "    & 1 & p_{10} & p_{11} & p_{12} \\\\\n",
    "\\hline\n",
    "\\end{array}\n",
    "$$\n",
    "\n",
    "The $n$ data vectors can be summarized as follows:\n",
    "\n",
    "$$\n",
    "\\begin{array}{ccccc}\n",
    "\\hline\n",
    "\\text{multinomial} & x_2 & 0 & 1 & 2 \\\\\n",
    "\\hline\n",
    "x_1 & 0 & C_{00} & C_{01} & C_{02} \\\\\n",
    "    & 1 & C_{10} & C_{11} & C_{12} \\\\\n",
    "\\hline\n",
    "\\end{array}\n",
    "$$\n",
    "\n",
    "For $x = (x_1, x_2)$, the log-linear expansion takes the form\n",
    "\n",
    "$$ \\log f(x) = \\psi_\\varnothing(x) + \\psi_1(x) + \\psi_2(x) + \\psi_{12}(x) $$\n",
    "\n",
    "where\n",
    "\n",
    "$$\n",
    "\\begin{align}\n",
    "& \\psi_\\varnothing(x) = \\log p_{00} \\\\\n",
    "& \\psi_1(x) = x_1 \\log \\left( \\frac{p_{10}}{p_{00}} \\right) \\\\\n",
    "& \\psi_2(x) = I(x_2 = 1) \\log \\left( \\frac{p_{01}}{p_{00}} \\right) \n",
    "            + I(x_2 = 2) \\log \\left( \\frac{p_{02}}{p_{00}} \\right) \\\\\n",
    "& \\psi_{12}(x) = I(x_1 = 1, x_2 = 1) \\log \\left( \\frac{p_{11}p_{00}}{p_{01}p_{10}} \\right)\n",
    "               + I(x_1 = 1, x_2 = 2) \\log \\left( \\frac{p_{12}p_{00}}{p_{02}p_{10}} \\right)\n",
    "\\end{align}\n",
    "$$\n",
    "\n",
    "The six parameters of this model are:\n",
    "\n",
    "$$\n",
    "\\begin{array}{ccc}\n",
    "\\beta_1 = \\log p_{00} &\n",
    "\\beta_2 = \\log \\left( \\frac{p_{10}}{p_{00}} \\right) &\n",
    "\\beta_3 = \\log \\left( \\frac{p_{01}}{p_{00}} \\right) \\\\\n",
    "\\beta_4 = \\log \\left( \\frac{p_{02}}{p_{00}} \\right) &\n",
    "\\beta_5 = \\log \\left( \\frac{p_{11}p_{00}}{p_{01}p_{10}} \\right) &\n",
    "\\beta_6 = \\log \\left( \\frac{p_{12}p_{00}}{p_{02}p_{10}} \\right)\n",
    "\\end{array}\n",
    "$$"
   ]
  },
  {
   "cell_type": "markdown",
   "metadata": {},
   "source": [
    "**Solution**."
   ]
  },
  {
   "cell_type": "markdown",
   "metadata": {},
   "source": [
    "Exponentiate the six definitions for $\\beta_k$ above and get:\n",
    "\n",
    "$$\n",
    "\\begin{array}{ccc}\n",
    "p_{00} = \\exp \\beta_1 &\n",
    "\\frac{p_{10}}{p_{00}} = \\exp \\beta_2 &\n",
    "\\frac{p_{01}}{p_{00}} = \\exp \\beta_3 \\\\\n",
    "\\frac{p_{02}}{p_{00}} = \\exp \\beta_4 &\n",
    "\\frac{p_{11}p_{00}}{p_{01}p_{10}} = \\exp \\beta_5 &\n",
    "\\frac{p_{12}p_{00}}{p_{02}p_{10}} = \\exp \\beta_6\n",
    "\\end{array}\n",
    "$$\n",
    "\n",
    "and then, isolating the $p_{ij}$s,\n",
    "\n",
    "$$\n",
    "\\begin{array}{ccc}\n",
    "p_{00} = \\exp \\beta_1 &\n",
    "p_{10} = \\exp \\left( \\beta_1 + \\beta_2 \\right) &\n",
    "p_{01} = \\exp \\left( \\beta_1 + \\beta_3 \\right) \\\\\n",
    "p_{02} = \\exp \\left( \\beta_1 + \\beta_4 \\right) &\n",
    "p_{11} = \\exp \\left( \\beta_1 + \\beta_2 + \\beta_3 + \\beta_5 \\right) &\n",
    "p_{12} = \\exp \\left( \\beta_1 + \\beta_2 + \\beta_4 + \\beta_6 \\right)\n",
    "\\end{array}\n",
    "$$"
   ]
  },
  {
   "cell_type": "markdown",
   "metadata": {},
   "source": [
    "**Exercise 18.8.2**. Repeat example 18.17 using 7 covariates and $n = 1000$. To avoid numerical problems, replace any zero count with a one.\n",
    "\n",
    "*Example*: Here is a synthetic example.  We generate $n = 100$ random vectors $X = (X_1, \\dots, X_5)$ of length 5.  We generated the data as follows:\n",
    "\n",
    "$$ X_1 \\sim \\text{Bernoulli}(1/2)$$\n",
    "\n",
    "and\n",
    "\n",
    "$$ X_j | X_1, \\dots, X_{j-1} = \\begin{cases}\n",
    "1/4 & \\text{if } X_{j-1} = 0 \\\\\n",
    "3/4 & \\text{if } X_{j-1} = 1\n",
    "\\end{cases}$$\n",
    "\n",
    "It follows that\n",
    "\n",
    "$$\n",
    "\\begin{align}\n",
    "f(x_1, \\dots, x_5) &= \n",
    "\\left( \\frac{1}{2} \\right) \\left( \\frac{3}{4} \\right)^{x_1} \\left( \\frac{1}{4} \\right)^{1 - x_1} \\left( \\frac{3}{4} \\right)^{x_2} \\left( \\frac{1}{4} \\right)^{1 - x_2} \\left( \\frac{3}{4} \\right)^{x_3} \\left( \\frac{1}{4} \\right)^{1 - x_3} \\left( \\frac{3}{4} \\right)^{x_4} \\left( \\frac{1}{4} \\right)^{1 - x_4} \\\\\n",
    "&= \\left( \\frac{1}{2} \\right) \\left( \\frac{3}{4} \\right)^{x_1 + x_2 + x_3 + x_4} \\left( \\frac{1}{4} \\right)^{4 - (x_1 + x_2 + x_3 + x_4)} \n",
    "\\end{align}\n",
    "$$\n",
    "\n",
    "We estimated $f$ using three methods: (i)  maximum likelihood treating this as a multinomial with 32 categories (ii) maximum likelihood from the best loglinear model using AIC and forward selection and (iii) maximum likelihood from the best loglinear model using BIC and forward selection. We estimated the risk by simulating the sample 100 times.  The average risks were:\n",
    "\n",
    "| Method | Risk |\n",
    "|--------|------|\n",
    "| MLE    | 0.63 |\n",
    "| AIC    | 0.54 |\n",
    "| BIC    | 0.53 |\n",
    "\n",
    "In this example, there is little difference between AIC and BIC.  Both are better than maximum likelihood."
   ]
  },
  {
   "cell_type": "markdown",
   "metadata": {},
   "source": [
    "**Solution**."
   ]
  },
  {
   "cell_type": "markdown",
   "metadata": {},
   "source": [
    "Let's generate $n = 1000$ random vectors $X = (X_1, \\dots, X_k)$ of length $k = 7$ as follows:\n",
    "\n",
    "$$ X_1 \\sim \\text{Bernoulli}(1/2) \n",
    "\\quad \\text{and} \\quad\n",
    "X_j | X_1, \\dots, X_{j-1} = \\begin{cases}\n",
    "1/4 & \\text{if } X_{j-1} = 0 \\\\\n",
    "3/4 & \\text{if } X_{j-1} = 1\n",
    "\\end{cases}\n",
    "$$\n",
    "\n",
    "It follows that\n",
    "\n",
    "$$ f(x) = \\frac{1}{2} \\left( \\frac{3}{4} \\right)^{\\sum_{i=1}^{k - 1} x_i} \\left( \\frac{1}{4} \\right)^{(k - 1) - \\left(\\sum_{i=1}^{k - 1} x_i \\right)} $$\n",
    "\n",
    "We will use the KL divergence as our loss function:\n",
    "\n",
    "$$ D(f, g) = \\sum_{x \\in \\Omega} f(x) \\log \\frac{f(x)}{g(x)} $$\n",
    "\n",
    "and estimate the risk function $R(f, \\hat{f}) = \\mathbb{E}[D(f, \\hat{f})]$ by bootstraping the estimation process and calculating the average of the loss functions in each bootstrap step."
   ]
  },
  {
   "cell_type": "markdown",
   "metadata": {},
   "source": [
    "#### MLE estimate\n",
    "\n",
    "The MLE estimate for the full multinomial model is relatively simple: consider the adjusted counts $\\tilde{C}_{\\xi}$ to be the number of times an observation $\\xi$ appears, or 1 if that number of observations is 0.  There are $2^k = 128$ possible observations, so we get $2^k$ adjusted counts $\\tilde{C}_1, \\dots, \\tilde{C}_{2^k}$.  The MLE estimate is then computed as $\\hat{p} = (\\hat{p}_1, \\dots, \\hat{p}_{2^k})$, with $\\hat{p}_i = \\frac{\\tilde{C}_i}{\\sum_\\xi \\tilde{C}_\\xi}$.\n",
    "\n",
    "The function density estimate corresponding to the MLE estimate is a simple lookup table $\\hat{f}(\\xi) = \\hat{p}_\\xi$, as we already have a probability estimate associated with every single possible event.  The function density estimate can then be used to compute the loss function $D(f, \\hat{f})$, which is the KL divergence computed over the universe.   Repeating this process gives us the risk estimate."
   ]
  },
  {
   "cell_type": "code",
   "execution_count": 8,
   "metadata": {},
   "outputs": [],
   "source": [
    "import numpy as np\n",
    "from itertools import chain, combinations\n",
    "from tqdm import notebook\n",
    "\n",
    "\n",
    "# Recipe from itertools documentation, https://docs.python.org/2.7/library/itertools.html#recipes\n",
    "def powerset(iterable):\n",
    "    \"powerset([1,2,3]) --> () (1,) (2,) (3,) (1,2) (1,3) (2,3) (1,2,3)\"\n",
    "    s = list(iterable)\n",
    "    return chain.from_iterable(combinations(s, r) for r in range(len(s)+1))\n",
    "\n",
    "\n",
    "def generate_samples(n, k):\n",
    "    \"\"\"\n",
    "    Generates n samples of size k according to the synthetic distribution\n",
    "    \n",
    "    Args:\n",
    "       n:  number of samples\n",
    "       k:  sample size\n",
    "       \n",
    "    Returns:\n",
    "       X:  2D array of shape (n, k), representing n samples of size k\n",
    "    \"\"\"\n",
    "    \n",
    "    # Generate a random unifom value between 0 and 1 for each variable in each sample\n",
    "    # : k X n array\n",
    "    random_seeds = np.random.uniform(low=0, high=1, size=(k, n))\n",
    "    \n",
    "    # Create a variable to store the generated samples: k X n array\n",
    "    output = np.empty_like(random_seeds).astype(int)\n",
    "    \n",
    "    # Generate x_1's as Bernoulli(1/2)\n",
    "    # output[0] is the first row: 1 X n array\n",
    "    output[0] = random_seeds[0] > 0.5\n",
    "    for j in range(1, k):\n",
    "        # Generate x_j's recursively\n",
    "        output[j] = random_seeds[j] > (output[j - 1] == 0) * (1/4) + (output[j - 1] == 1) * (3/4)\n",
    "        \n",
    "    return output.T\n",
    "\n",
    "\n",
    "def generate_universe(k):\n",
    "    \"\"\"\n",
    "    Generates 2**k samples of size k iterating through the valid universe\n",
    "    \n",
    "    Args:\n",
    "       k: sample size\n",
    "       \n",
    "    Returns:\n",
    "       X_universe:  2D array of shape (2**k, k), representing the universe of all samples of size k\n",
    "    \"\"\"\n",
    "    X_universe = np.zeros(shape=(2**k, k), dtype=int)\n",
    "    for i, line in enumerate(powerset(range(k))):\n",
    "        X_universe[i, line] = 1\n",
    "        \n",
    "    return X_universe\n",
    "\n",
    "\n",
    "def row_to_binary(x):\n",
    "    \"\"\"\n",
    "    Translates a single row into a binary low-endian representation\n",
    "    \n",
    "    Args:\n",
    "       x:  1D array of 0s and 1s\n",
    "       \n",
    "    Returns:\n",
    "       sum(x[i] * (2**i) for index i)\n",
    "    \"\"\"\n",
    "    \n",
    "    # Translate a row of 0s and 1s into a binary representation (low-endian)\n",
    "    return sum([x[i] * (2**i) for i in range(len(x))])\n",
    "\n",
    "\n",
    "def samples_to_count(X):\n",
    "    \"\"\"\n",
    "    Counts the number of occurrences of each sample in the dataset\n",
    "    \n",
    "    Args:\n",
    "       X:   2D array  n samples of size k\n",
    "       \n",
    "    Returns:\n",
    "       count:  1D array of size 2**k, where count[i] is the number of\n",
    "               occurrences of i as a row in binary (low-endian) in X,\n",
    "               or 1 if the count would be 0.\n",
    "    \"\"\"\n",
    "    \n",
    "    binary_samples = np.apply_along_axis(row_to_binary, 1, X)\n",
    "    k = X.shape[1]\n",
    "    count = np.zeros(2**k)\n",
    "    for sample in binary_samples:\n",
    "        count[sample] += 1\n",
    "    \n",
    "    # Replace all zeroes with ones\n",
    "    return np.where(count == 0, 1, count)\n",
    "\n",
    "\n",
    "def true_density(x):\n",
    "    \"\"\"\n",
    "    True density function for the synthetic distribution.\n",
    "    \n",
    "    Args:\n",
    "       x:  1D array  sample\n",
    "       \n",
    "    Returns:\n",
    "       value of PDF = (1/2) * (3/4)**(sum(x)) * (1/4)**(len(x) - sum(x))\n",
    "    \"\"\"\n",
    "    \n",
    "    s = sum(x)\n",
    "    k = len(x)\n",
    "    return (1/2) * ((3/4)**s) * ((1/4)**(k - s))\n",
    "\n",
    "\n",
    "def KL_divergence(f, g, X):\n",
    "    \"\"\"\n",
    "    Returns the KL divergence between f and g calculated on universe X\n",
    "    \n",
    "    Args:\n",
    "       f:  1D array => double  probability density function\n",
    "       g:  1D array => double  probability density function\n",
    "       X:  2D array (n, k) of n samples of size k\n",
    "       \n",
    "    Returns:  D(f, g) = sum over samples of f(x) * log(f(x) / g(x))\n",
    "    \"\"\"\n",
    "    \n",
    "    def term(x):\n",
    "        \"\"\" \n",
    "        Return f(x) * log(f(x) / g(x)) \n",
    "        \n",
    "        Args:\n",
    "           x:  1D array sample of values\n",
    "        \"\"\"\n",
    "        fx = f(x)\n",
    "        gx = g(x)\n",
    "        return fx * np.log(fx / gx)\n",
    "    \n",
    "    return sum(np.apply_along_axis(term, 1, X))"
   ]
  },
  {
   "cell_type": "code",
   "execution_count": 9,
   "metadata": {},
   "outputs": [],
   "source": [
    "# We can now calculate the expected value of the loss function by simulation\n",
    "\n",
    "def p_hat_mle(X):\n",
    "    \"\"\" MLE estimate for the multinomial (replacing zeros with ones) \"\"\"\n",
    "    count = samples_to_count(X)\n",
    "    return count / sum(count)\n",
    "\n",
    "\n",
    "def f_hat_mle(p_hat_mle):\n",
    "    \"\"\" Density function for the estimated multinomial \"\"\"\n",
    "    return lambda x : p_hat_mle[row_to_binary(x)]"
   ]
  },
  {
   "cell_type": "code",
   "execution_count": 10,
   "metadata": {},
   "outputs": [],
   "source": [
    "# Wrapper for parallel processing on progress bars\n",
    "# Source: https://stackoverflow.com/a/58936697\n",
    "\n",
    "import contextlib\n",
    "import joblib\n",
    "from joblib import Parallel, delayed\n",
    "\n",
    "@contextlib.contextmanager\n",
    "def tqdm_joblib(tqdm_object):\n",
    "    \"\"\"Context manager to patch joblib to report into tqdm progress bar given as argument\"\"\"\n",
    "    class TqdmBatchCompletionCallback:\n",
    "        def __init__(self, time, index, parallel):\n",
    "            self.index = index\n",
    "            self.parallel = parallel\n",
    "\n",
    "        def __call__(self, index):\n",
    "            tqdm_object.update()\n",
    "            if self.parallel._original_iterator is not None:\n",
    "                self.parallel.dispatch_next()\n",
    "\n",
    "    old_batch_callback = joblib.parallel.BatchCompletionCallBack\n",
    "    joblib.parallel.BatchCompletionCallBack = TqdmBatchCompletionCallback\n",
    "    try:\n",
    "        yield tqdm_object\n",
    "    finally:\n",
    "        joblib.parallel.BatchCompletionCallBack = old_batch_callback\n",
    "        tqdm_object.close()  "
   ]
  },
  {
   "cell_type": "code",
   "execution_count": 50,
   "metadata": {},
   "outputs": [
    {
     "data": {
      "text/plain": [
       "100"
      ]
     },
     "execution_count": 50,
     "metadata": {},
     "output_type": "execute_result"
    }
   ],
   "source": [
    "len(np.random.uniform(low=0, high=1, size=(7, 100))[0] > 0.5)"
   ]
  },
  {
   "cell_type": "code",
   "execution_count": 11,
   "metadata": {},
   "outputs": [
    {
     "data": {
      "application/vnd.jupyter.widget-view+json": {
       "model_id": "6b0eb0c4c5be4ca5ab010ab2274659c4",
       "version_major": 2,
       "version_minor": 0
      },
      "text/plain": [
       "MLE:   0%|          | 0/500 [00:00<?, ?it/s]"
      ]
     },
     "metadata": {},
     "output_type": "display_data"
    },
    {
     "name": "stdout",
     "output_type": "stream",
     "text": [
      "MLE mean: 0.75\n"
     ]
    }
   ],
   "source": [
    "# Bootstrap MLE\n",
    "import multiprocessing\n",
    "\n",
    "B = 500\n",
    "n = 1000\n",
    "k = 7\n",
    "\n",
    "X_universe = generate_universe(k=k)\n",
    "\n",
    "n_jobs = max(multiprocessing.cpu_count() - 1, 1)\n",
    "\n",
    "def bootstrap_step_mle(i):\n",
    "    XX = generate_samples(n=n, k=k)\n",
    "    p_hat = p_hat_mle(XX)\n",
    "    f_hat = f_hat_mle(p_hat)\n",
    "    return KL_divergence(true_density, f_hat, X_universe)\n",
    "\n",
    "with tqdm_joblib(notebook.tqdm(desc=\"MLE\", total=B)) as progress_bar:\n",
    "    risk_mle = np.array(Parallel(n_jobs=n_jobs)(delayed(bootstrap_step_mle)(i) for i in range(B)))\n",
    "\n",
    "print('MLE mean: %.2f' % risk_mle.mean())"
   ]
  },
  {
   "cell_type": "code",
   "execution_count": 12,
   "metadata": {},
   "outputs": [
    {
     "data": {
      "image/png": "[encoded data removed]",
      "text/plain": [
       "<Figure size 432x288 with 1 Axes>"
      ]
     },
     "metadata": {
      "needs_background": "light"
     },
     "output_type": "display_data"
    }
   ],
   "source": [
    "import matplotlib.pyplot as plt\n",
    "%matplotlib inline\n",
    "\n",
    "plt.hist(risk_mle, bins=100, label='MLE', density=True, histtype='step', color='darkblue')\n",
    "plt.legend(loc='upper left')\n",
    "plt.title('Risk estimates')\n",
    "plt.show()"
   ]
  },
  {
   "cell_type": "markdown",
   "metadata": {},
   "source": [
    "#### Parametrizing and fitting log-linear models\n",
    "\n",
    "A log-linear model $M_S$ has density of the form:\n",
    "\n",
    "$$ \\log f(x) = \\sum_{A \\subset S} \\psi_A(x) $$\n",
    "\n",
    "where $\\psi_A$ depends on $x_i$ only if $i \\in A$.  Since x = $(x_1, \\dots, x_k)$ has its components with values $x_i \\in \\{ 0, 1 \\}$, we can express that as\n",
    "\n",
    "$$ \\psi_A(x) = \\sum_{B \\subset A} c_{B, A} g_A(x) = \\sum_{B \\subset A} c_{B, A} \\left( \\prod_{j \\in B} x_j \\right) $$\n",
    "\n",
    "for some constants $c_{B, A}$, and where $g_A(x) = \\prod_{j \\in A} x_j$. We can then write the log-likelihood for a parameter $\\beta = \\left\\{ \\beta_A | A \\subset S \\right\\}$ as the sum of the log density evaluated at each observation:\n",
    "\n",
    "$$ \\ell(\\beta) = \\sum_{x \\in \\text{obs}} \\log f(x; \\beta) =  \\sum_{x \\in \\text{obs}} \\sum_{A \\subset S} \\sum_{B \\subset A} c_{B, A} g_A(x) = \\sum_{x \\in \\text{obs}} \\sum_{A \\subset S} \\beta_A g_A(x) = \\sum_{A \\subset S} \\beta_A \\sum_{x \\in \\text{obs}} g_A(x) $$\n",
    "\n",
    "We will want to find the MLE $\\hat{\\beta}$ subject to the constraint that $f(x)$ is a probability density function which adds up to one, that is, $\\sum_{x \\in \\Omega} f(x) = 1$ over the random variable universe $\\Omega = \\{ 0, 1 \\}^k$.\n",
    "\n",
    "We can now explicitly frame this as an optimization problem, with target being the maximization of the log likelihood, and a nonlinear equality constraint that the density function adds up to 1:\n",
    "\n",
    "$$\n",
    "\\hat{\\beta} = \\text{argmax}_\\beta \\left\\{ \\sum_{A \\subset S} \\beta_A \\sum_{x \\in \\text{obs}} g_A(x) \n",
    "\\;\\Bigg|\\;  \\sum_{x \\in \\Omega} \\exp \\left( \\sum_{A \\subset S} \\beta_A g_A(x) \\right) = 1\n",
    "\\right\\}\n",
    "$$"
   ]
  },
  {
   "cell_type": "markdown",
   "metadata": {},
   "source": [
    "#### Matrix representation\n",
    "\n",
    "We can use matrix multiplications to speed up the function and constraint evaluations during optimization.  If $X$ is a matrix of $n$ samples by $k$ dimensions, containing $n$ observations, we define the matrix $h_S(X)$, where\n",
    "\n",
    "$$ (h_S(X))_{i, j} = \\begin{cases}\n",
    "1 & \\text{if } X_{r}^j = 1 \\text{ for all } r \\in A \\text{, where the } j \\text{-th element of } X \\text{ is } X^j = (X^j_1, \\dots, X^j_k) \\text{ and } A \\text{ is the } i \\text{-th subset of } S \\\\\n",
    "0 & \\text{otherwise}\n",
    "\\end{cases}$$\n",
    "\n",
    "By definition, the log-likelihood then becomes the sum of the elements of the matrix product $\\beta \\cdot h_S(X_\\text{obs})$:\n",
    "\n",
    "$$ \\ell(\\beta) = \\sum_{A \\in S} \\sum_{x \\in \\text{obs}} \\beta_A g_A(x) = \\sum_i \\left( \\beta \\cdot h_S(X_\\text{obs}) \\right)_i $$\n",
    "\n",
    "The constraint can also be computed using a matrix multiplication, first defining a matrix $X_\\Omega$ of shape $(2^k, k)$ that contains one row for each possible observation:\n",
    "\n",
    "$$ (X_\\Omega)_{i, j} = \\begin{cases}\n",
    "1 & \\text{if the } j \\text{-th digit in the binary representation of } i \\text{ is } 1 \\\\\n",
    "0 & \\text{otherwise}\n",
    "\\end{cases}$$\n",
    "\n",
    "Then the sum of the density functions is the sum of the element-wise exponentials resulting from a matrix product $\\beta \\cdot h_S(X_\\Omega)$:\n",
    "\n",
    "$$ \\sum_{x \\in \\Omega} f(x) = \\sum_{x \\in \\Omega} \\exp \\left(\\sum_{A \\subset S} \\beta_A g_A(x) \\right) \n",
    "= \\sum_{i} \\exp \\left( \\beta \\cdot h_S(X_\\Omega) \\right)_i$$\n",
    "\n",
    "Now, after pre-computing $h_S(X_\\text{obs})$ and $h_S(X_\\Omega)$, an optimizer will only need to perform sums, matrix multiplications and exponentiations to compute the target function and constraint penalty at each step.\n",
    "\n",
    "Finally, note that $\\sum_{x \\in \\Omega} = 1$ if and only if $\\log \\sum_{x \\in \\Omega} f(x) = 0$, so we can use scipy's `logsumexp` function to represent the total probability density function constraint."
   ]
  },
  {
   "cell_type": "markdown",
   "metadata": {},
   "source": [
    "#### Model selection and bootstraping\n",
    "\n",
    "**Model selection** is to be performed using forward selection with AIC or BIC scores.  This means that, for each observation set $X$, given a scoring process to pick between models, we will:\n",
    "\n",
    "1. Fit the uniform model $M_\\varnothing$;\n",
    "2. Given the current best model $M_{S_0}$, fit all models $M_{S}$ where $S = S_0 \\cup \\{ i \\}$ for each $i$ not in $S_0$;\n",
    "3. If a new model was found as an improvement, select it as the new best model and return to step 2.  Otherwise, keep the current best model and stop.\n",
    "\n",
    "**AIC** will be computed as the log likelihood of the candidate model at its MLE minus its number of parameters:\n",
    "\n",
    "$$ \\text{AIC}(M_S) = \\hat{\\ell}_S - |M_S| $$\n",
    "\n",
    "**BIC** will be computed as the log likelihood of the candidate model at its MLE minus the BIC penalty on this formulation (half times number of parameters times log sample size):\n",
    "\n",
    "$$ \\text{BIC}(M_S) = \\hat{\\ell}_S - \\frac{1}{2} |M_S| \\log n $$\n",
    "\n",
    "Once a model is selected, we can compute its loss $D(f, \\hat{f})$, the KL divergence over the universe of observations for the fitted density function.\n",
    "\n",
    "**Bootstraping** means repeating this process multiple times, observing the loss at each point and reporting its average and distribution.  Note that the model selection itself is a part of the bootstraping process -- different model formulations could potentially be chosen for different observations, even though they come from the same synthetic data generation process."
   ]
  },
  {
   "cell_type": "code",
   "execution_count": 13,
   "metadata": {},
   "outputs": [],
   "source": [
    "from scipy.optimize import minimize\n",
    "from scipy.special import logsumexp\n",
    "\n",
    "def get_loglinear_mle(X, subsets):\n",
    "    \"\"\"\n",
    "    Estimates a loglinear model for observations X given variables S via maximizing the likelihood estimator.\n",
    "    \n",
    "    Args:\n",
    "       X:  2D array, shape (n, k), of samples and observations (0 or 1)\n",
    "       S:  iterable of variables between 0 and k-1 inclusive\n",
    "       \n",
    "    Returns:\n",
    "       beta_hat:  1D array of size 2**|S| with estimated parameters via MLE\n",
    "       log_likelihood:  Value of the log-likelihood of the model estimated at the MLE\n",
    "    \"\"\"\n",
    "    k = X.shape[1]\n",
    "    \n",
    "    n_subsets = len(subsets)\n",
    "    \n",
    "    # Speed up calculation of gA operations with vector operations\n",
    "    def get_h(XX):\n",
    "        \"\"\"\n",
    "        Calculate the matrix gA(XX) of shape (2**|S|, XX.shape[0]), where\n",
    "        gA(XX){i, j} = 1 if all elements of the i-th subset A of S are in the j-th sample of XX\n",
    "                       0 otherwise\n",
    "        \"\"\"\n",
    "        h = np.zeros(shape=(len(subsets), XX.shape[0]), dtype=int)\n",
    "        for i, A in enumerate(subsets):\n",
    "            h[i] = XX[:, A].all(axis = 1)\n",
    "            \n",
    "        return h\n",
    "    \n",
    "    h_obs = get_h(X)\n",
    "    h_universe = get_h(generate_universe(k))\n",
    "    \n",
    "    def neg_log_likelihood(beta):\n",
    "        return -np.sum(beta @ h_obs)\n",
    "    \n",
    "    def log_density_sum(beta):\n",
    "        # Use scipy's logsumexp to avoid overflows\n",
    "        # exp(sum(beta @ h_universe)) - 1 == 0 iff logsumexp(beta @ h_universe) == 0\n",
    "        return logsumexp(beta @ h_universe)\n",
    "    \n",
    "    # Constraint: PDF adds up to 1\n",
    "    pdf_constraint = {'type': 'eq', 'fun': log_density_sum}\n",
    "    \n",
    "    # Get initial guess: all values zero other than first\n",
    "    beta0 = np.zeros(len(subsets))\n",
    "    beta0[0] = -k * np.log(2)\n",
    "    \n",
    "    res = minimize(neg_log_likelihood, beta0, constraints=[pdf_constraint])\n",
    "    beta_hat = res.x\n",
    "    log_likelihood = -res.fun\n",
    "    \n",
    "    return beta_hat, log_likelihood\n",
    "\n",
    "\n",
    "def f_loglinear(subsets, beta):\n",
    "    \"\"\"\n",
    "    Computes the density function for a given set of variables S and corresponding parameters beta.\n",
    "    \n",
    "    f(x) = exp ( \\sum_{A in S} \\beta(A) * g_A(x) )\n",
    "    \"\"\"\n",
    "    def f(x):\n",
    "        return np.exp(np.sum([x[A].all() * beta[i] for i, A in enumerate(subsets)]))\n",
    "    \n",
    "    return f\n",
    "\n",
    "\n",
    "def get_AIC(X, subsets):\n",
    "    \"\"\" \n",
    "    Calculates AIC using the loglinear model log likelihood function.\n",
    "    \n",
    "    Args:\n",
    "       X:        2D array (n, k), observed data for log-likelihood function\n",
    "       subsets:  iterable, list of subsets for log-likelihood function\n",
    "       \n",
    "    Returns:\n",
    "       AIC score for the given submodel:  ll - |subsets|\n",
    "    \"\"\"\n",
    "    _, log_likelihood = get_loglinear_mle(X, subsets)\n",
    "    penalty = len(subsets)\n",
    "    \n",
    "    return log_likelihood - penalty\n",
    "\n",
    "\n",
    "def get_BIC(X, subsets):\n",
    "    \"\"\" \n",
    "    Calculates BIC using the loglinear model log likelihood function.\n",
    "    \n",
    "    Args:\n",
    "       X:        2D array (n, k), observed data for log-likelihood function\n",
    "       subsets:  iterable, list of subsets for log-likelihood function\n",
    "       \n",
    "    Returns:\n",
    "       BIC score for the given submodel:  ll - (|subsets| log n) / 2\n",
    "    \"\"\"\n",
    "    _, log_likelihood = get_loglinear_mle(X, subsets)\n",
    "    n = X.shape[0]\n",
    "    penalty = len(subsets) * np.log(n) / 2\n",
    "    \n",
    "    return log_likelihood - penalty"
   ]
  },
  {
   "cell_type": "code",
   "execution_count": 14,
   "metadata": {},
   "outputs": [],
   "source": [
    "def forward_selection(score_func, S):\n",
    "    \"\"\"\n",
    "    Uses forward selection to select a subset A of S, in a search to maximize score_func(A).\n",
    "\n",
    "    Args:\n",
    "       score_func:  (A) => score, a function to score subsets\n",
    "       S:           iterable to select a subset from\n",
    "       \n",
    "    Returns:\n",
    "       A:           a subset of S resulting from forward selection\n",
    "       \n",
    "    \"\"\"\n",
    "    all_subsets = [list(s) for s in powerset(S)]\n",
    "    current_subset = [[]]\n",
    "    current_score = score_func(current_subset)\n",
    "    \n",
    "    while True:\n",
    "        best_subset, best_score = current_subset, current_score\n",
    "        improved = False\n",
    "        for s in all_subsets:\n",
    "            if s not in current_subset:\n",
    "                candidate_subset = current_subset.copy()\n",
    "                candidate_subset.append(s)\n",
    "                candidate_subset.sort()\n",
    "                candidate_score = score_func(candidate_subset)\n",
    "                \n",
    "                if candidate_score > best_score:\n",
    "                    improved = True\n",
    "                    best_subset, best_score = candidate_subset, candidate_score\n",
    "        \n",
    "        if not improved:\n",
    "            break\n",
    "        current_subset, current_score = best_subset, best_score\n",
    "    \n",
    "    return current_subset"
   ]
  },
  {
   "cell_type": "code",
   "execution_count": 15,
   "metadata": {},
   "outputs": [
    {
     "data": {
      "application/vnd.jupyter.widget-view+json": {
       "model_id": "5ec130f1d8aa4d12862f7271425c900f",
       "version_major": 2,
       "version_minor": 0
      },
      "text/plain": [
       "AIC:   0%|          | 0/10 [00:00<?, ?it/s]"
      ]
     },
     "metadata": {},
     "output_type": "display_data"
    },
    {
     "name": "stdout",
     "output_type": "stream",
     "text": [
      "AIC mean: 2.67\n"
     ]
    }
   ],
   "source": [
    "# AIC bootstrapping\n",
    "\n",
    "B = 10\n",
    "\n",
    "n = 1000\n",
    "k = 7\n",
    "\n",
    "S_full = [i for i in range(k)]\n",
    "X_universe = generate_universe(k=k)\n",
    "\n",
    "n_jobs = max(multiprocessing.cpu_count() - 1, 1)\n",
    "\n",
    "def bootstrap_step_aic(i):\n",
    "    XX = generate_samples(n=n, k=k)    \n",
    "    score_func = lambda S: get_AIC(XX, S)\n",
    "    best_subset = forward_selection(score_func, S_full)\n",
    "    beta_hat, _ = get_loglinear_mle(XX, best_subset)\n",
    "    f_hat = f_loglinear(best_subset, beta_hat)\n",
    "    return KL_divergence(true_density, f_hat, X_universe)\n",
    "\n",
    "with tqdm_joblib(notebook.tqdm(desc=\"AIC\", total=B)) as progress_bar:\n",
    "    risk_aic = np.array(Parallel(n_jobs=n_jobs)(delayed(bootstrap_step_aic)(i) for i in range(B)))\n",
    "\n",
    "print('AIC mean: %.2f' % risk_aic.mean())"
   ]
  },
  {
   "cell_type": "code",
   "execution_count": 16,
   "metadata": {},
   "outputs": [
    {
     "data": {
      "application/vnd.jupyter.widget-view+json": {
       "model_id": "3f929c19d85b4ca59f8420a1029bc1ea",
       "version_major": 2,
       "version_minor": 0
      },
      "text/plain": [
       "BIC:   0%|          | 0/10 [00:00<?, ?it/s]"
      ]
     },
     "metadata": {},
     "output_type": "display_data"
    },
    {
     "name": "stdout",
     "output_type": "stream",
     "text": [
      "BIC mean: 1.05\n"
     ]
    }
   ],
   "source": [
    "# BIC bootstrapping\n",
    "\n",
    "B = 10\n",
    "\n",
    "n = 1000\n",
    "k = 7\n",
    "\n",
    "S_full = [i for i in range(k)]\n",
    "X_universe = generate_universe(k=k)\n",
    "\n",
    "n_jobs = max(multiprocessing.cpu_count() - 1, 1)\n",
    "\n",
    "def bootstrap_step_bic(i):\n",
    "    XX = generate_samples(n=n, k=k)    \n",
    "    score_func = lambda S: get_BIC(XX, S)\n",
    "    best_subset = forward_selection(score_func, S_full)\n",
    "    beta_hat, _ = get_loglinear_mle(XX, best_subset)\n",
    "    f_hat = f_loglinear(best_subset, beta_hat)\n",
    "    return KL_divergence(true_density, f_hat, X_universe)\n",
    "\n",
    "with tqdm_joblib(notebook.tqdm(desc=\"BIC\", total=B)) as progress_bar:\n",
    "    risk_bic = np.array(Parallel(n_jobs=n_jobs)(delayed(bootstrap_step_bic)(i) for i in range(B)))\n",
    "\n",
    "print('BIC mean: %.2f' % risk_bic.mean())"
   ]
  },
  {
   "cell_type": "code",
   "execution_count": 17,
   "metadata": {},
   "outputs": [
    {
     "name": "stdout",
     "output_type": "stream",
     "text": [
      "MLE mean: 0.75\n",
      "AIC mean: 2.67\n",
      "BIC mean: 1.05\n"
     ]
    }
   ],
   "source": [
    "# Remove samples with unsuccessful optimization\n",
    "risk_aic = risk_aic[np.isfinite(risk_aic)]\n",
    "\n",
    "print('MLE mean: %.2f' % risk_mle.mean())\n",
    "print('AIC mean: %.2f' % risk_aic.mean())\n",
    "print('BIC mean: %.2f' % risk_bic.mean())"
   ]
  },
  {
   "cell_type": "markdown",
   "metadata": {},
   "source": [
    "In this scenario, the best risk is obtained by the MLE, followed by the BIC and the AIC."
   ]
  },
  {
   "cell_type": "code",
   "execution_count": 18,
   "metadata": {},
   "outputs": [
    {
     "data": {
      "image/png": "[encoded data removed]",
      "text/plain": [
       "<Figure size 864x576 with 1 Axes>"
      ]
     },
     "metadata": {
      "needs_background": "light"
     },
     "output_type": "display_data"
    }
   ],
   "source": [
    "import matplotlib.pyplot as plt\n",
    "%matplotlib inline\n",
    "\n",
    "r = (0.5, 5.0)\n",
    "plt.figure(figsize=(12, 8))\n",
    "plt.hist(risk_mle, bins=50, range=r, label='MLE', density=True, histtype='step', color='blue')\n",
    "plt.hist(risk_aic, bins=50, range=r, label='AIC', density=True, histtype='step', color='green')\n",
    "plt.hist(risk_bic, bins=50, range=r, label='BIC', density=True, histtype='step', color='red')\n",
    "plt.legend(loc='upper left')\n",
    "plt.title('Risk estimates')\n",
    "plt.show()"
   ]
  },
  {
   "cell_type": "markdown",
   "metadata": {},
   "source": [
    "**Exercise 18.8.3**.  Prove Lemma 18.5.\n",
    "\n",
    "A partition $(X_a, X_b, X_c)$ satisfies $X_b \\text{ ⫫ } X_c \\; | \\; X_a$ if and only if $f(x_a, x_b, x_c) = g(x_a, x_b) h(x_a, x_c)$ for some functions $g$ and $h$."
   ]
  },
  {
   "cell_type": "markdown",
   "metadata": {},
   "source": [
    "**Solution**.  We have $X_b \\text{ ⫫ } X_c \\; | \\; X_a$ if and only if $\\mathbb{P}(X_b = b, X_c = c | X_a = a) = \\mathbb{P}(X_b = b | X_a = a) \\mathbb{P}(X_c = c | X_a = a)$ for every $a$.  \n",
    "\n",
    "Let $\\mathbb{P}(X_b = b, X_c = c | X_a = a) = f_a(b, c)$, $\\mathbb{P}(X_b = b | X_a = a) = g_a(b)$ and $\\mathbb{P}(X_c = c | X_a = a) = h_a(c)$.  Then the statement is equivalent to $f_a(b, c) = g_a(b) h_a(c)$ for all $a, b, c$.  The result follows by defining $f(a, b, c) = f_a(b, c)$, $g_a(b) = g(a, b)$ and $h_a(c) = h(a, c)$."
   ]
  },
  {
   "cell_type": "markdown",
   "metadata": {},
   "source": [
    "**Exercise 18.8.4**. Prove Lemma 18.9.\n",
    "\n",
    "A graphical model is hierarchical but the reverse need not be true."
   ]
  },
  {
   "cell_type": "markdown",
   "metadata": {},
   "source": [
    "**Solution**.\n",
    "\n",
    "A log-linear model $\\log f(x) = \\sum_{A \\subset S} \\psi_A(x)$ is graphical if $\\psi_A(x) \\neq 0$ except for any pair of coordinates not in the edge set for some graph $\\mathcal{G}$.\n",
    "\n",
    "A log-linear model $\\log f(x) = \\sum_{A \\subset S} \\psi_A(x)$ is hierarchical if $\\psi_A = 0$ and $A \\subset B$ implies $\\psi_B = 0$.\n",
    "\n",
    "If, on a graphical model with associated graph $\\mathcal{G}$, $\\psi_A = 0$, then by definition there exists $\\{ i, j \\} \\subset A$ such that $(i, j)$ is not an edge of $\\mathcal{G}$.  But then, for any $B$ containing $A$, we also have that $\\{ i, j \\} \\subset B$, and since the model is graphical we must have $\\psi_B = 0$.  Therefore a graphical model is hierarchical.\n",
    "\n",
    "We can prove that hierarchical models are not all graphical with a counterexample, namely the book's Example 18.11. This is the hierarchical model with generator $1.2 + 1.3 + 2.3$:\n",
    "\n",
    "$$\\log f(x) = \\psi_\\varnothing(x) + \\psi_1(x) + \\psi_2(x) + \\psi_3(x) + \\psi_{12}(x) + \\psi_{13}(x) + \\psi_{23}(x)$$\n",
    "\n",
    "This model is hierarchical, but it is not graphical since $\\psi_{123} = 0$."
   ]
  },
  {
   "cell_type": "markdown",
   "metadata": {},
   "source": [
    "**Exercise 18.8.5**.  Consider random variables $(X_1, X_2, X_3, X_4)$.  Suppose the log-density is\n",
    "\n",
    "$$\\log f(x) = \\psi_\\varnothing(x) + \\psi_{12}(x) + \\psi_{13}(x) + \\psi_{24}(x) + \\psi_{34}(x) $$\n",
    "\n",
    "**(a)** Draw the graph $\\mathcal{G}$ for these variables.\n",
    "\n",
    "**(b)** Write down all the independence and conditional independence relations implied by the graph.\n",
    "\n",
    "**(c)** Is this model graphical?  Is it hierarchical?"
   ]
  },
  {
   "cell_type": "markdown",
   "metadata": {},
   "source": [
    "**Solution**\n",
    "\n",
    "**(a)**"
   ]
  },
  {
   "cell_type": "code",
   "execution_count": 19,
   "metadata": {},
   "outputs": [
    {
     "data": {
      "image/svg+xml": [
       "<?xml version=\"1.0\" encoding=\"UTF-8\" standalone=\"no\"?>\n",
       "<!DOCTYPE svg PUBLIC \"-//W3C//DTD SVG 1.1//EN\"\n",
       " \"http://www.w3.org/Graphics/SVG/1.1/DTD/svg11.dtd\">\n",
       "<!-- Generated by graphviz version 2.43.0 (0)\n",
       " -->\n",
       "<!-- Title: %3 Pages: 1 -->\n",
       "<svg width=\"134pt\" height=\"188pt\"\n",
       " viewBox=\"0.00 0.00 134.00 188.00\" xmlns=\"http://www.w3.org/2000/svg\" xmlns:xlink=\"http://www.w3.org/1999/xlink\">\n",
       "<g id=\"graph0\" class=\"graph\" transform=\"scale(1 1) rotate(0) translate(4 184)\">\n",
       "<title>%3</title>\n",
       "<polygon fill=\"white\" stroke=\"transparent\" points=\"-4,4 -4,-184 130,-184 130,4 -4,4\"/>\n",
       "<!-- X1 -->\n",
       "<g id=\"node1\" class=\"node\">\n",
       "<title>X1</title>\n",
       "<ellipse fill=\"none\" stroke=\"black\" cx=\"63\" cy=\"-162\" rx=\"27\" ry=\"18\"/>\n",
       "<text text-anchor=\"middle\" x=\"63\" y=\"-158.3\" font-family=\"Times,serif\" font-size=\"14.00\">X1</text>\n",
       "</g>\n",
       "<!-- X2 -->\n",
       "<g id=\"node2\" class=\"node\">\n",
       "<title>X2</title>\n",
       "<ellipse fill=\"none\" stroke=\"black\" cx=\"27\" cy=\"-90\" rx=\"27\" ry=\"18\"/>\n",
       "<text text-anchor=\"middle\" x=\"27\" y=\"-86.3\" font-family=\"Times,serif\" font-size=\"14.00\">X2</text>\n",
       "</g>\n",
       "<!-- X1&#45;&#45;X2 -->\n",
       "<g id=\"edge1\" class=\"edge\">\n",
       "<title>X1&#45;&#45;X2</title>\n",
       "<path fill=\"none\" stroke=\"black\" d=\"M54.65,-144.76C48.83,-133.46 41.11,-118.44 35.3,-107.15\"/>\n",
       "</g>\n",
       "<!-- X3 -->\n",
       "<g id=\"node3\" class=\"node\">\n",
       "<title>X3</title>\n",
       "<ellipse fill=\"none\" stroke=\"black\" cx=\"99\" cy=\"-90\" rx=\"27\" ry=\"18\"/>\n",
       "<text text-anchor=\"middle\" x=\"99\" y=\"-86.3\" font-family=\"Times,serif\" font-size=\"14.00\">X3</text>\n",
       "</g>\n",
       "<!-- X1&#45;&#45;X3 -->\n",
       "<g id=\"edge2\" class=\"edge\">\n",
       "<title>X1&#45;&#45;X3</title>\n",
       "<path fill=\"none\" stroke=\"black\" d=\"M71.35,-144.76C77.17,-133.46 84.89,-118.44 90.7,-107.15\"/>\n",
       "</g>\n",
       "<!-- X4 -->\n",
       "<g id=\"node4\" class=\"node\">\n",
       "<title>X4</title>\n",
       "<ellipse fill=\"none\" stroke=\"black\" cx=\"63\" cy=\"-18\" rx=\"27\" ry=\"18\"/>\n",
       "<text text-anchor=\"middle\" x=\"63\" y=\"-14.3\" font-family=\"Times,serif\" font-size=\"14.00\">X4</text>\n",
       "</g>\n",
       "<!-- X2&#45;&#45;X4 -->\n",
       "<g id=\"edge3\" class=\"edge\">\n",
       "<title>X2&#45;&#45;X4</title>\n",
       "<path fill=\"none\" stroke=\"black\" d=\"M35.35,-72.76C41.17,-61.46 48.89,-46.44 54.7,-35.15\"/>\n",
       "</g>\n",
       "<!-- X3&#45;&#45;X4 -->\n",
       "<g id=\"edge4\" class=\"edge\">\n",
       "<title>X3&#45;&#45;X4</title>\n",
       "<path fill=\"none\" stroke=\"black\" d=\"M90.65,-72.76C84.83,-61.46 77.11,-46.44 71.3,-35.15\"/>\n",
       "</g>\n",
       "</g>\n",
       "</svg>\n"
      ],
      "text/plain": [
       "<graphviz.dot.Graph at 0x7fbda49f2550>"
      ]
     },
     "execution_count": 19,
     "metadata": {},
     "output_type": "execute_result"
    }
   ],
   "source": [
    "from graphviz import Graph\n",
    "\n",
    "g = Graph()\n",
    "\n",
    "g.edge('X1', 'X2')\n",
    "g.edge('X1', 'X3')\n",
    "g.edge('X2', 'X4')\n",
    "g.edge('X3', 'X4')\n",
    "\n",
    "g"
   ]
  },
  {
   "cell_type": "markdown",
   "metadata": {},
   "source": [
    "**(b)**\n",
    "\n",
    "- $X_1 \\text{ ⫫ } X_4 |  X_2, X_3 $ \n",
    "- $X_2 \\text{ ⫫ } X_3 |  X_1, X_4 $"
   ]
  },
  {
   "cell_type": "markdown",
   "metadata": {},
   "source": [
    "**(c)** The model is not graphical, since $\\psi_1 = 0$ but the definition of a graphical model requires all $\\psi_A$ to be non-zero unless an edge from $\\mathcal{G}$ is contained in $A$ -- and $A = \\{ 1 \\}$ contains no edges.\n",
    "\n",
    "Since the model is not graphical, it is not hierarchical either."
   ]
  },
  {
   "cell_type": "markdown",
   "metadata": {},
   "source": [
    "**Exercise 18.8.6**. Suppose that parameters $p(x_1, x_2, x_3)$ are proportional to the following values:\n",
    "\n",
    "$$\n",
    "\\begin{array}{cccccc}\n",
    "\\hline\n",
    "    & x_2 & 0  & 0   & 1  & 1 \\\\\n",
    "    & x_3 & 0  & 1   & 0  & 1 \\\\\n",
    "\\hline\n",
    "x_1 & 0   & 2  &   8 &  4 & 16 \\\\\n",
    "    & 1   & 16 & 128 & 32 & 256 \\\\\n",
    "\\hline\n",
    "\\end{array}\n",
    "$$\n",
    "\n",
    "Find the $\\psi$-terms for the log-linear expansion.  Comment on the model."
   ]
  },
  {
   "cell_type": "markdown",
   "metadata": {},
   "source": [
    "**Solution**.  Rewriting the given parameters table, where $p'$ are the given values,\n",
    "\n",
    "$$\n",
    "\\begin{array}{ccc | c | c}\n",
    "x_1 & x_2 & x_3 & p'   & \\log_2 p'\\\\\n",
    "\\hline\n",
    "0   &   0  &  0 & 2   & 1\\\\\n",
    "0   &   0  &  1 & 8   & 3\\\\\n",
    "0   &   1  &  0 & 4   & 2\\\\\n",
    "0   &   1  &  1 & 16  & 4\\\\\n",
    "1   &   0  &  0 & 16  & 4\\\\\n",
    "1   &   0  &  1 & 128 & 7\\\\\n",
    "1   &   1  &  0 & 32  & 5\\\\\n",
    "1   &   1  &  1 & 256 & 8\\\\\n",
    "\\hline\n",
    "\\end{array}\n",
    "$$\n",
    "\n",
    "and by inspection we can verify that\n",
    "\n",
    "$$ \\log_2 p' = 1 + 3 x_1 + x_2 + 2 x_3 + x_1 x_3 $$\n",
    "\n",
    "Now, since $f(x_1, x_2, x_3) \\propto p'(x_1, x_2, x_3)$, then the log density is the value above plus a constant:\n",
    "\n",
    "$$ \\log f(x) = c + \\frac{3}{\\log 2} x_1 + \\frac{1}{\\log 2} x_2 + \\frac{2}{\\log 2} x_3 + \\frac{1}{\\log 2} x_1 x_3  = \\psi_\\varnothing + \\psi_1(x) + \\psi_2(x) + \\psi_3(x) + \\psi_{13}(x)$$\n",
    "\n",
    "where\n",
    "\n",
    "$$ \\psi_\\varnothing(x) = c\n",
    "\\quad\n",
    "\\psi_1(x) = \\frac{3}{\\log 2} x_1\n",
    "\\quad\n",
    "\\psi_2(x) = \\frac{1}{\\log 2} x_2\n",
    "\\quad\n",
    "\\psi_3(x) = \\frac{2}{\\log 2} x_3\n",
    "\\quad\n",
    "\\psi_{13}(x) = \\frac{1}{\\log 2} x_1 x_3\n",
    "$$\n",
    "\n",
    "All that remains is finding $c = \\psi_\\varnothing(x)$ so that the probability density adds up to 1.  But $f(0, 0, 0) = \\frac{p'(0, 0, 0)}{\\sum_x p'(x)} = \\frac{1}{231}$, so\n",
    "\n",
    "$$ \\psi_\\varnothing(x) = - \\log 231$$\n",
    "\n",
    "This is a graphical model with generator $1.3 + 2$; we have $X_1 \\text{ ⫫ } X_3 |  X_2$ and the following graph:"
   ]
  },
  {
   "cell_type": "code",
   "execution_count": 20,
   "metadata": {},
   "outputs": [
    {
     "data": {
      "image/svg+xml": [
       "<?xml version=\"1.0\" encoding=\"UTF-8\" standalone=\"no\"?>\n",
       "<!DOCTYPE svg PUBLIC \"-//W3C//DTD SVG 1.1//EN\"\n",
       " \"http://www.w3.org/Graphics/SVG/1.1/DTD/svg11.dtd\">\n",
       "<!-- Generated by graphviz version 2.43.0 (0)\n",
       " -->\n",
       "<!-- Title: %3 Pages: 1 -->\n",
       "<svg width=\"62pt\" height=\"188pt\"\n",
       " viewBox=\"0.00 0.00 62.00 188.00\" xmlns=\"http://www.w3.org/2000/svg\" xmlns:xlink=\"http://www.w3.org/1999/xlink\">\n",
       "<g id=\"graph0\" class=\"graph\" transform=\"scale(1 1) rotate(0) translate(4 184)\">\n",
       "<title>%3</title>\n",
       "<polygon fill=\"white\" stroke=\"transparent\" points=\"-4,4 -4,-184 58,-184 58,4 -4,4\"/>\n",
       "<!-- X1 -->\n",
       "<g id=\"node1\" class=\"node\">\n",
       "<title>X1</title>\n",
       "<ellipse fill=\"none\" stroke=\"black\" cx=\"27\" cy=\"-162\" rx=\"27\" ry=\"18\"/>\n",
       "<text text-anchor=\"middle\" x=\"27\" y=\"-158.3\" font-family=\"Times,serif\" font-size=\"14.00\">X1</text>\n",
       "</g>\n",
       "<!-- X2 -->\n",
       "<g id=\"node2\" class=\"node\">\n",
       "<title>X2</title>\n",
       "<ellipse fill=\"none\" stroke=\"black\" cx=\"27\" cy=\"-90\" rx=\"27\" ry=\"18\"/>\n",
       "<text text-anchor=\"middle\" x=\"27\" y=\"-86.3\" font-family=\"Times,serif\" font-size=\"14.00\">X2</text>\n",
       "</g>\n",
       "<!-- X1&#45;&#45;X2 -->\n",
       "<g id=\"edge1\" class=\"edge\">\n",
       "<title>X1&#45;&#45;X2</title>\n",
       "<path fill=\"none\" stroke=\"black\" d=\"M27,-143.7C27,-132.85 27,-118.92 27,-108.1\"/>\n",
       "</g>\n",
       "<!-- X3 -->\n",
       "<g id=\"node3\" class=\"node\">\n",
       "<title>X3</title>\n",
       "<ellipse fill=\"none\" stroke=\"black\" cx=\"27\" cy=\"-18\" rx=\"27\" ry=\"18\"/>\n",
       "<text text-anchor=\"middle\" x=\"27\" y=\"-14.3\" font-family=\"Times,serif\" font-size=\"14.00\">X3</text>\n",
       "</g>\n",
       "<!-- X2&#45;&#45;X3 -->\n",
       "<g id=\"edge2\" class=\"edge\">\n",
       "<title>X2&#45;&#45;X3</title>\n",
       "<path fill=\"none\" stroke=\"black\" d=\"M27,-71.7C27,-60.85 27,-46.92 27,-36.1\"/>\n",
       "</g>\n",
       "</g>\n",
       "</svg>\n"
      ],
      "text/plain": [
       "<graphviz.dot.Graph at 0x7fbdac2d1c10>"
      ]
     },
     "execution_count": 20,
     "metadata": {},
     "output_type": "execute_result"
    }
   ],
   "source": [
    "from graphviz import Graph\n",
    "\n",
    "g = Graph()\n",
    "\n",
    "g.edge('X1', 'X2')\n",
    "g.edge('X2', 'X3')\n",
    "\n",
    "g"
   ]
  },
  {
   "cell_type": "markdown",
   "metadata": {},
   "source": [
    "**Exercise 18.8.7**.  Let $X_1, \\dots, X_4$ be binary.  Draw the independence graphs corresponding to the following log-linear models.  Also, identify whether each is graphical and/or hierarchical (or neither).\n",
    "\n",
    "**(a)**  $\\log f = 7 + 11 x_1 + 2 x_2 + 1.5 x_3 + 17 x_4$\n",
    "\n",
    "**(b)**  $\\log f = 7 + 11 x_1 + 2 x_3 + 1.5 x_3 + 17 x_4 + 12 x_2 x_3 + 78 x_2 x_4 + 3 x_3 x_4 + 32 x_2 x_3 x_4$\n",
    "\n",
    "**(c)**  $\\log f = 7 + 11 x_1 + 2 x_3 + 1.5 x_3 + 17 x_4 + 12 x_2 x_3 + 3 x_3 x_4 + x_1 x_4 + 2 x_1 x_2$\n",
    "\n",
    "**(d)**  $\\log f = 7 + 5055 x_1 x_2 x_3 x_4$"
   ]
  },
  {
   "cell_type": "markdown",
   "metadata": {},
   "source": [
    "**Solution**.  Let's assume these are valid density functions -- that is, that a constant is added to each of these so that the densities add up to 1, or that the log is applied in an applicable base.  In either scenario, we just need the zero or non-zero properties of each coefficient to determine the answers for this exercise."
   ]
  },
  {
   "cell_type": "markdown",
   "metadata": {},
   "source": [
    "**(a)** $\\log f = \\psi_\\varnothing + \\psi_1 + \\psi_2 + \\psi_3 + \\psi_4$\n",
    "\n",
    "This is a graphical model with mutual independence across all variables.  It is graphical and hierarchical, corresponding to model generator $1 + 2 + 3 + 4$.  The graph is as follows:"
   ]
  },
  {
   "cell_type": "code",
   "execution_count": 21,
   "metadata": {},
   "outputs": [
    {
     "data": {
      "image/svg+xml": [
       "<?xml version=\"1.0\" encoding=\"UTF-8\" standalone=\"no\"?>\n",
       "<!DOCTYPE svg PUBLIC \"-//W3C//DTD SVG 1.1//EN\"\n",
       " \"http://www.w3.org/Graphics/SVG/1.1/DTD/svg11.dtd\">\n",
       "<!-- Generated by graphviz version 2.43.0 (0)\n",
       " -->\n",
       "<!-- Title: %3 Pages: 1 -->\n",
       "<svg width=\"278pt\" height=\"44pt\"\n",
       " viewBox=\"0.00 0.00 278.00 44.00\" xmlns=\"http://www.w3.org/2000/svg\" xmlns:xlink=\"http://www.w3.org/1999/xlink\">\n",
       "<g id=\"graph0\" class=\"graph\" transform=\"scale(1 1) rotate(0) translate(4 40)\">\n",
       "<title>%3</title>\n",
       "<polygon fill=\"white\" stroke=\"transparent\" points=\"-4,4 -4,-40 274,-40 274,4 -4,4\"/>\n",
       "<!-- X1 -->\n",
       "<g id=\"node1\" class=\"node\">\n",
       "<title>X1</title>\n",
       "<ellipse fill=\"none\" stroke=\"black\" cx=\"27\" cy=\"-18\" rx=\"27\" ry=\"18\"/>\n",
       "<text text-anchor=\"middle\" x=\"27\" y=\"-14.3\" font-family=\"Times,serif\" font-size=\"14.00\">X1</text>\n",
       "</g>\n",
       "<!-- X2 -->\n",
       "<g id=\"node2\" class=\"node\">\n",
       "<title>X2</title>\n",
       "<ellipse fill=\"none\" stroke=\"black\" cx=\"99\" cy=\"-18\" rx=\"27\" ry=\"18\"/>\n",
       "<text text-anchor=\"middle\" x=\"99\" y=\"-14.3\" font-family=\"Times,serif\" font-size=\"14.00\">X2</text>\n",
       "</g>\n",
       "<!-- X3 -->\n",
       "<g id=\"node3\" class=\"node\">\n",
       "<title>X3</title>\n",
       "<ellipse fill=\"none\" stroke=\"black\" cx=\"171\" cy=\"-18\" rx=\"27\" ry=\"18\"/>\n",
       "<text text-anchor=\"middle\" x=\"171\" y=\"-14.3\" font-family=\"Times,serif\" font-size=\"14.00\">X3</text>\n",
       "</g>\n",
       "<!-- X4 -->\n",
       "<g id=\"node4\" class=\"node\">\n",
       "<title>X4</title>\n",
       "<ellipse fill=\"none\" stroke=\"black\" cx=\"243\" cy=\"-18\" rx=\"27\" ry=\"18\"/>\n",
       "<text text-anchor=\"middle\" x=\"243\" y=\"-14.3\" font-family=\"Times,serif\" font-size=\"14.00\">X4</text>\n",
       "</g>\n",
       "</g>\n",
       "</svg>\n"
      ],
      "text/plain": [
       "<graphviz.dot.Graph at 0x7fbda496e130>"
      ]
     },
     "execution_count": 21,
     "metadata": {},
     "output_type": "execute_result"
    }
   ],
   "source": [
    "from graphviz import Graph\n",
    "\n",
    "g = Graph()\n",
    "\n",
    "g.node('X1')\n",
    "g.node('X2')\n",
    "g.node('X3')\n",
    "g.node('X4')\n",
    "\n",
    "g"
   ]
  },
  {
   "cell_type": "markdown",
   "metadata": {},
   "source": [
    "**(b)** $\\log f = \\psi_\\varnothing + \\psi_1 + \\psi_2 + \\psi_3 + \\psi_4 + \\psi_{23} + \\psi_{24} + \\psi_{34} + \\psi_{234}$\n",
    "\n",
    "This is a graphical model with independence between 1 and all other variables.  It is graphical and hierarchical, corresponding the model generator $1 + 2.3.4$.  The graph is as follows:"
   ]
  },
  {
   "cell_type": "code",
   "execution_count": 22,
   "metadata": {},
   "outputs": [
    {
     "data": {
      "image/svg+xml": [
       "<?xml version=\"1.0\" encoding=\"UTF-8\" standalone=\"no\"?>\n",
       "<!DOCTYPE svg PUBLIC \"-//W3C//DTD SVG 1.1//EN\"\n",
       " \"http://www.w3.org/Graphics/SVG/1.1/DTD/svg11.dtd\">\n",
       "<!-- Generated by graphviz version 2.43.0 (0)\n",
       " -->\n",
       "<!-- Title: %3 Pages: 1 -->\n",
       "<svg width=\"134pt\" height=\"188pt\"\n",
       " viewBox=\"0.00 0.00 134.00 188.00\" xmlns=\"http://www.w3.org/2000/svg\" xmlns:xlink=\"http://www.w3.org/1999/xlink\">\n",
       "<g id=\"graph0\" class=\"graph\" transform=\"scale(1 1) rotate(0) translate(4 184)\">\n",
       "<title>%3</title>\n",
       "<polygon fill=\"white\" stroke=\"transparent\" points=\"-4,4 -4,-184 130,-184 130,4 -4,4\"/>\n",
       "<!-- X1 -->\n",
       "<g id=\"node1\" class=\"node\">\n",
       "<title>X1</title>\n",
       "<ellipse fill=\"none\" stroke=\"black\" cx=\"27\" cy=\"-162\" rx=\"27\" ry=\"18\"/>\n",
       "<text text-anchor=\"middle\" x=\"27\" y=\"-158.3\" font-family=\"Times,serif\" font-size=\"14.00\">X1</text>\n",
       "</g>\n",
       "<!-- X2 -->\n",
       "<g id=\"node2\" class=\"node\">\n",
       "<title>X2</title>\n",
       "<ellipse fill=\"none\" stroke=\"black\" cx=\"99\" cy=\"-162\" rx=\"27\" ry=\"18\"/>\n",
       "<text text-anchor=\"middle\" x=\"99\" y=\"-158.3\" font-family=\"Times,serif\" font-size=\"14.00\">X2</text>\n",
       "</g>\n",
       "<!-- X3 -->\n",
       "<g id=\"node3\" class=\"node\">\n",
       "<title>X3</title>\n",
       "<ellipse fill=\"none\" stroke=\"black\" cx=\"71\" cy=\"-90\" rx=\"27\" ry=\"18\"/>\n",
       "<text text-anchor=\"middle\" x=\"71\" y=\"-86.3\" font-family=\"Times,serif\" font-size=\"14.00\">X3</text>\n",
       "</g>\n",
       "<!-- X2&#45;&#45;X3 -->\n",
       "<g id=\"edge1\" class=\"edge\">\n",
       "<title>X2&#45;&#45;X3</title>\n",
       "<path fill=\"none\" stroke=\"black\" d=\"M92.36,-144.41C87.9,-133.25 82.04,-118.6 77.59,-107.47\"/>\n",
       "</g>\n",
       "<!-- X4 -->\n",
       "<g id=\"node4\" class=\"node\">\n",
       "<title>X4</title>\n",
       "<ellipse fill=\"none\" stroke=\"black\" cx=\"98\" cy=\"-18\" rx=\"27\" ry=\"18\"/>\n",
       "<text text-anchor=\"middle\" x=\"98\" y=\"-14.3\" font-family=\"Times,serif\" font-size=\"14.00\">X4</text>\n",
       "</g>\n",
       "<!-- X3&#45;&#45;X4 -->\n",
       "<g id=\"edge2\" class=\"edge\">\n",
       "<title>X3&#45;&#45;X4</title>\n",
       "<path fill=\"none\" stroke=\"black\" d=\"M77.4,-72.41C81.64,-61.41 87.19,-47.03 91.46,-35.96\"/>\n",
       "</g>\n",
       "<!-- X4&#45;&#45;X2 -->\n",
       "<g id=\"edge3\" class=\"edge\">\n",
       "<title>X4&#45;&#45;X2</title>\n",
       "<path fill=\"none\" stroke=\"black\" d=\"M101.65,-36.09C103.68,-46.43 105.98,-59.91 107,-72 108.34,-87.94 108.2,-92.04 107,-108 106.09,-120.06 104.05,-133.54 102.25,-143.89\"/>\n",
       "</g>\n",
       "</g>\n",
       "</svg>\n"
      ],
      "text/plain": [
       "<graphviz.dot.Graph at 0x7fbda4a22820>"
      ]
     },
     "execution_count": 22,
     "metadata": {},
     "output_type": "execute_result"
    }
   ],
   "source": [
    "from graphviz import Graph\n",
    "\n",
    "g = Graph()\n",
    "\n",
    "g.node('X1')\n",
    "g.edge('X2', 'X3')\n",
    "g.edge('X3', 'X4')\n",
    "g.edge('X4', 'X2')\n",
    "\n",
    "g"
   ]
  },
  {
   "cell_type": "markdown",
   "metadata": {},
   "source": [
    "**(c)** $\\log f = \\psi_\\varnothing + \\psi_1 + \\psi_2 + \\psi_3 + \\psi_4 + \\psi_{23} + \\psi_{34} + \\psi_{14} + \\psi_{12}$\n",
    "\n",
    "This is a graphical and hierarchical model.  It corresponds to model generator $1.2 + 2.3 + 3.4 + 4.1$; the only conditional independences require the other two given variables.  The graph is as follows:"
   ]
  },
  {
   "cell_type": "code",
   "execution_count": 23,
   "metadata": {},
   "outputs": [
    {
     "data": {
      "image/svg+xml": [
       "<?xml version=\"1.0\" encoding=\"UTF-8\" standalone=\"no\"?>\n",
       "<!DOCTYPE svg PUBLIC \"-//W3C//DTD SVG 1.1//EN\"\n",
       " \"http://www.w3.org/Graphics/SVG/1.1/DTD/svg11.dtd\">\n",
       "<!-- Generated by graphviz version 2.43.0 (0)\n",
       " -->\n",
       "<!-- Title: %3 Pages: 1 -->\n",
       "<svg width=\"89pt\" height=\"260pt\"\n",
       " viewBox=\"0.00 0.00 89.00 260.00\" xmlns=\"http://www.w3.org/2000/svg\" xmlns:xlink=\"http://www.w3.org/1999/xlink\">\n",
       "<g id=\"graph0\" class=\"graph\" transform=\"scale(1 1) rotate(0) translate(4 256)\">\n",
       "<title>%3</title>\n",
       "<polygon fill=\"white\" stroke=\"transparent\" points=\"-4,4 -4,-256 85,-256 85,4 -4,4\"/>\n",
       "<!-- X1 -->\n",
       "<g id=\"node1\" class=\"node\">\n",
       "<title>X1</title>\n",
       "<ellipse fill=\"none\" stroke=\"black\" cx=\"54\" cy=\"-234\" rx=\"27\" ry=\"18\"/>\n",
       "<text text-anchor=\"middle\" x=\"54\" y=\"-230.3\" font-family=\"Times,serif\" font-size=\"14.00\">X1</text>\n",
       "</g>\n",
       "<!-- X2 -->\n",
       "<g id=\"node2\" class=\"node\">\n",
       "<title>X2</title>\n",
       "<ellipse fill=\"none\" stroke=\"black\" cx=\"27\" cy=\"-162\" rx=\"27\" ry=\"18\"/>\n",
       "<text text-anchor=\"middle\" x=\"27\" y=\"-158.3\" font-family=\"Times,serif\" font-size=\"14.00\">X2</text>\n",
       "</g>\n",
       "<!-- X1&#45;&#45;X2 -->\n",
       "<g id=\"edge1\" class=\"edge\">\n",
       "<title>X1&#45;&#45;X2</title>\n",
       "<path fill=\"none\" stroke=\"black\" d=\"M47.6,-216.41C43.36,-205.41 37.81,-191.03 33.54,-179.96\"/>\n",
       "</g>\n",
       "<!-- X4 -->\n",
       "<g id=\"node3\" class=\"node\">\n",
       "<title>X4</title>\n",
       "<ellipse fill=\"none\" stroke=\"black\" cx=\"54\" cy=\"-18\" rx=\"27\" ry=\"18\"/>\n",
       "<text text-anchor=\"middle\" x=\"54\" y=\"-14.3\" font-family=\"Times,serif\" font-size=\"14.00\">X4</text>\n",
       "</g>\n",
       "<!-- X1&#45;&#45;X4 -->\n",
       "<g id=\"edge2\" class=\"edge\">\n",
       "<title>X1&#45;&#45;X4</title>\n",
       "<path fill=\"none\" stroke=\"black\" d=\"M57.65,-215.91C59.68,-205.57 61.98,-192.09 63,-180 67.03,-132.17 67.03,-119.83 63,-72 61.98,-59.91 59.68,-46.43 57.65,-36.09\"/>\n",
       "</g>\n",
       "<!-- X3 -->\n",
       "<g id=\"node4\" class=\"node\">\n",
       "<title>X3</title>\n",
       "<ellipse fill=\"none\" stroke=\"black\" cx=\"27\" cy=\"-90\" rx=\"27\" ry=\"18\"/>\n",
       "<text text-anchor=\"middle\" x=\"27\" y=\"-86.3\" font-family=\"Times,serif\" font-size=\"14.00\">X3</text>\n",
       "</g>\n",
       "<!-- X2&#45;&#45;X3 -->\n",
       "<g id=\"edge4\" class=\"edge\">\n",
       "<title>X2&#45;&#45;X3</title>\n",
       "<path fill=\"none\" stroke=\"black\" d=\"M27,-143.7C27,-132.85 27,-118.92 27,-108.1\"/>\n",
       "</g>\n",
       "<!-- X3&#45;&#45;X4 -->\n",
       "<g id=\"edge3\" class=\"edge\">\n",
       "<title>X3&#45;&#45;X4</title>\n",
       "<path fill=\"none\" stroke=\"black\" d=\"M33.4,-72.41C37.64,-61.41 43.19,-47.03 47.46,-35.96\"/>\n",
       "</g>\n",
       "</g>\n",
       "</svg>\n"
      ],
      "text/plain": [
       "<graphviz.dot.Graph at 0x7fbda49fd250>"
      ]
     },
     "execution_count": 23,
     "metadata": {},
     "output_type": "execute_result"
    }
   ],
   "source": [
    "from graphviz import Graph\n",
    "\n",
    "g = Graph()\n",
    "\n",
    "g.edge('X1', 'X2')\n",
    "g.edge('X1', 'X4')\n",
    "g.edge('X3', 'X4')\n",
    "g.edge('X2', 'X3')\n",
    "\n",
    "g"
   ]
  },
  {
   "cell_type": "markdown",
   "metadata": {},
   "source": [
    "**(d)** $\\log f = \\psi_\\varnothing + \\psi_{1234}$\n",
    "\n",
    "This model has dependencies between all variables, but it is not graphical nor hierarchical; $\\psi_{12} = 0$ but $\\psi_{1234} \\neq 0$.  We can nonetheless draw a graph that would include this model without including all of its independence information by drawing a fully saturated graph:"
   ]
  },
  {
   "cell_type": "code",
   "execution_count": 24,
   "metadata": {},
   "outputs": [
    {
     "data": {
      "image/svg+xml": [
       "<?xml version=\"1.0\" encoding=\"UTF-8\" standalone=\"no\"?>\n",
       "<!DOCTYPE svg PUBLIC \"-//W3C//DTD SVG 1.1//EN\"\n",
       " \"http://www.w3.org/Graphics/SVG/1.1/DTD/svg11.dtd\">\n",
       "<!-- Generated by graphviz version 2.43.0 (0)\n",
       " -->\n",
       "<!-- Title: %3 Pages: 1 -->\n",
       "<svg width=\"122pt\" height=\"260pt\"\n",
       " viewBox=\"0.00 0.00 122.47 260.00\" xmlns=\"http://www.w3.org/2000/svg\" xmlns:xlink=\"http://www.w3.org/1999/xlink\">\n",
       "<g id=\"graph0\" class=\"graph\" transform=\"scale(1 1) rotate(0) translate(4 256)\">\n",
       "<title>%3</title>\n",
       "<polygon fill=\"white\" stroke=\"transparent\" points=\"-4,4 -4,-256 118.47,-256 118.47,4 -4,4\"/>\n",
       "<!-- X1 -->\n",
       "<g id=\"node1\" class=\"node\">\n",
       "<title>X1</title>\n",
       "<ellipse fill=\"none\" stroke=\"black\" cx=\"73\" cy=\"-234\" rx=\"27\" ry=\"18\"/>\n",
       "<text text-anchor=\"middle\" x=\"73\" y=\"-230.3\" font-family=\"Times,serif\" font-size=\"14.00\">X1</text>\n",
       "</g>\n",
       "<!-- X2 -->\n",
       "<g id=\"node2\" class=\"node\">\n",
       "<title>X2</title>\n",
       "<ellipse fill=\"none\" stroke=\"black\" cx=\"73\" cy=\"-162\" rx=\"27\" ry=\"18\"/>\n",
       "<text text-anchor=\"middle\" x=\"73\" y=\"-158.3\" font-family=\"Times,serif\" font-size=\"14.00\">X2</text>\n",
       "</g>\n",
       "<!-- X1&#45;&#45;X2 -->\n",
       "<g id=\"edge1\" class=\"edge\">\n",
       "<title>X1&#45;&#45;X2</title>\n",
       "<path fill=\"none\" stroke=\"black\" d=\"M73,-215.7C73,-204.85 73,-190.92 73,-180.1\"/>\n",
       "</g>\n",
       "<!-- X3 -->\n",
       "<g id=\"node3\" class=\"node\">\n",
       "<title>X3</title>\n",
       "<ellipse fill=\"none\" stroke=\"black\" cx=\"27\" cy=\"-90\" rx=\"27\" ry=\"18\"/>\n",
       "<text text-anchor=\"middle\" x=\"27\" y=\"-86.3\" font-family=\"Times,serif\" font-size=\"14.00\">X3</text>\n",
       "</g>\n",
       "<!-- X1&#45;&#45;X3 -->\n",
       "<g id=\"edge2\" class=\"edge\">\n",
       "<title>X1&#45;&#45;X3</title>\n",
       "<path fill=\"none\" stroke=\"black\" d=\"M59.79,-217.89C51.79,-207.85 42.17,-193.98 37,-180 28.21,-156.23 26.56,-126.65 26.52,-108.29\"/>\n",
       "</g>\n",
       "<!-- X4 -->\n",
       "<g id=\"node4\" class=\"node\">\n",
       "<title>X4</title>\n",
       "<ellipse fill=\"none\" stroke=\"black\" cx=\"82\" cy=\"-18\" rx=\"27\" ry=\"18\"/>\n",
       "<text text-anchor=\"middle\" x=\"82\" y=\"-14.3\" font-family=\"Times,serif\" font-size=\"14.00\">X4</text>\n",
       "</g>\n",
       "<!-- X1&#45;&#45;X4 -->\n",
       "<g id=\"edge3\" class=\"edge\">\n",
       "<title>X1&#45;&#45;X4</title>\n",
       "<path fill=\"none\" stroke=\"black\" d=\"M86.75,-218.07C94.96,-208.1 104.62,-194.25 109,-180 124.83,-128.53 102.29,-64.77 89.61,-35.32\"/>\n",
       "</g>\n",
       "<!-- X2&#45;&#45;X3 -->\n",
       "<g id=\"edge4\" class=\"edge\">\n",
       "<title>X2&#45;&#45;X3</title>\n",
       "<path fill=\"none\" stroke=\"black\" d=\"M62.56,-145.12C55.03,-133.66 44.92,-118.26 37.4,-106.82\"/>\n",
       "</g>\n",
       "<!-- X2&#45;&#45;X4 -->\n",
       "<g id=\"edge5\" class=\"edge\">\n",
       "<title>X2&#45;&#45;X4</title>\n",
       "<path fill=\"none\" stroke=\"black\" d=\"M74.09,-143.87C75.82,-116.58 79.18,-63.52 80.91,-36.19\"/>\n",
       "</g>\n",
       "<!-- X3&#45;&#45;X4 -->\n",
       "<g id=\"edge6\" class=\"edge\">\n",
       "<title>X3&#45;&#45;X4</title>\n",
       "<path fill=\"none\" stroke=\"black\" d=\"M38.93,-73.81C48.16,-62.07 60.87,-45.89 70.09,-34.16\"/>\n",
       "</g>\n",
       "</g>\n",
       "</svg>\n"
      ],
      "text/plain": [
       "<graphviz.dot.Graph at 0x7fbda4a1b250>"
      ]
     },
     "execution_count": 24,
     "metadata": {},
     "output_type": "execute_result"
    }
   ],
   "source": [
    "from graphviz import Graph\n",
    "\n",
    "g = Graph()\n",
    "\n",
    "g.edge('X1', 'X2')\n",
    "g.edge('X1', 'X3')\n",
    "g.edge('X1', 'X4')\n",
    "g.edge('X2', 'X3')\n",
    "g.edge('X2', 'X4')\n",
    "g.edge('X3', 'X4')\n",
    "\n",
    "g"
   ]
  }
 ],
 "metadata": {
  "kernelspec": {
   "display_name": "Python 3",
   "language": "python",
   "name": "python3"
  },
  "language_info": {
   "codemirror_mode": {
    "name": "ipython",
    "version": 3
   },
   "file_extension": ".py",
   "mimetype": "text/x-python",
   "name": "python",
   "nbconvert_exporter": "python",
   "pygments_lexer": "ipython3",
   "version": "3.8.5"
  }
 },
 "nbformat": 4,
 "nbformat_minor": 4
}
